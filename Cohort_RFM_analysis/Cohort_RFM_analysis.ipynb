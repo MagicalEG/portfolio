{
 "cells": [
  {
   "cell_type": "code",
   "execution_count": 194,
   "id": "79c9493c-b6bc-4458-8039-8003e52c86d8",
   "metadata": {},
   "outputs": [],
   "source": [
    "# импортируем библиотеки необходимые для дальнейшего анализа\n",
    "import pandas as pd\n",
    "import matplotlib.pyplot as plt\n",
    "import numpy as np\n",
    "import seaborn as sns\n",
    "import datetime as dt\n",
    "import plotly.express as px\n",
    "\n",
    "# модуль поможет убрать предупреждения, которые могут выкидывать некоторые методы\n",
    "import warnings\n",
    "warnings.filterwarnings(\"ignore\")\n",
    "\n",
    "# параметры для будущих графиков\n",
    "sns.set(rc={'figure.figsize':(14,8)}, style=\"whitegrid\", font='sans-serif')"
   ]
  },
  {
   "cell_type": "markdown",
   "id": "26ad8433-de91-4f2e-9b56-f69d6b42b4e3",
   "metadata": {},
   "source": [
    "### В этом проекте проведу анализ данных по факту пользовательских покупок, попутно отвечая на следующие вопросы:\n",
    "1. Сколько у нас пользователей, которые совершили покупку только один раз? \n",
    "2. Сколько заказов в месяц в среднем не доставляется по разным причинам (вывести детализацию по причинам)? \n",
    "3. По каждому товару определить, в какой день недели товар чаще всего покупали\n",
    "4. Используя pandas, проведём когортный анализ пользователей. В период с января по декабрь выявим когорту с самым высоким retention на 3й месяц.\n",
    "5. Проведём RFM анализ пользователей."
   ]
  },
  {
   "cell_type": "markdown",
   "id": "d6416f8f-997e-40dc-8ead-5928cf4ed05e",
   "metadata": {},
   "source": [
    "### 1. Загрузим данные, проведём предварительный анализ, ответим на вопрос, что будем считать за свершившуюся покупку"
   ]
  },
  {
   "cell_type": "markdown",
   "id": "401dd1a3-c43f-46b3-aa72-0a22dfa12b77",
   "metadata": {},
   "source": [
    "**Таблица №1**"
   ]
  },
  {
   "cell_type": "code",
   "execution_count": 3,
   "id": "1e2dee72-cc39-4117-9444-ce53169a8063",
   "metadata": {},
   "outputs": [],
   "source": [
    "# таблица с уникальными идентификаторами пользователей\n",
    "uniq_customer_id = pd.read_csv('C:/Users/MAGICAL/Desktop/Python/df/olist_customers_dataset.csv')"
   ]
  },
  {
   "cell_type": "markdown",
   "id": "ad55ee0e-41a6-4f8b-80b0-1e2716f03054",
   "metadata": {},
   "source": [
    "**расшифровка названий колонок в данных**\n",
    "\n",
    "customer_id — позаказный идентификатор пользователя\n",
    "\n",
    "customer_unique_id —  уникальный идентификатор пользователя  (аналог номера паспорта)\n",
    "\n",
    "customer_zip_code_prefix —  почтовый индекс пользователя\n",
    "\n",
    "customer_city —  город доставки пользователя\n",
    "\n",
    "customer_state —  штат доставки пользователя"
   ]
  },
  {
   "cell_type": "code",
   "execution_count": 4,
   "id": "5710e0b0-2b9f-4e78-9053-0f96b4ce83c2",
   "metadata": {},
   "outputs": [
    {
     "data": {
      "text/html": [
       "<div>\n",
       "<style scoped>\n",
       "    .dataframe tbody tr th:only-of-type {\n",
       "        vertical-align: middle;\n",
       "    }\n",
       "\n",
       "    .dataframe tbody tr th {\n",
       "        vertical-align: top;\n",
       "    }\n",
       "\n",
       "    .dataframe thead th {\n",
       "        text-align: right;\n",
       "    }\n",
       "</style>\n",
       "<table border=\"1\" class=\"dataframe\">\n",
       "  <thead>\n",
       "    <tr style=\"text-align: right;\">\n",
       "      <th></th>\n",
       "      <th>customer_id</th>\n",
       "      <th>customer_unique_id</th>\n",
       "      <th>customer_zip_code_prefix</th>\n",
       "      <th>customer_city</th>\n",
       "      <th>customer_state</th>\n",
       "    </tr>\n",
       "  </thead>\n",
       "  <tbody>\n",
       "    <tr>\n",
       "      <th>0</th>\n",
       "      <td>06b8999e2fba1a1fbc88172c00ba8bc7</td>\n",
       "      <td>861eff4711a542e4b93843c6dd7febb0</td>\n",
       "      <td>14409</td>\n",
       "      <td>franca</td>\n",
       "      <td>SP</td>\n",
       "    </tr>\n",
       "    <tr>\n",
       "      <th>1</th>\n",
       "      <td>18955e83d337fd6b2def6b18a428ac77</td>\n",
       "      <td>290c77bc529b7ac935b93aa66c333dc3</td>\n",
       "      <td>9790</td>\n",
       "      <td>sao bernardo do campo</td>\n",
       "      <td>SP</td>\n",
       "    </tr>\n",
       "    <tr>\n",
       "      <th>2</th>\n",
       "      <td>4e7b3e00288586ebd08712fdd0374a03</td>\n",
       "      <td>060e732b5b29e8181a18229c7b0b2b5e</td>\n",
       "      <td>1151</td>\n",
       "      <td>sao paulo</td>\n",
       "      <td>SP</td>\n",
       "    </tr>\n",
       "    <tr>\n",
       "      <th>3</th>\n",
       "      <td>b2b6027bc5c5109e529d4dc6358b12c3</td>\n",
       "      <td>259dac757896d24d7702b9acbbff3f3c</td>\n",
       "      <td>8775</td>\n",
       "      <td>mogi das cruzes</td>\n",
       "      <td>SP</td>\n",
       "    </tr>\n",
       "    <tr>\n",
       "      <th>4</th>\n",
       "      <td>4f2d8ab171c80ec8364f7c12e35b23ad</td>\n",
       "      <td>345ecd01c38d18a9036ed96c73b8d066</td>\n",
       "      <td>13056</td>\n",
       "      <td>campinas</td>\n",
       "      <td>SP</td>\n",
       "    </tr>\n",
       "  </tbody>\n",
       "</table>\n",
       "</div>"
      ],
      "text/plain": [
       "                        customer_id                customer_unique_id  \\\n",
       "0  06b8999e2fba1a1fbc88172c00ba8bc7  861eff4711a542e4b93843c6dd7febb0   \n",
       "1  18955e83d337fd6b2def6b18a428ac77  290c77bc529b7ac935b93aa66c333dc3   \n",
       "2  4e7b3e00288586ebd08712fdd0374a03  060e732b5b29e8181a18229c7b0b2b5e   \n",
       "3  b2b6027bc5c5109e529d4dc6358b12c3  259dac757896d24d7702b9acbbff3f3c   \n",
       "4  4f2d8ab171c80ec8364f7c12e35b23ad  345ecd01c38d18a9036ed96c73b8d066   \n",
       "\n",
       "   customer_zip_code_prefix          customer_city customer_state  \n",
       "0                     14409                 franca             SP  \n",
       "1                      9790  sao bernardo do campo             SP  \n",
       "2                      1151              sao paulo             SP  \n",
       "3                      8775        mogi das cruzes             SP  \n",
       "4                     13056               campinas             SP  "
      ]
     },
     "execution_count": 4,
     "metadata": {},
     "output_type": "execute_result"
    }
   ],
   "source": [
    "uniq_customer_id.head()"
   ]
  },
  {
   "cell_type": "code",
   "execution_count": 5,
   "id": "ea38f5e5-b590-4ee8-961f-06c70aefa490",
   "metadata": {},
   "outputs": [
    {
     "name": "stdout",
     "output_type": "stream",
     "text": [
      "<class 'pandas.core.frame.DataFrame'>\n",
      "RangeIndex: 99441 entries, 0 to 99440\n",
      "Data columns (total 5 columns):\n",
      " #   Column                    Non-Null Count  Dtype \n",
      "---  ------                    --------------  ----- \n",
      " 0   customer_id               99441 non-null  object\n",
      " 1   customer_unique_id        99441 non-null  object\n",
      " 2   customer_zip_code_prefix  99441 non-null  int64 \n",
      " 3   customer_city             99441 non-null  object\n",
      " 4   customer_state            99441 non-null  object\n",
      "dtypes: int64(1), object(4)\n",
      "memory usage: 3.8+ MB\n"
     ]
    }
   ],
   "source": [
    "# общая информация\n",
    "uniq_customer_id.info()"
   ]
  },
  {
   "cell_type": "code",
   "execution_count": 6,
   "id": "629d8da5-d35a-4710-ac77-3c9fdaa2035b",
   "metadata": {},
   "outputs": [
    {
     "data": {
      "text/plain": [
       "customer_id                 0\n",
       "customer_unique_id          0\n",
       "customer_zip_code_prefix    0\n",
       "customer_city               0\n",
       "customer_state              0\n",
       "dtype: int64"
      ]
     },
     "execution_count": 6,
     "metadata": {},
     "output_type": "execute_result"
    }
   ],
   "source": [
    "# проверка на количество Na значении\n",
    "uniq_customer_id.isna().sum()"
   ]
  },
  {
   "cell_type": "code",
   "execution_count": 7,
   "id": "46a6d540-813e-472f-ab49-4244d51f18bf",
   "metadata": {},
   "outputs": [
    {
     "data": {
      "text/html": [
       "<div>\n",
       "<style scoped>\n",
       "    .dataframe tbody tr th:only-of-type {\n",
       "        vertical-align: middle;\n",
       "    }\n",
       "\n",
       "    .dataframe tbody tr th {\n",
       "        vertical-align: top;\n",
       "    }\n",
       "\n",
       "    .dataframe thead th {\n",
       "        text-align: right;\n",
       "    }\n",
       "</style>\n",
       "<table border=\"1\" class=\"dataframe\">\n",
       "  <thead>\n",
       "    <tr style=\"text-align: right;\">\n",
       "      <th></th>\n",
       "      <th>customer_id</th>\n",
       "      <th>customer_unique_id</th>\n",
       "      <th>customer_zip_code_prefix</th>\n",
       "      <th>customer_city</th>\n",
       "      <th>customer_state</th>\n",
       "    </tr>\n",
       "  </thead>\n",
       "  <tbody>\n",
       "  </tbody>\n",
       "</table>\n",
       "</div>"
      ],
      "text/plain": [
       "Empty DataFrame\n",
       "Columns: [customer_id, customer_unique_id, customer_zip_code_prefix, customer_city, customer_state]\n",
       "Index: []"
      ]
     },
     "execution_count": 7,
     "metadata": {},
     "output_type": "execute_result"
    }
   ],
   "source": [
    "# проверим данные на дубликаты\n",
    "duplicateRows = uniq_customer_id[uniq_customer_id.duplicated()]\n",
    "duplicateRows"
   ]
  },
  {
   "cell_type": "markdown",
   "id": "fb12fb91-4192-4d2d-b2e0-197c85586ae9",
   "metadata": {},
   "source": [
    "**Таблица №2**"
   ]
  },
  {
   "cell_type": "code",
   "execution_count": 8,
   "id": "e2a24c72-6d48-4112-aa2a-15390efab70c",
   "metadata": {},
   "outputs": [],
   "source": [
    "# товарные позиции, входящие в заказы\n",
    "product_id_data = pd.read_csv('C:/Users/MAGICAL/Desktop/Python/df/olist_order_items_dataset.csv')"
   ]
  },
  {
   "cell_type": "markdown",
   "id": "1057749d-d8fc-4971-84a0-d63a13e81d35",
   "metadata": {},
   "source": [
    "**расшифровка названий колонок в данных**\n",
    "\n",
    "order_id —  уникальный идентификатор заказа (номер чека)\n",
    "\n",
    "order_item_id —  идентификатор товара внутри одного заказа\n",
    "\n",
    "product_id —  ид товара (аналог штрихкода)\n",
    "\n",
    "seller_id — ид производителя товара\n",
    "\n",
    "shipping_limit_date —  максимальная дата доставки продавцом для передачи заказа партнеру по логистике\n",
    "\n",
    "price —  цена за единицу товара\n",
    "\n",
    "freight_value —  вес товара"
   ]
  },
  {
   "cell_type": "code",
   "execution_count": 13,
   "id": "2f53f3db-31a3-4581-a716-78f10399347a",
   "metadata": {},
   "outputs": [
    {
     "data": {
      "text/html": [
       "<div>\n",
       "<style scoped>\n",
       "    .dataframe tbody tr th:only-of-type {\n",
       "        vertical-align: middle;\n",
       "    }\n",
       "\n",
       "    .dataframe tbody tr th {\n",
       "        vertical-align: top;\n",
       "    }\n",
       "\n",
       "    .dataframe thead th {\n",
       "        text-align: right;\n",
       "    }\n",
       "</style>\n",
       "<table border=\"1\" class=\"dataframe\">\n",
       "  <thead>\n",
       "    <tr style=\"text-align: right;\">\n",
       "      <th></th>\n",
       "      <th>order_id</th>\n",
       "      <th>order_item_id</th>\n",
       "      <th>product_id</th>\n",
       "      <th>seller_id</th>\n",
       "      <th>shipping_limit_date</th>\n",
       "      <th>price</th>\n",
       "      <th>freight_value</th>\n",
       "    </tr>\n",
       "  </thead>\n",
       "  <tbody>\n",
       "    <tr>\n",
       "      <th>0</th>\n",
       "      <td>00010242fe8c5a6d1ba2dd792cb16214</td>\n",
       "      <td>1</td>\n",
       "      <td>4244733e06e7ecb4970a6e2683c13e61</td>\n",
       "      <td>48436dade18ac8b2bce089ec2a041202</td>\n",
       "      <td>2017-09-19 09:45:35</td>\n",
       "      <td>58.90</td>\n",
       "      <td>13.29</td>\n",
       "    </tr>\n",
       "    <tr>\n",
       "      <th>1</th>\n",
       "      <td>00018f77f2f0320c557190d7a144bdd3</td>\n",
       "      <td>1</td>\n",
       "      <td>e5f2d52b802189ee658865ca93d83a8f</td>\n",
       "      <td>dd7ddc04e1b6c2c614352b383efe2d36</td>\n",
       "      <td>2017-05-03 11:05:13</td>\n",
       "      <td>239.90</td>\n",
       "      <td>19.93</td>\n",
       "    </tr>\n",
       "    <tr>\n",
       "      <th>2</th>\n",
       "      <td>000229ec398224ef6ca0657da4fc703e</td>\n",
       "      <td>1</td>\n",
       "      <td>c777355d18b72b67abbeef9df44fd0fd</td>\n",
       "      <td>5b51032eddd242adc84c38acab88f23d</td>\n",
       "      <td>2018-01-18 14:48:30</td>\n",
       "      <td>199.00</td>\n",
       "      <td>17.87</td>\n",
       "    </tr>\n",
       "    <tr>\n",
       "      <th>3</th>\n",
       "      <td>00024acbcdf0a6daa1e931b038114c75</td>\n",
       "      <td>1</td>\n",
       "      <td>7634da152a4610f1595efa32f14722fc</td>\n",
       "      <td>9d7a1d34a5052409006425275ba1c2b4</td>\n",
       "      <td>2018-08-15 10:10:18</td>\n",
       "      <td>12.99</td>\n",
       "      <td>12.79</td>\n",
       "    </tr>\n",
       "    <tr>\n",
       "      <th>4</th>\n",
       "      <td>00042b26cf59d7ce69dfabb4e55b4fd9</td>\n",
       "      <td>1</td>\n",
       "      <td>ac6c3623068f30de03045865e4e10089</td>\n",
       "      <td>df560393f3a51e74553ab94004ba5c87</td>\n",
       "      <td>2017-02-13 13:57:51</td>\n",
       "      <td>199.90</td>\n",
       "      <td>18.14</td>\n",
       "    </tr>\n",
       "  </tbody>\n",
       "</table>\n",
       "</div>"
      ],
      "text/plain": [
       "                           order_id  order_item_id  \\\n",
       "0  00010242fe8c5a6d1ba2dd792cb16214              1   \n",
       "1  00018f77f2f0320c557190d7a144bdd3              1   \n",
       "2  000229ec398224ef6ca0657da4fc703e              1   \n",
       "3  00024acbcdf0a6daa1e931b038114c75              1   \n",
       "4  00042b26cf59d7ce69dfabb4e55b4fd9              1   \n",
       "\n",
       "                         product_id                         seller_id  \\\n",
       "0  4244733e06e7ecb4970a6e2683c13e61  48436dade18ac8b2bce089ec2a041202   \n",
       "1  e5f2d52b802189ee658865ca93d83a8f  dd7ddc04e1b6c2c614352b383efe2d36   \n",
       "2  c777355d18b72b67abbeef9df44fd0fd  5b51032eddd242adc84c38acab88f23d   \n",
       "3  7634da152a4610f1595efa32f14722fc  9d7a1d34a5052409006425275ba1c2b4   \n",
       "4  ac6c3623068f30de03045865e4e10089  df560393f3a51e74553ab94004ba5c87   \n",
       "\n",
       "   shipping_limit_date   price  freight_value  \n",
       "0  2017-09-19 09:45:35   58.90          13.29  \n",
       "1  2017-05-03 11:05:13  239.90          19.93  \n",
       "2  2018-01-18 14:48:30  199.00          17.87  \n",
       "3  2018-08-15 10:10:18   12.99          12.79  \n",
       "4  2017-02-13 13:57:51  199.90          18.14  "
      ]
     },
     "execution_count": 13,
     "metadata": {},
     "output_type": "execute_result"
    }
   ],
   "source": [
    "product_id_data.head()"
   ]
  },
  {
   "cell_type": "code",
   "execution_count": 12,
   "id": "cd789a30-a527-4d68-b2fd-3b0d6d3e0e79",
   "metadata": {},
   "outputs": [
    {
     "name": "stdout",
     "output_type": "stream",
     "text": [
      "<class 'pandas.core.frame.DataFrame'>\n",
      "RangeIndex: 112650 entries, 0 to 112649\n",
      "Data columns (total 7 columns):\n",
      " #   Column               Non-Null Count   Dtype  \n",
      "---  ------               --------------   -----  \n",
      " 0   order_id             112650 non-null  object \n",
      " 1   order_item_id        112650 non-null  int64  \n",
      " 2   product_id           112650 non-null  object \n",
      " 3   seller_id            112650 non-null  object \n",
      " 4   shipping_limit_date  112650 non-null  object \n",
      " 5   price                112650 non-null  float64\n",
      " 6   freight_value        112650 non-null  float64\n",
      "dtypes: float64(2), int64(1), object(4)\n",
      "memory usage: 6.0+ MB\n"
     ]
    }
   ],
   "source": [
    "# общая информация\n",
    "product_id_data.info()"
   ]
  },
  {
   "cell_type": "code",
   "execution_count": 11,
   "id": "6c2ca686-94fb-4e60-a39e-80e5e2fcfaf7",
   "metadata": {},
   "outputs": [
    {
     "data": {
      "text/plain": [
       "order_id               0\n",
       "order_item_id          0\n",
       "product_id             0\n",
       "seller_id              0\n",
       "shipping_limit_date    0\n",
       "price                  0\n",
       "freight_value          0\n",
       "dtype: int64"
      ]
     },
     "execution_count": 11,
     "metadata": {},
     "output_type": "execute_result"
    }
   ],
   "source": [
    "# проверка на количество Na значении\n",
    "product_id_data.isna().sum()"
   ]
  },
  {
   "cell_type": "code",
   "execution_count": 10,
   "id": "079ec107-25a4-48ff-8d53-5ae4a7e3ddb2",
   "metadata": {},
   "outputs": [
    {
     "data": {
      "text/html": [
       "<div>\n",
       "<style scoped>\n",
       "    .dataframe tbody tr th:only-of-type {\n",
       "        vertical-align: middle;\n",
       "    }\n",
       "\n",
       "    .dataframe tbody tr th {\n",
       "        vertical-align: top;\n",
       "    }\n",
       "\n",
       "    .dataframe thead th {\n",
       "        text-align: right;\n",
       "    }\n",
       "</style>\n",
       "<table border=\"1\" class=\"dataframe\">\n",
       "  <thead>\n",
       "    <tr style=\"text-align: right;\">\n",
       "      <th></th>\n",
       "      <th>order_id</th>\n",
       "      <th>order_item_id</th>\n",
       "      <th>product_id</th>\n",
       "      <th>seller_id</th>\n",
       "      <th>shipping_limit_date</th>\n",
       "      <th>price</th>\n",
       "      <th>freight_value</th>\n",
       "    </tr>\n",
       "  </thead>\n",
       "  <tbody>\n",
       "  </tbody>\n",
       "</table>\n",
       "</div>"
      ],
      "text/plain": [
       "Empty DataFrame\n",
       "Columns: [order_id, order_item_id, product_id, seller_id, shipping_limit_date, price, freight_value]\n",
       "Index: []"
      ]
     },
     "execution_count": 10,
     "metadata": {},
     "output_type": "execute_result"
    }
   ],
   "source": [
    "# проверим данные на дубликаты\n",
    "duplicateRows = product_id_data[product_id_data.duplicated()]\n",
    "duplicateRows"
   ]
  },
  {
   "cell_type": "markdown",
   "id": "926eded9-5d29-48cd-899d-884bbbf1dd2a",
   "metadata": {},
   "source": [
    "**Таблица №3**"
   ]
  },
  {
   "cell_type": "code",
   "execution_count": 15,
   "id": "fb2ed78c-43f8-4b82-b299-93d5d60ea45b",
   "metadata": {},
   "outputs": [],
   "source": [
    "# таблица заказов\n",
    "data_orders = pd.read_csv('C:/Users/MAGICAL/Desktop/Python/df/olist_orders_dataset.csv', parse_dates=['order_approved_at', 'order_purchase_timestamp', 'order_delivered_carrier_date', 'order_delivered_customer_date', 'order_estimated_delivery_date'])"
   ]
  },
  {
   "cell_type": "markdown",
   "id": "d395913e-edf5-4ea1-97b7-10bb1dfa4438",
   "metadata": {},
   "source": [
    "**расшифровка названий колонок в данных**\n",
    "\n",
    "order_id —  уникальный идентификатор заказа (номер чека)\n",
    "\n",
    "customer_id —  позаказный идентификатор пользователя\n",
    "\n",
    "order_status —  статус заказа\n",
    "\n",
    "order_purchase_timestamp —  время создания заказа\n",
    "\n",
    "order_approved_at —  время подтверждения оплаты заказа\n",
    "\n",
    "order_delivered_carrier_date —  время передачи заказа в логистическую службу\n",
    "\n",
    "order_delivered_customer_date —  время доставки заказа\n",
    "\n",
    "order_estimated_delivery_date —  обещанная дата доставки"
   ]
  },
  {
   "cell_type": "code",
   "execution_count": 16,
   "id": "73fbdc64-a34c-4587-bf76-f4c688f9f62b",
   "metadata": {},
   "outputs": [
    {
     "data": {
      "text/html": [
       "<div>\n",
       "<style scoped>\n",
       "    .dataframe tbody tr th:only-of-type {\n",
       "        vertical-align: middle;\n",
       "    }\n",
       "\n",
       "    .dataframe tbody tr th {\n",
       "        vertical-align: top;\n",
       "    }\n",
       "\n",
       "    .dataframe thead th {\n",
       "        text-align: right;\n",
       "    }\n",
       "</style>\n",
       "<table border=\"1\" class=\"dataframe\">\n",
       "  <thead>\n",
       "    <tr style=\"text-align: right;\">\n",
       "      <th></th>\n",
       "      <th>order_id</th>\n",
       "      <th>customer_id</th>\n",
       "      <th>order_status</th>\n",
       "      <th>order_purchase_timestamp</th>\n",
       "      <th>order_approved_at</th>\n",
       "      <th>order_delivered_carrier_date</th>\n",
       "      <th>order_delivered_customer_date</th>\n",
       "      <th>order_estimated_delivery_date</th>\n",
       "    </tr>\n",
       "  </thead>\n",
       "  <tbody>\n",
       "    <tr>\n",
       "      <th>0</th>\n",
       "      <td>e481f51cbdc54678b7cc49136f2d6af7</td>\n",
       "      <td>9ef432eb6251297304e76186b10a928d</td>\n",
       "      <td>delivered</td>\n",
       "      <td>2017-10-02 10:56:33</td>\n",
       "      <td>2017-10-02 11:07:15</td>\n",
       "      <td>2017-10-04 19:55:00</td>\n",
       "      <td>2017-10-10 21:25:13</td>\n",
       "      <td>2017-10-18</td>\n",
       "    </tr>\n",
       "    <tr>\n",
       "      <th>1</th>\n",
       "      <td>53cdb2fc8bc7dce0b6741e2150273451</td>\n",
       "      <td>b0830fb4747a6c6d20dea0b8c802d7ef</td>\n",
       "      <td>delivered</td>\n",
       "      <td>2018-07-24 20:41:37</td>\n",
       "      <td>2018-07-26 03:24:27</td>\n",
       "      <td>2018-07-26 14:31:00</td>\n",
       "      <td>2018-08-07 15:27:45</td>\n",
       "      <td>2018-08-13</td>\n",
       "    </tr>\n",
       "    <tr>\n",
       "      <th>2</th>\n",
       "      <td>47770eb9100c2d0c44946d9cf07ec65d</td>\n",
       "      <td>41ce2a54c0b03bf3443c3d931a367089</td>\n",
       "      <td>delivered</td>\n",
       "      <td>2018-08-08 08:38:49</td>\n",
       "      <td>2018-08-08 08:55:23</td>\n",
       "      <td>2018-08-08 13:50:00</td>\n",
       "      <td>2018-08-17 18:06:29</td>\n",
       "      <td>2018-09-04</td>\n",
       "    </tr>\n",
       "    <tr>\n",
       "      <th>3</th>\n",
       "      <td>949d5b44dbf5de918fe9c16f97b45f8a</td>\n",
       "      <td>f88197465ea7920adcdbec7375364d82</td>\n",
       "      <td>delivered</td>\n",
       "      <td>2017-11-18 19:28:06</td>\n",
       "      <td>2017-11-18 19:45:59</td>\n",
       "      <td>2017-11-22 13:39:59</td>\n",
       "      <td>2017-12-02 00:28:42</td>\n",
       "      <td>2017-12-15</td>\n",
       "    </tr>\n",
       "    <tr>\n",
       "      <th>4</th>\n",
       "      <td>ad21c59c0840e6cb83a9ceb5573f8159</td>\n",
       "      <td>8ab97904e6daea8866dbdbc4fb7aad2c</td>\n",
       "      <td>delivered</td>\n",
       "      <td>2018-02-13 21:18:39</td>\n",
       "      <td>2018-02-13 22:20:29</td>\n",
       "      <td>2018-02-14 19:46:34</td>\n",
       "      <td>2018-02-16 18:17:02</td>\n",
       "      <td>2018-02-26</td>\n",
       "    </tr>\n",
       "  </tbody>\n",
       "</table>\n",
       "</div>"
      ],
      "text/plain": [
       "                           order_id                       customer_id  \\\n",
       "0  e481f51cbdc54678b7cc49136f2d6af7  9ef432eb6251297304e76186b10a928d   \n",
       "1  53cdb2fc8bc7dce0b6741e2150273451  b0830fb4747a6c6d20dea0b8c802d7ef   \n",
       "2  47770eb9100c2d0c44946d9cf07ec65d  41ce2a54c0b03bf3443c3d931a367089   \n",
       "3  949d5b44dbf5de918fe9c16f97b45f8a  f88197465ea7920adcdbec7375364d82   \n",
       "4  ad21c59c0840e6cb83a9ceb5573f8159  8ab97904e6daea8866dbdbc4fb7aad2c   \n",
       "\n",
       "  order_status order_purchase_timestamp   order_approved_at  \\\n",
       "0    delivered      2017-10-02 10:56:33 2017-10-02 11:07:15   \n",
       "1    delivered      2018-07-24 20:41:37 2018-07-26 03:24:27   \n",
       "2    delivered      2018-08-08 08:38:49 2018-08-08 08:55:23   \n",
       "3    delivered      2017-11-18 19:28:06 2017-11-18 19:45:59   \n",
       "4    delivered      2018-02-13 21:18:39 2018-02-13 22:20:29   \n",
       "\n",
       "  order_delivered_carrier_date order_delivered_customer_date  \\\n",
       "0          2017-10-04 19:55:00           2017-10-10 21:25:13   \n",
       "1          2018-07-26 14:31:00           2018-08-07 15:27:45   \n",
       "2          2018-08-08 13:50:00           2018-08-17 18:06:29   \n",
       "3          2017-11-22 13:39:59           2017-12-02 00:28:42   \n",
       "4          2018-02-14 19:46:34           2018-02-16 18:17:02   \n",
       "\n",
       "  order_estimated_delivery_date  \n",
       "0                    2017-10-18  \n",
       "1                    2018-08-13  \n",
       "2                    2018-09-04  \n",
       "3                    2017-12-15  \n",
       "4                    2018-02-26  "
      ]
     },
     "execution_count": 16,
     "metadata": {},
     "output_type": "execute_result"
    }
   ],
   "source": [
    "data_orders.head()"
   ]
  },
  {
   "cell_type": "code",
   "execution_count": 17,
   "id": "56745c3d-5c4a-469e-a4cb-ec2e0b3aef2c",
   "metadata": {},
   "outputs": [
    {
     "data": {
      "text/plain": [
       "order_id                                 object\n",
       "customer_id                              object\n",
       "order_status                             object\n",
       "order_purchase_timestamp         datetime64[ns]\n",
       "order_approved_at                datetime64[ns]\n",
       "order_delivered_carrier_date     datetime64[ns]\n",
       "order_delivered_customer_date    datetime64[ns]\n",
       "order_estimated_delivery_date    datetime64[ns]\n",
       "dtype: object"
      ]
     },
     "execution_count": 17,
     "metadata": {},
     "output_type": "execute_result"
    }
   ],
   "source": [
    "data_orders.dtypes"
   ]
  },
  {
   "cell_type": "code",
   "execution_count": 21,
   "id": "4dc629ff-01a5-488f-963f-52d71377d6ac",
   "metadata": {},
   "outputs": [
    {
     "name": "stdout",
     "output_type": "stream",
     "text": [
      "<class 'pandas.core.frame.DataFrame'>\n",
      "RangeIndex: 99441 entries, 0 to 99440\n",
      "Data columns (total 8 columns):\n",
      " #   Column                         Non-Null Count  Dtype \n",
      "---  ------                         --------------  ----- \n",
      " 0   order_id                       99441 non-null  object\n",
      " 1   customer_id                    99441 non-null  object\n",
      " 2   order_status                   99441 non-null  object\n",
      " 3   order_purchase_timestamp       99441 non-null  object\n",
      " 4   order_approved_at              99281 non-null  object\n",
      " 5   order_delivered_carrier_date   97658 non-null  object\n",
      " 6   order_delivered_customer_date  96476 non-null  object\n",
      " 7   order_estimated_delivery_date  99441 non-null  object\n",
      "dtypes: object(8)\n",
      "memory usage: 6.1+ MB\n"
     ]
    }
   ],
   "source": [
    "# общая информация\n",
    "data_orders.info()"
   ]
  },
  {
   "cell_type": "code",
   "execution_count": 18,
   "id": "54e80e91-a334-4c1e-b588-1ea5b39f0bd7",
   "metadata": {},
   "outputs": [
    {
     "data": {
      "text/plain": [
       "order_id                            0\n",
       "customer_id                         0\n",
       "order_status                        0\n",
       "order_purchase_timestamp            0\n",
       "order_approved_at                 160\n",
       "order_delivered_carrier_date     1783\n",
       "order_delivered_customer_date    2965\n",
       "order_estimated_delivery_date       0\n",
       "dtype: int64"
      ]
     },
     "execution_count": 18,
     "metadata": {},
     "output_type": "execute_result"
    }
   ],
   "source": [
    "# проверка на количество Na значении\n",
    "data_orders.isna().sum()"
   ]
  },
  {
   "cell_type": "markdown",
   "id": "d9dbc9af-b533-497c-9c11-80fb4f76d782",
   "metadata": {},
   "source": [
    "В данной таблице имеются пропуски в следующих колонках:\n",
    "\n",
    "order_approved_at —  время подтверждения оплаты заказа\n",
    "\n",
    "order_delivered_carrier_date —  время передачи заказа в логистическую службу\n",
    "\n",
    "order_delivered_customer_date —  время доставки заказа"
   ]
  },
  {
   "cell_type": "code",
   "execution_count": 21,
   "id": "98d6a6de-757e-4b70-aad4-b37c34681636",
   "metadata": {},
   "outputs": [
    {
     "data": {
      "text/html": [
       "<div>\n",
       "<style scoped>\n",
       "    .dataframe tbody tr th:only-of-type {\n",
       "        vertical-align: middle;\n",
       "    }\n",
       "\n",
       "    .dataframe tbody tr th {\n",
       "        vertical-align: top;\n",
       "    }\n",
       "\n",
       "    .dataframe thead th {\n",
       "        text-align: right;\n",
       "    }\n",
       "</style>\n",
       "<table border=\"1\" class=\"dataframe\">\n",
       "  <thead>\n",
       "    <tr style=\"text-align: right;\">\n",
       "      <th></th>\n",
       "      <th>order_id</th>\n",
       "      <th>customer_id</th>\n",
       "      <th>order_status</th>\n",
       "      <th>order_purchase_timestamp</th>\n",
       "      <th>order_approved_at</th>\n",
       "      <th>order_delivered_carrier_date</th>\n",
       "      <th>order_delivered_customer_date</th>\n",
       "      <th>order_estimated_delivery_date</th>\n",
       "    </tr>\n",
       "  </thead>\n",
       "  <tbody>\n",
       "  </tbody>\n",
       "</table>\n",
       "</div>"
      ],
      "text/plain": [
       "Empty DataFrame\n",
       "Columns: [order_id, customer_id, order_status, order_purchase_timestamp, order_approved_at, order_delivered_carrier_date, order_delivered_customer_date, order_estimated_delivery_date]\n",
       "Index: []"
      ]
     },
     "execution_count": 21,
     "metadata": {},
     "output_type": "execute_result"
    }
   ],
   "source": [
    "# проверим данные на дубликаты\n",
    "duplicateRows = data_orders[product_id_data.duplicated()]\n",
    "duplicateRows"
   ]
  },
  {
   "cell_type": "markdown",
   "id": "1dd99502-abc0-4ac9-83c3-1281da033cb9",
   "metadata": {},
   "source": [
    "### Для дальнейшего анализа необходимо объдинить в единую таблицу наши данные"
   ]
  },
  {
   "cell_type": "code",
   "execution_count": 23,
   "id": "7265abfe-8b57-4010-9e91-a3a09eb64f92",
   "metadata": {},
   "outputs": [],
   "source": [
    "# объединим данные двух таблиц по колонке order_id, методом = inner\n",
    "product_orders = product_id_data.merge(data_orders, on='order_id', how='inner')"
   ]
  },
  {
   "cell_type": "code",
   "execution_count": 210,
   "id": "541b4115-ae71-4b2e-b550-020d2ccc9587",
   "metadata": {},
   "outputs": [],
   "source": [
    "# по такому же принципу объединим две таблицы, но уже по колонке customer id\n",
    "id_orders_product = uniq_customer_id.merge(product_orders, on='customer_id', how='inner')"
   ]
  },
  {
   "cell_type": "code",
   "execution_count": 25,
   "id": "1e932f56-ce27-4ba5-8971-72b319a2305f",
   "metadata": {},
   "outputs": [
    {
     "data": {
      "text/plain": [
       "(112650, 18)"
      ]
     },
     "execution_count": 25,
     "metadata": {},
     "output_type": "execute_result"
    }
   ],
   "source": [
    "id_orders_product.shape"
   ]
  },
  {
   "cell_type": "code",
   "execution_count": 26,
   "id": "212be721-35fb-443d-94d9-dfae634edf47",
   "metadata": {},
   "outputs": [
    {
     "data": {
      "text/plain": [
       "customer_id                         0\n",
       "customer_unique_id                  0\n",
       "customer_zip_code_prefix            0\n",
       "customer_city                       0\n",
       "customer_state                      0\n",
       "order_id                            0\n",
       "order_item_id                       0\n",
       "product_id                          0\n",
       "seller_id                           0\n",
       "shipping_limit_date                 0\n",
       "price                               0\n",
       "freight_value                       0\n",
       "order_status                        0\n",
       "order_purchase_timestamp            0\n",
       "order_approved_at                  15\n",
       "order_delivered_carrier_date     1194\n",
       "order_delivered_customer_date    2454\n",
       "order_estimated_delivery_date       0\n",
       "dtype: int64"
      ]
     },
     "execution_count": 26,
     "metadata": {},
     "output_type": "execute_result"
    }
   ],
   "source": [
    "id_orders_product.isna().sum()"
   ]
  },
  {
   "cell_type": "code",
   "execution_count": 28,
   "id": "c4baf649-fda0-4666-a13e-c70eb66a58f1",
   "metadata": {},
   "outputs": [],
   "source": [
    "# заменим пропущенные значения на 0, в дальнейшем будем это учитывать\n",
    "id_orders_product = id_orders_product.fillna(0)"
   ]
  },
  {
   "cell_type": "markdown",
   "id": "3a3b0453-6003-4b5f-99bd-15a73ea1fabd",
   "metadata": {},
   "source": [
    "Факт покупки будем считать, что статус заказа не равен = canceled, имеются сведения о времени доставки заказа, а также есть время подтверждения оплаты заказа"
   ]
  },
  {
   "cell_type": "code",
   "execution_count": 29,
   "id": "a54db2af-9b1e-4e8f-b05d-da3532e40c9c",
   "metadata": {},
   "outputs": [],
   "source": [
    "# факт покупки\n",
    "data_fact_of_purchase = id_orders_product.query(\"order_status != 'canceled' and order_delivered_customer_date != 0 and order_approved_at !=0\")"
   ]
  },
  {
   "cell_type": "code",
   "execution_count": 32,
   "id": "d1b4ce14-46fe-4005-8ab8-8fa18e0203df",
   "metadata": {},
   "outputs": [
    {
     "data": {
      "text/html": [
       "<div>\n",
       "<style scoped>\n",
       "    .dataframe tbody tr th:only-of-type {\n",
       "        vertical-align: middle;\n",
       "    }\n",
       "\n",
       "    .dataframe tbody tr th {\n",
       "        vertical-align: top;\n",
       "    }\n",
       "\n",
       "    .dataframe thead th {\n",
       "        text-align: right;\n",
       "    }\n",
       "</style>\n",
       "<table border=\"1\" class=\"dataframe\">\n",
       "  <thead>\n",
       "    <tr style=\"text-align: right;\">\n",
       "      <th></th>\n",
       "      <th>customer_id</th>\n",
       "      <th>customer_unique_id</th>\n",
       "      <th>customer_zip_code_prefix</th>\n",
       "      <th>customer_city</th>\n",
       "      <th>customer_state</th>\n",
       "      <th>order_id</th>\n",
       "      <th>order_item_id</th>\n",
       "      <th>product_id</th>\n",
       "      <th>seller_id</th>\n",
       "      <th>shipping_limit_date</th>\n",
       "      <th>price</th>\n",
       "      <th>freight_value</th>\n",
       "      <th>order_status</th>\n",
       "      <th>order_purchase_timestamp</th>\n",
       "      <th>order_approved_at</th>\n",
       "      <th>order_delivered_carrier_date</th>\n",
       "      <th>order_delivered_customer_date</th>\n",
       "      <th>order_estimated_delivery_date</th>\n",
       "    </tr>\n",
       "  </thead>\n",
       "  <tbody>\n",
       "    <tr>\n",
       "      <th>0</th>\n",
       "      <td>06b8999e2fba1a1fbc88172c00ba8bc7</td>\n",
       "      <td>861eff4711a542e4b93843c6dd7febb0</td>\n",
       "      <td>14409</td>\n",
       "      <td>franca</td>\n",
       "      <td>SP</td>\n",
       "      <td>00e7ee1b050b8499577073aeb2a297a1</td>\n",
       "      <td>1</td>\n",
       "      <td>a9516a079e37a9c9c36b9b78b10169e8</td>\n",
       "      <td>7c67e1448b00f6e969d365cea6b010ab</td>\n",
       "      <td>2017-05-22 15:22:12</td>\n",
       "      <td>124.99</td>\n",
       "      <td>21.88</td>\n",
       "      <td>delivered</td>\n",
       "      <td>2017-05-16 15:05:35</td>\n",
       "      <td>2017-05-16 15:22:12</td>\n",
       "      <td>2017-05-23 10:47:57</td>\n",
       "      <td>2017-05-25 10:35:35</td>\n",
       "      <td>2017-06-05</td>\n",
       "    </tr>\n",
       "    <tr>\n",
       "      <th>1</th>\n",
       "      <td>18955e83d337fd6b2def6b18a428ac77</td>\n",
       "      <td>290c77bc529b7ac935b93aa66c333dc3</td>\n",
       "      <td>9790</td>\n",
       "      <td>sao bernardo do campo</td>\n",
       "      <td>SP</td>\n",
       "      <td>29150127e6685892b6eab3eec79f59c7</td>\n",
       "      <td>1</td>\n",
       "      <td>4aa6014eceb682077f9dc4bffebc05b0</td>\n",
       "      <td>b8bc237ba3788b23da09c0f1f3a3288c</td>\n",
       "      <td>2018-01-18 20:58:32</td>\n",
       "      <td>289.00</td>\n",
       "      <td>46.48</td>\n",
       "      <td>delivered</td>\n",
       "      <td>2018-01-12 20:48:24</td>\n",
       "      <td>2018-01-12 20:58:32</td>\n",
       "      <td>2018-01-15 17:14:59</td>\n",
       "      <td>2018-01-29 12:41:19</td>\n",
       "      <td>2018-02-06</td>\n",
       "    </tr>\n",
       "    <tr>\n",
       "      <th>2</th>\n",
       "      <td>4e7b3e00288586ebd08712fdd0374a03</td>\n",
       "      <td>060e732b5b29e8181a18229c7b0b2b5e</td>\n",
       "      <td>1151</td>\n",
       "      <td>sao paulo</td>\n",
       "      <td>SP</td>\n",
       "      <td>b2059ed67ce144a36e2aa97d2c9e9ad2</td>\n",
       "      <td>1</td>\n",
       "      <td>bd07b66896d6f1494f5b86251848ced7</td>\n",
       "      <td>7c67e1448b00f6e969d365cea6b010ab</td>\n",
       "      <td>2018-06-05 16:19:10</td>\n",
       "      <td>139.94</td>\n",
       "      <td>17.79</td>\n",
       "      <td>delivered</td>\n",
       "      <td>2018-05-19 16:07:45</td>\n",
       "      <td>2018-05-20 16:19:10</td>\n",
       "      <td>2018-06-11 14:31:00</td>\n",
       "      <td>2018-06-14 17:58:51</td>\n",
       "      <td>2018-06-13</td>\n",
       "    </tr>\n",
       "    <tr>\n",
       "      <th>3</th>\n",
       "      <td>b2b6027bc5c5109e529d4dc6358b12c3</td>\n",
       "      <td>259dac757896d24d7702b9acbbff3f3c</td>\n",
       "      <td>8775</td>\n",
       "      <td>mogi das cruzes</td>\n",
       "      <td>SP</td>\n",
       "      <td>951670f92359f4fe4a63112aa7306eba</td>\n",
       "      <td>1</td>\n",
       "      <td>a5647c44af977b148e0a3a4751a09e2e</td>\n",
       "      <td>7c67e1448b00f6e969d365cea6b010ab</td>\n",
       "      <td>2018-03-27 16:31:16</td>\n",
       "      <td>149.94</td>\n",
       "      <td>23.36</td>\n",
       "      <td>delivered</td>\n",
       "      <td>2018-03-13 16:06:38</td>\n",
       "      <td>2018-03-13 17:29:19</td>\n",
       "      <td>2018-03-27 23:22:42</td>\n",
       "      <td>2018-03-28 16:04:25</td>\n",
       "      <td>2018-04-10</td>\n",
       "    </tr>\n",
       "    <tr>\n",
       "      <th>4</th>\n",
       "      <td>4f2d8ab171c80ec8364f7c12e35b23ad</td>\n",
       "      <td>345ecd01c38d18a9036ed96c73b8d066</td>\n",
       "      <td>13056</td>\n",
       "      <td>campinas</td>\n",
       "      <td>SP</td>\n",
       "      <td>6b7d50bd145f6fc7f33cebabd7e49d0f</td>\n",
       "      <td>1</td>\n",
       "      <td>9391a573abe00141c56e38d84d7d5b3b</td>\n",
       "      <td>4a3ca9315b744ce9f8e9374361493884</td>\n",
       "      <td>2018-07-31 10:10:09</td>\n",
       "      <td>230.00</td>\n",
       "      <td>22.25</td>\n",
       "      <td>delivered</td>\n",
       "      <td>2018-07-29 09:51:30</td>\n",
       "      <td>2018-07-29 10:10:09</td>\n",
       "      <td>2018-07-30 15:16:00</td>\n",
       "      <td>2018-08-09 20:55:48</td>\n",
       "      <td>2018-08-15</td>\n",
       "    </tr>\n",
       "  </tbody>\n",
       "</table>\n",
       "</div>"
      ],
      "text/plain": [
       "                        customer_id                customer_unique_id  \\\n",
       "0  06b8999e2fba1a1fbc88172c00ba8bc7  861eff4711a542e4b93843c6dd7febb0   \n",
       "1  18955e83d337fd6b2def6b18a428ac77  290c77bc529b7ac935b93aa66c333dc3   \n",
       "2  4e7b3e00288586ebd08712fdd0374a03  060e732b5b29e8181a18229c7b0b2b5e   \n",
       "3  b2b6027bc5c5109e529d4dc6358b12c3  259dac757896d24d7702b9acbbff3f3c   \n",
       "4  4f2d8ab171c80ec8364f7c12e35b23ad  345ecd01c38d18a9036ed96c73b8d066   \n",
       "\n",
       "   customer_zip_code_prefix          customer_city customer_state  \\\n",
       "0                     14409                 franca             SP   \n",
       "1                      9790  sao bernardo do campo             SP   \n",
       "2                      1151              sao paulo             SP   \n",
       "3                      8775        mogi das cruzes             SP   \n",
       "4                     13056               campinas             SP   \n",
       "\n",
       "                           order_id  order_item_id  \\\n",
       "0  00e7ee1b050b8499577073aeb2a297a1              1   \n",
       "1  29150127e6685892b6eab3eec79f59c7              1   \n",
       "2  b2059ed67ce144a36e2aa97d2c9e9ad2              1   \n",
       "3  951670f92359f4fe4a63112aa7306eba              1   \n",
       "4  6b7d50bd145f6fc7f33cebabd7e49d0f              1   \n",
       "\n",
       "                         product_id                         seller_id  \\\n",
       "0  a9516a079e37a9c9c36b9b78b10169e8  7c67e1448b00f6e969d365cea6b010ab   \n",
       "1  4aa6014eceb682077f9dc4bffebc05b0  b8bc237ba3788b23da09c0f1f3a3288c   \n",
       "2  bd07b66896d6f1494f5b86251848ced7  7c67e1448b00f6e969d365cea6b010ab   \n",
       "3  a5647c44af977b148e0a3a4751a09e2e  7c67e1448b00f6e969d365cea6b010ab   \n",
       "4  9391a573abe00141c56e38d84d7d5b3b  4a3ca9315b744ce9f8e9374361493884   \n",
       "\n",
       "   shipping_limit_date   price  freight_value order_status  \\\n",
       "0  2017-05-22 15:22:12  124.99          21.88    delivered   \n",
       "1  2018-01-18 20:58:32  289.00          46.48    delivered   \n",
       "2  2018-06-05 16:19:10  139.94          17.79    delivered   \n",
       "3  2018-03-27 16:31:16  149.94          23.36    delivered   \n",
       "4  2018-07-31 10:10:09  230.00          22.25    delivered   \n",
       "\n",
       "  order_purchase_timestamp    order_approved_at order_delivered_carrier_date  \\\n",
       "0      2017-05-16 15:05:35  2017-05-16 15:22:12          2017-05-23 10:47:57   \n",
       "1      2018-01-12 20:48:24  2018-01-12 20:58:32          2018-01-15 17:14:59   \n",
       "2      2018-05-19 16:07:45  2018-05-20 16:19:10          2018-06-11 14:31:00   \n",
       "3      2018-03-13 16:06:38  2018-03-13 17:29:19          2018-03-27 23:22:42   \n",
       "4      2018-07-29 09:51:30  2018-07-29 10:10:09          2018-07-30 15:16:00   \n",
       "\n",
       "  order_delivered_customer_date order_estimated_delivery_date  \n",
       "0           2017-05-25 10:35:35                    2017-06-05  \n",
       "1           2018-01-29 12:41:19                    2018-02-06  \n",
       "2           2018-06-14 17:58:51                    2018-06-13  \n",
       "3           2018-03-28 16:04:25                    2018-04-10  \n",
       "4           2018-08-09 20:55:48                    2018-08-15  "
      ]
     },
     "execution_count": 32,
     "metadata": {},
     "output_type": "execute_result"
    }
   ],
   "source": [
    "data_fact_of_purchase.head()"
   ]
  },
  {
   "cell_type": "code",
   "execution_count": 30,
   "id": "38eb5b79-400e-4eb7-8130-7817160c5948",
   "metadata": {},
   "outputs": [
    {
     "data": {
      "text/plain": [
       "(110174, 18)"
      ]
     },
     "execution_count": 30,
     "metadata": {},
     "output_type": "execute_result"
    }
   ],
   "source": [
    "data_fact_of_purchase.shape"
   ]
  },
  {
   "cell_type": "code",
   "execution_count": 33,
   "id": "7af2e18f-6cb9-4f24-a5a4-83d3091684ce",
   "metadata": {},
   "outputs": [
    {
     "data": {
      "text/plain": [
       "customer_unique_id    90537\n",
       "number_orders         90537\n",
       "dtype: int64"
      ]
     },
     "execution_count": 33,
     "metadata": {},
     "output_type": "execute_result"
    }
   ],
   "source": [
    "# 90537 пользователей совершили покупку 1 товара\n",
    "data_fact_of_purchase.groupby('customer_unique_id', as_index=False) \\\n",
    "                     .agg(number_orders=('order_id', 'nunique')) \\\n",
    "                     .query('number_orders == 1').count()"
   ]
  },
  {
   "cell_type": "code",
   "execution_count": 34,
   "id": "39a6d7a0-aaeb-4a1d-8080-54adac7101ee",
   "metadata": {},
   "outputs": [
    {
     "data": {
      "text/html": [
       "<div>\n",
       "<style scoped>\n",
       "    .dataframe tbody tr th:only-of-type {\n",
       "        vertical-align: middle;\n",
       "    }\n",
       "\n",
       "    .dataframe tbody tr th {\n",
       "        vertical-align: top;\n",
       "    }\n",
       "\n",
       "    .dataframe thead th {\n",
       "        text-align: right;\n",
       "    }\n",
       "</style>\n",
       "<table border=\"1\" class=\"dataframe\">\n",
       "  <thead>\n",
       "    <tr style=\"text-align: right;\">\n",
       "      <th></th>\n",
       "      <th>order_status</th>\n",
       "      <th>reason_not_delivery</th>\n",
       "    </tr>\n",
       "  </thead>\n",
       "  <tbody>\n",
       "    <tr>\n",
       "      <th>0</th>\n",
       "      <td>approved</td>\n",
       "      <td>3</td>\n",
       "    </tr>\n",
       "    <tr>\n",
       "      <th>1</th>\n",
       "      <td>canceled</td>\n",
       "      <td>542</td>\n",
       "    </tr>\n",
       "    <tr>\n",
       "      <th>2</th>\n",
       "      <td>invoiced</td>\n",
       "      <td>359</td>\n",
       "    </tr>\n",
       "    <tr>\n",
       "      <th>3</th>\n",
       "      <td>processing</td>\n",
       "      <td>357</td>\n",
       "    </tr>\n",
       "    <tr>\n",
       "      <th>4</th>\n",
       "      <td>shipped</td>\n",
       "      <td>1185</td>\n",
       "    </tr>\n",
       "    <tr>\n",
       "      <th>5</th>\n",
       "      <td>unavailable</td>\n",
       "      <td>7</td>\n",
       "    </tr>\n",
       "  </tbody>\n",
       "</table>\n",
       "</div>"
      ],
      "text/plain": [
       "  order_status  reason_not_delivery\n",
       "0     approved                    3\n",
       "1     canceled                  542\n",
       "2     invoiced                  359\n",
       "3   processing                  357\n",
       "4      shipped                 1185\n",
       "5  unavailable                    7"
      ]
     },
     "execution_count": 34,
     "metadata": {},
     "output_type": "execute_result"
    }
   ],
   "source": [
    "# не доставленные заказы по разным причинам\n",
    "id_orders_product.query(\"order_status != 'delivered'\") \\\n",
    "                 .groupby('order_status', as_index=False) \\\n",
    "                 .agg(reason_not_delivery=('order_id', 'count'))"
   ]
  },
  {
   "cell_type": "code",
   "execution_count": 36,
   "id": "f4f7079b-09bb-49b7-aeac-ca25913d6279",
   "metadata": {},
   "outputs": [],
   "source": [
    "# вытащим из даты определенный день недели, для определения дня самых частых покупок\n",
    "id_orders_product['name_week_buy_product'] = id_orders_product.order_purchase_timestamp.dt.day_name()"
   ]
  },
  {
   "cell_type": "code",
   "execution_count": 37,
   "id": "7bb141fe-1470-407d-80ea-1e8cb01f375d",
   "metadata": {},
   "outputs": [
    {
     "data": {
      "text/html": [
       "<div>\n",
       "<style scoped>\n",
       "    .dataframe tbody tr th:only-of-type {\n",
       "        vertical-align: middle;\n",
       "    }\n",
       "\n",
       "    .dataframe tbody tr th {\n",
       "        vertical-align: top;\n",
       "    }\n",
       "\n",
       "    .dataframe thead th {\n",
       "        text-align: right;\n",
       "    }\n",
       "</style>\n",
       "<table border=\"1\" class=\"dataframe\">\n",
       "  <thead>\n",
       "    <tr style=\"text-align: right;\">\n",
       "      <th></th>\n",
       "      <th>product_id</th>\n",
       "      <th>name_week_buy_product</th>\n",
       "      <th>order_id</th>\n",
       "    </tr>\n",
       "  </thead>\n",
       "  <tbody>\n",
       "    <tr>\n",
       "      <th>15902</th>\n",
       "      <td>422879e10f46682990de24d770e7f83d</td>\n",
       "      <td>Wednesday</td>\n",
       "      <td>93</td>\n",
       "    </tr>\n",
       "    <tr>\n",
       "      <th>36513</th>\n",
       "      <td>99a4788cb24856965c36a24e339b6058</td>\n",
       "      <td>Monday</td>\n",
       "      <td>92</td>\n",
       "    </tr>\n",
       "    <tr>\n",
       "      <th>41045</th>\n",
       "      <td>aca2eb7d00ea1a7b8ebd4e68314663af</td>\n",
       "      <td>Thursday</td>\n",
       "      <td>89</td>\n",
       "    </tr>\n",
       "    <tr>\n",
       "      <th>41041</th>\n",
       "      <td>aca2eb7d00ea1a7b8ebd4e68314663af</td>\n",
       "      <td>Friday</td>\n",
       "      <td>87</td>\n",
       "    </tr>\n",
       "    <tr>\n",
       "      <th>41046</th>\n",
       "      <td>aca2eb7d00ea1a7b8ebd4e68314663af</td>\n",
       "      <td>Tuesday</td>\n",
       "      <td>85</td>\n",
       "    </tr>\n",
       "    <tr>\n",
       "      <th>...</th>\n",
       "      <td>...</td>\n",
       "      <td>...</td>\n",
       "      <td>...</td>\n",
       "    </tr>\n",
       "    <tr>\n",
       "      <th>24013</th>\n",
       "      <td>642369377615febc7fa89e4c8df5110e</td>\n",
       "      <td>Thursday</td>\n",
       "      <td>1</td>\n",
       "    </tr>\n",
       "    <tr>\n",
       "      <th>24018</th>\n",
       "      <td>642a40d4d73b4b2604968937de13634a</td>\n",
       "      <td>Sunday</td>\n",
       "      <td>1</td>\n",
       "    </tr>\n",
       "    <tr>\n",
       "      <th>24022</th>\n",
       "      <td>642e125cbc752b4eeb8faf442319c39f</td>\n",
       "      <td>Thursday</td>\n",
       "      <td>1</td>\n",
       "    </tr>\n",
       "    <tr>\n",
       "      <th>24025</th>\n",
       "      <td>64315bd8c0c47303179dd2e25b579d00</td>\n",
       "      <td>Saturday</td>\n",
       "      <td>1</td>\n",
       "    </tr>\n",
       "    <tr>\n",
       "      <th>61229</th>\n",
       "      <td>fffe9eeff12fcbd74a2f2b007dde0c58</td>\n",
       "      <td>Wednesday</td>\n",
       "      <td>1</td>\n",
       "    </tr>\n",
       "  </tbody>\n",
       "</table>\n",
       "<p>61230 rows × 3 columns</p>\n",
       "</div>"
      ],
      "text/plain": [
       "                             product_id name_week_buy_product  order_id\n",
       "15902  422879e10f46682990de24d770e7f83d             Wednesday        93\n",
       "36513  99a4788cb24856965c36a24e339b6058                Monday        92\n",
       "41045  aca2eb7d00ea1a7b8ebd4e68314663af              Thursday        89\n",
       "41041  aca2eb7d00ea1a7b8ebd4e68314663af                Friday        87\n",
       "41046  aca2eb7d00ea1a7b8ebd4e68314663af               Tuesday        85\n",
       "...                                 ...                   ...       ...\n",
       "24013  642369377615febc7fa89e4c8df5110e              Thursday         1\n",
       "24018  642a40d4d73b4b2604968937de13634a                Sunday         1\n",
       "24022  642e125cbc752b4eeb8faf442319c39f              Thursday         1\n",
       "24025  64315bd8c0c47303179dd2e25b579d00              Saturday         1\n",
       "61229  fffe9eeff12fcbd74a2f2b007dde0c58             Wednesday         1\n",
       "\n",
       "[61230 rows x 3 columns]"
      ]
     },
     "execution_count": 37,
     "metadata": {},
     "output_type": "execute_result"
    }
   ],
   "source": [
    "id_orders_product.groupby(['product_id', 'name_week_buy_product'], as_index=False) \\\n",
    "                 .agg({'order_id' : 'count'}) \\\n",
    "                 .sort_values('order_id', ascending=False)"
   ]
  },
  {
   "cell_type": "markdown",
   "id": "85d8da20-d307-472f-a2ee-87ac1a8c2f36",
   "metadata": {},
   "source": [
    "### Предобработаем данные для когортного анализа"
   ]
  },
  {
   "cell_type": "code",
   "execution_count": 38,
   "id": "050f3e5c-55a1-4fd1-a941-d5a544f3685c",
   "metadata": {},
   "outputs": [],
   "source": [
    "# функция возвращающая из даты год и месяц\n",
    "def getting_months(m):\n",
    "    return dt.datetime(m.year, m.month,1)"
   ]
  },
  {
   "cell_type": "code",
   "execution_count": 42,
   "id": "56773426-0a3c-4071-969f-ad01cc1d9447",
   "metadata": {},
   "outputs": [],
   "source": [
    "id_orders_cohort = id_orders_product[['customer_id', 'customer_unique_id', 'order_id', 'order_item_id', 'product_id', 'price', 'order_status', 'order_purchase_timestamp']]"
   ]
  },
  {
   "cell_type": "code",
   "execution_count": 43,
   "id": "588ba038-af76-4fb6-8c3e-658e2f45f6d1",
   "metadata": {},
   "outputs": [],
   "source": [
    "# при помощи ранее заданной функции добавим колонку с месяцем покупки\n",
    "id_orders_cohort['month_purchase'] = id_orders_cohort['order_purchase_timestamp'].apply(getting_months)"
   ]
  },
  {
   "cell_type": "code",
   "execution_count": 46,
   "id": "ee4e0bda-f20e-430a-b4f4-9fabbdbd6fea",
   "metadata": {},
   "outputs": [],
   "source": [
    "# когорты будем отбирать в промежутке с января 2017 г. по декабрь 2017\n",
    "id_orders_product_cohort = id_orders_cohort.query(\"'2017-01' <= month_purchase <= '2017-12'\")"
   ]
  },
  {
   "cell_type": "code",
   "execution_count": 47,
   "id": "9bdcad08-a543-4818-b1ef-ce87bbba9792",
   "metadata": {},
   "outputs": [
    {
     "data": {
      "text/html": [
       "<div>\n",
       "<style scoped>\n",
       "    .dataframe tbody tr th:only-of-type {\n",
       "        vertical-align: middle;\n",
       "    }\n",
       "\n",
       "    .dataframe tbody tr th {\n",
       "        vertical-align: top;\n",
       "    }\n",
       "\n",
       "    .dataframe thead th {\n",
       "        text-align: right;\n",
       "    }\n",
       "</style>\n",
       "<table border=\"1\" class=\"dataframe\">\n",
       "  <thead>\n",
       "    <tr style=\"text-align: right;\">\n",
       "      <th></th>\n",
       "      <th>customer_id</th>\n",
       "      <th>customer_unique_id</th>\n",
       "      <th>order_id</th>\n",
       "      <th>order_item_id</th>\n",
       "      <th>product_id</th>\n",
       "      <th>price</th>\n",
       "      <th>order_status</th>\n",
       "      <th>order_purchase_timestamp</th>\n",
       "      <th>month_purchase</th>\n",
       "    </tr>\n",
       "  </thead>\n",
       "  <tbody>\n",
       "    <tr>\n",
       "      <th>0</th>\n",
       "      <td>06b8999e2fba1a1fbc88172c00ba8bc7</td>\n",
       "      <td>861eff4711a542e4b93843c6dd7febb0</td>\n",
       "      <td>00e7ee1b050b8499577073aeb2a297a1</td>\n",
       "      <td>1</td>\n",
       "      <td>a9516a079e37a9c9c36b9b78b10169e8</td>\n",
       "      <td>124.99</td>\n",
       "      <td>delivered</td>\n",
       "      <td>2017-05-16 15:05:35</td>\n",
       "      <td>2017-05-01</td>\n",
       "    </tr>\n",
       "    <tr>\n",
       "      <th>5</th>\n",
       "      <td>879864dab9bc3047522c92c82e1212b8</td>\n",
       "      <td>4c93744516667ad3b8f1fb645a3116a4</td>\n",
       "      <td>5741ea1f91b5fbab2bd2dc653a5b5099</td>\n",
       "      <td>1</td>\n",
       "      <td>0be701e03657109a8a4d5168122777fb</td>\n",
       "      <td>259.90</td>\n",
       "      <td>delivered</td>\n",
       "      <td>2017-09-14 18:14:31</td>\n",
       "      <td>2017-09-01</td>\n",
       "    </tr>\n",
       "    <tr>\n",
       "      <th>7</th>\n",
       "      <td>5e274e7a0c3809e14aba7ad5aae0d407</td>\n",
       "      <td>57b2a98a409812fe9618067b6b8ebe4f</td>\n",
       "      <td>1093c8304c7a003280dd34598194913d</td>\n",
       "      <td>1</td>\n",
       "      <td>124f74f703e88efe001a10bfa718b6ff</td>\n",
       "      <td>19.90</td>\n",
       "      <td>delivered</td>\n",
       "      <td>2017-11-16 19:29:02</td>\n",
       "      <td>2017-11-01</td>\n",
       "    </tr>\n",
       "    <tr>\n",
       "      <th>10</th>\n",
       "      <td>9fb35e4ed6f0a14a4977cd9aea4042bb</td>\n",
       "      <td>2a7745e1ed516b289ed9b29c7d0539a5</td>\n",
       "      <td>8428e578bb1cf839ae26a6b7615502b9</td>\n",
       "      <td>1</td>\n",
       "      <td>6b874ff4c71d18e91079b40396bf176a</td>\n",
       "      <td>25.30</td>\n",
       "      <td>delivered</td>\n",
       "      <td>2017-11-27 17:23:20</td>\n",
       "      <td>2017-11-01</td>\n",
       "    </tr>\n",
       "    <tr>\n",
       "      <th>12</th>\n",
       "      <td>b2d1536598b73a9abd18e0d75d92f0a3</td>\n",
       "      <td>918dc87cd72cd9f6ed4bd442ed785235</td>\n",
       "      <td>83d8f70418eefd96f37b483dff430305</td>\n",
       "      <td>1</td>\n",
       "      <td>3fc00af0f0a8d4ac2933d3900416c977</td>\n",
       "      <td>99.00</td>\n",
       "      <td>delivered</td>\n",
       "      <td>2017-09-09 09:54:57</td>\n",
       "      <td>2017-09-01</td>\n",
       "    </tr>\n",
       "  </tbody>\n",
       "</table>\n",
       "</div>"
      ],
      "text/plain": [
       "                         customer_id                customer_unique_id  \\\n",
       "0   06b8999e2fba1a1fbc88172c00ba8bc7  861eff4711a542e4b93843c6dd7febb0   \n",
       "5   879864dab9bc3047522c92c82e1212b8  4c93744516667ad3b8f1fb645a3116a4   \n",
       "7   5e274e7a0c3809e14aba7ad5aae0d407  57b2a98a409812fe9618067b6b8ebe4f   \n",
       "10  9fb35e4ed6f0a14a4977cd9aea4042bb  2a7745e1ed516b289ed9b29c7d0539a5   \n",
       "12  b2d1536598b73a9abd18e0d75d92f0a3  918dc87cd72cd9f6ed4bd442ed785235   \n",
       "\n",
       "                            order_id  order_item_id  \\\n",
       "0   00e7ee1b050b8499577073aeb2a297a1              1   \n",
       "5   5741ea1f91b5fbab2bd2dc653a5b5099              1   \n",
       "7   1093c8304c7a003280dd34598194913d              1   \n",
       "10  8428e578bb1cf839ae26a6b7615502b9              1   \n",
       "12  83d8f70418eefd96f37b483dff430305              1   \n",
       "\n",
       "                          product_id   price order_status  \\\n",
       "0   a9516a079e37a9c9c36b9b78b10169e8  124.99    delivered   \n",
       "5   0be701e03657109a8a4d5168122777fb  259.90    delivered   \n",
       "7   124f74f703e88efe001a10bfa718b6ff   19.90    delivered   \n",
       "10  6b874ff4c71d18e91079b40396bf176a   25.30    delivered   \n",
       "12  3fc00af0f0a8d4ac2933d3900416c977   99.00    delivered   \n",
       "\n",
       "   order_purchase_timestamp month_purchase  \n",
       "0       2017-05-16 15:05:35     2017-05-01  \n",
       "5       2017-09-14 18:14:31     2017-09-01  \n",
       "7       2017-11-16 19:29:02     2017-11-01  \n",
       "10      2017-11-27 17:23:20     2017-11-01  \n",
       "12      2017-09-09 09:54:57     2017-09-01  "
      ]
     },
     "execution_count": 47,
     "metadata": {},
     "output_type": "execute_result"
    }
   ],
   "source": [
    "id_orders_product_cohort.head()"
   ]
  },
  {
   "cell_type": "code",
   "execution_count": 48,
   "id": "7249a4b9-dfa9-4f29-a87d-34790e172a18",
   "metadata": {},
   "outputs": [],
   "source": [
    "# определим колонку с первым месяцем покупки пользователя\n",
    "id_orders_product_cohort['Cohort_Month'] =  id_orders_product_cohort.groupby('customer_unique_id')['month_purchase'].transform('min')"
   ]
  },
  {
   "cell_type": "code",
   "execution_count": 49,
   "id": "08a852f7-212d-42c0-869e-c2fc755bead0",
   "metadata": {},
   "outputs": [
    {
     "data": {
      "text/html": [
       "<div>\n",
       "<style scoped>\n",
       "    .dataframe tbody tr th:only-of-type {\n",
       "        vertical-align: middle;\n",
       "    }\n",
       "\n",
       "    .dataframe tbody tr th {\n",
       "        vertical-align: top;\n",
       "    }\n",
       "\n",
       "    .dataframe thead th {\n",
       "        text-align: right;\n",
       "    }\n",
       "</style>\n",
       "<table border=\"1\" class=\"dataframe\">\n",
       "  <thead>\n",
       "    <tr style=\"text-align: right;\">\n",
       "      <th></th>\n",
       "      <th>customer_id</th>\n",
       "      <th>customer_unique_id</th>\n",
       "      <th>order_id</th>\n",
       "      <th>order_item_id</th>\n",
       "      <th>product_id</th>\n",
       "      <th>price</th>\n",
       "      <th>order_status</th>\n",
       "      <th>order_purchase_timestamp</th>\n",
       "      <th>month_purchase</th>\n",
       "      <th>Cohort_Month</th>\n",
       "    </tr>\n",
       "  </thead>\n",
       "  <tbody>\n",
       "    <tr>\n",
       "      <th>0</th>\n",
       "      <td>06b8999e2fba1a1fbc88172c00ba8bc7</td>\n",
       "      <td>861eff4711a542e4b93843c6dd7febb0</td>\n",
       "      <td>00e7ee1b050b8499577073aeb2a297a1</td>\n",
       "      <td>1</td>\n",
       "      <td>a9516a079e37a9c9c36b9b78b10169e8</td>\n",
       "      <td>124.99</td>\n",
       "      <td>delivered</td>\n",
       "      <td>2017-05-16 15:05:35</td>\n",
       "      <td>2017-05-01</td>\n",
       "      <td>2017-05-01</td>\n",
       "    </tr>\n",
       "    <tr>\n",
       "      <th>5</th>\n",
       "      <td>879864dab9bc3047522c92c82e1212b8</td>\n",
       "      <td>4c93744516667ad3b8f1fb645a3116a4</td>\n",
       "      <td>5741ea1f91b5fbab2bd2dc653a5b5099</td>\n",
       "      <td>1</td>\n",
       "      <td>0be701e03657109a8a4d5168122777fb</td>\n",
       "      <td>259.90</td>\n",
       "      <td>delivered</td>\n",
       "      <td>2017-09-14 18:14:31</td>\n",
       "      <td>2017-09-01</td>\n",
       "      <td>2017-09-01</td>\n",
       "    </tr>\n",
       "    <tr>\n",
       "      <th>7</th>\n",
       "      <td>5e274e7a0c3809e14aba7ad5aae0d407</td>\n",
       "      <td>57b2a98a409812fe9618067b6b8ebe4f</td>\n",
       "      <td>1093c8304c7a003280dd34598194913d</td>\n",
       "      <td>1</td>\n",
       "      <td>124f74f703e88efe001a10bfa718b6ff</td>\n",
       "      <td>19.90</td>\n",
       "      <td>delivered</td>\n",
       "      <td>2017-11-16 19:29:02</td>\n",
       "      <td>2017-11-01</td>\n",
       "      <td>2017-11-01</td>\n",
       "    </tr>\n",
       "    <tr>\n",
       "      <th>10</th>\n",
       "      <td>9fb35e4ed6f0a14a4977cd9aea4042bb</td>\n",
       "      <td>2a7745e1ed516b289ed9b29c7d0539a5</td>\n",
       "      <td>8428e578bb1cf839ae26a6b7615502b9</td>\n",
       "      <td>1</td>\n",
       "      <td>6b874ff4c71d18e91079b40396bf176a</td>\n",
       "      <td>25.30</td>\n",
       "      <td>delivered</td>\n",
       "      <td>2017-11-27 17:23:20</td>\n",
       "      <td>2017-11-01</td>\n",
       "      <td>2017-11-01</td>\n",
       "    </tr>\n",
       "    <tr>\n",
       "      <th>12</th>\n",
       "      <td>b2d1536598b73a9abd18e0d75d92f0a3</td>\n",
       "      <td>918dc87cd72cd9f6ed4bd442ed785235</td>\n",
       "      <td>83d8f70418eefd96f37b483dff430305</td>\n",
       "      <td>1</td>\n",
       "      <td>3fc00af0f0a8d4ac2933d3900416c977</td>\n",
       "      <td>99.00</td>\n",
       "      <td>delivered</td>\n",
       "      <td>2017-09-09 09:54:57</td>\n",
       "      <td>2017-09-01</td>\n",
       "      <td>2017-09-01</td>\n",
       "    </tr>\n",
       "  </tbody>\n",
       "</table>\n",
       "</div>"
      ],
      "text/plain": [
       "                         customer_id                customer_unique_id  \\\n",
       "0   06b8999e2fba1a1fbc88172c00ba8bc7  861eff4711a542e4b93843c6dd7febb0   \n",
       "5   879864dab9bc3047522c92c82e1212b8  4c93744516667ad3b8f1fb645a3116a4   \n",
       "7   5e274e7a0c3809e14aba7ad5aae0d407  57b2a98a409812fe9618067b6b8ebe4f   \n",
       "10  9fb35e4ed6f0a14a4977cd9aea4042bb  2a7745e1ed516b289ed9b29c7d0539a5   \n",
       "12  b2d1536598b73a9abd18e0d75d92f0a3  918dc87cd72cd9f6ed4bd442ed785235   \n",
       "\n",
       "                            order_id  order_item_id  \\\n",
       "0   00e7ee1b050b8499577073aeb2a297a1              1   \n",
       "5   5741ea1f91b5fbab2bd2dc653a5b5099              1   \n",
       "7   1093c8304c7a003280dd34598194913d              1   \n",
       "10  8428e578bb1cf839ae26a6b7615502b9              1   \n",
       "12  83d8f70418eefd96f37b483dff430305              1   \n",
       "\n",
       "                          product_id   price order_status  \\\n",
       "0   a9516a079e37a9c9c36b9b78b10169e8  124.99    delivered   \n",
       "5   0be701e03657109a8a4d5168122777fb  259.90    delivered   \n",
       "7   124f74f703e88efe001a10bfa718b6ff   19.90    delivered   \n",
       "10  6b874ff4c71d18e91079b40396bf176a   25.30    delivered   \n",
       "12  3fc00af0f0a8d4ac2933d3900416c977   99.00    delivered   \n",
       "\n",
       "   order_purchase_timestamp month_purchase Cohort_Month  \n",
       "0       2017-05-16 15:05:35     2017-05-01   2017-05-01  \n",
       "5       2017-09-14 18:14:31     2017-09-01   2017-09-01  \n",
       "7       2017-11-16 19:29:02     2017-11-01   2017-11-01  \n",
       "10      2017-11-27 17:23:20     2017-11-01   2017-11-01  \n",
       "12      2017-09-09 09:54:57     2017-09-01   2017-09-01  "
      ]
     },
     "execution_count": 49,
     "metadata": {},
     "output_type": "execute_result"
    }
   ],
   "source": [
    "id_orders_product_cohort.head()"
   ]
  },
  {
   "cell_type": "code",
   "execution_count": 50,
   "id": "0db94164-b76e-4594-b9f9-2c74072f7537",
   "metadata": {},
   "outputs": [],
   "source": [
    "# функция для конвертирования серии, разбивающей дату на составные части. Возвращает функция день, месяц и год\n",
    "def get_date_elements(df, column):\n",
    "    day = df[column].dt.day\n",
    "    month = df[column].dt.month\n",
    "    year = df[column].dt.year\n",
    "    return day, month, year "
   ]
  },
  {
   "cell_type": "code",
   "execution_count": 51,
   "id": "b1f1da39-1e98-4a95-8183-198b4c33889c",
   "metadata": {},
   "outputs": [],
   "source": [
    "# серия из месяца и года первой покупки каждого пользователя\n",
    "_,Invoiceofmonth,Invoiceofyear =  get_date_elements(id_orders_product_cohort,'month_purchase')"
   ]
  },
  {
   "cell_type": "code",
   "execution_count": 54,
   "id": "619c8f23-6d00-407f-a29a-8b3ae39dff11",
   "metadata": {},
   "outputs": [],
   "source": [
    "# серия из месяца и года когорт\n",
    "_,Cohortofmonth,Cohortofyear =  get_date_elements(id_orders_product_cohort,'Cohort_Month')"
   ]
  },
  {
   "cell_type": "code",
   "execution_count": 55,
   "id": "8b342e22-c7c4-4f20-93dd-176dcad30fff",
   "metadata": {},
   "outputs": [],
   "source": [
    "# проиндексируем когорты, после чего отсортируем месяц и год первого посещения пользователя\n",
    "yeardifference = Invoiceofyear -Cohortofyear\n",
    "monthdifference = Invoiceofmonth - Cohortofmonth\n",
    "id_orders_product_cohort['Cohort_Index'] = yeardifference*12+monthdifference+1\n",
    "cohort_data = id_orders_product_cohort.groupby(['Cohort_Month','Cohort_Index'])['customer_unique_id'].apply(pd.Series.nunique).reset_index()\n"
   ]
  },
  {
   "cell_type": "code",
   "execution_count": 56,
   "id": "a7d2e213-ec48-4b62-b904-92bb5abadac4",
   "metadata": {},
   "outputs": [
    {
     "data": {
      "text/html": [
       "<div>\n",
       "<style scoped>\n",
       "    .dataframe tbody tr th:only-of-type {\n",
       "        vertical-align: middle;\n",
       "    }\n",
       "\n",
       "    .dataframe tbody tr th {\n",
       "        vertical-align: top;\n",
       "    }\n",
       "\n",
       "    .dataframe thead th {\n",
       "        text-align: right;\n",
       "    }\n",
       "</style>\n",
       "<table border=\"1\" class=\"dataframe\">\n",
       "  <thead>\n",
       "    <tr style=\"text-align: right;\">\n",
       "      <th></th>\n",
       "      <th>Cohort_Month</th>\n",
       "      <th>Cohort_Index</th>\n",
       "      <th>customer_unique_id</th>\n",
       "    </tr>\n",
       "  </thead>\n",
       "  <tbody>\n",
       "    <tr>\n",
       "      <th>0</th>\n",
       "      <td>2017-01-01</td>\n",
       "      <td>1</td>\n",
       "      <td>755</td>\n",
       "    </tr>\n",
       "    <tr>\n",
       "      <th>1</th>\n",
       "      <td>2017-01-01</td>\n",
       "      <td>2</td>\n",
       "      <td>3</td>\n",
       "    </tr>\n",
       "    <tr>\n",
       "      <th>2</th>\n",
       "      <td>2017-01-01</td>\n",
       "      <td>3</td>\n",
       "      <td>2</td>\n",
       "    </tr>\n",
       "    <tr>\n",
       "      <th>3</th>\n",
       "      <td>2017-01-01</td>\n",
       "      <td>4</td>\n",
       "      <td>1</td>\n",
       "    </tr>\n",
       "    <tr>\n",
       "      <th>4</th>\n",
       "      <td>2017-01-01</td>\n",
       "      <td>5</td>\n",
       "      <td>3</td>\n",
       "    </tr>\n",
       "  </tbody>\n",
       "</table>\n",
       "</div>"
      ],
      "text/plain": [
       "  Cohort_Month  Cohort_Index  customer_unique_id\n",
       "0   2017-01-01             1                 755\n",
       "1   2017-01-01             2                   3\n",
       "2   2017-01-01             3                   2\n",
       "3   2017-01-01             4                   1\n",
       "4   2017-01-01             5                   3"
      ]
     },
     "execution_count": 56,
     "metadata": {},
     "output_type": "execute_result"
    }
   ],
   "source": [
    "cohort_data.head()"
   ]
  },
  {
   "cell_type": "code",
   "execution_count": 59,
   "id": "c00f3642-5208-4ca1-813c-15cd9d7021b1",
   "metadata": {},
   "outputs": [],
   "source": [
    "# создадим сводную таблицу для когортного анализа\n",
    "cohort_table = cohort_data.pivot(index='Cohort_Month', columns=['Cohort_Index'],values='customer_unique_id')\n",
    "\n",
    "# изменин числовые значения месяца когорт, на буквенные\n",
    "cohort_table.index = cohort_table.index.strftime('%B %Y')"
   ]
  },
  {
   "cell_type": "code",
   "execution_count": 60,
   "id": "c4fdeb01-fcdb-4619-8aea-1e0849436756",
   "metadata": {},
   "outputs": [
    {
     "data": {
      "text/html": [
       "<div>\n",
       "<style scoped>\n",
       "    .dataframe tbody tr th:only-of-type {\n",
       "        vertical-align: middle;\n",
       "    }\n",
       "\n",
       "    .dataframe tbody tr th {\n",
       "        vertical-align: top;\n",
       "    }\n",
       "\n",
       "    .dataframe thead th {\n",
       "        text-align: right;\n",
       "    }\n",
       "</style>\n",
       "<table border=\"1\" class=\"dataframe\">\n",
       "  <thead>\n",
       "    <tr style=\"text-align: right;\">\n",
       "      <th>Cohort_Index</th>\n",
       "      <th>1</th>\n",
       "      <th>2</th>\n",
       "      <th>3</th>\n",
       "      <th>4</th>\n",
       "      <th>5</th>\n",
       "      <th>6</th>\n",
       "      <th>7</th>\n",
       "      <th>8</th>\n",
       "      <th>9</th>\n",
       "      <th>10</th>\n",
       "      <th>11</th>\n",
       "      <th>12</th>\n",
       "    </tr>\n",
       "    <tr>\n",
       "      <th>Cohort_Month</th>\n",
       "      <th></th>\n",
       "      <th></th>\n",
       "      <th></th>\n",
       "      <th></th>\n",
       "      <th></th>\n",
       "      <th></th>\n",
       "      <th></th>\n",
       "      <th></th>\n",
       "      <th></th>\n",
       "      <th></th>\n",
       "      <th></th>\n",
       "      <th></th>\n",
       "    </tr>\n",
       "  </thead>\n",
       "  <tbody>\n",
       "    <tr>\n",
       "      <th>January 2017</th>\n",
       "      <td>755.0</td>\n",
       "      <td>3.0</td>\n",
       "      <td>2.0</td>\n",
       "      <td>1.0</td>\n",
       "      <td>3.0</td>\n",
       "      <td>1.0</td>\n",
       "      <td>3.0</td>\n",
       "      <td>1.0</td>\n",
       "      <td>1.0</td>\n",
       "      <td>NaN</td>\n",
       "      <td>3.0</td>\n",
       "      <td>1.0</td>\n",
       "    </tr>\n",
       "    <tr>\n",
       "      <th>February 2017</th>\n",
       "      <td>1705.0</td>\n",
       "      <td>4.0</td>\n",
       "      <td>5.0</td>\n",
       "      <td>2.0</td>\n",
       "      <td>7.0</td>\n",
       "      <td>2.0</td>\n",
       "      <td>4.0</td>\n",
       "      <td>3.0</td>\n",
       "      <td>2.0</td>\n",
       "      <td>3.0</td>\n",
       "      <td>2.0</td>\n",
       "      <td>NaN</td>\n",
       "    </tr>\n",
       "    <tr>\n",
       "      <th>March 2017</th>\n",
       "      <td>2595.0</td>\n",
       "      <td>13.0</td>\n",
       "      <td>9.0</td>\n",
       "      <td>10.0</td>\n",
       "      <td>9.0</td>\n",
       "      <td>4.0</td>\n",
       "      <td>4.0</td>\n",
       "      <td>8.0</td>\n",
       "      <td>9.0</td>\n",
       "      <td>2.0</td>\n",
       "      <td>NaN</td>\n",
       "      <td>NaN</td>\n",
       "    </tr>\n",
       "    <tr>\n",
       "      <th>April 2017</th>\n",
       "      <td>2340.0</td>\n",
       "      <td>14.0</td>\n",
       "      <td>5.0</td>\n",
       "      <td>4.0</td>\n",
       "      <td>8.0</td>\n",
       "      <td>6.0</td>\n",
       "      <td>8.0</td>\n",
       "      <td>7.0</td>\n",
       "      <td>7.0</td>\n",
       "      <td>NaN</td>\n",
       "      <td>NaN</td>\n",
       "      <td>NaN</td>\n",
       "    </tr>\n",
       "    <tr>\n",
       "      <th>May 2017</th>\n",
       "      <td>3560.0</td>\n",
       "      <td>17.0</td>\n",
       "      <td>17.0</td>\n",
       "      <td>14.0</td>\n",
       "      <td>11.0</td>\n",
       "      <td>12.0</td>\n",
       "      <td>15.0</td>\n",
       "      <td>5.0</td>\n",
       "      <td>NaN</td>\n",
       "      <td>NaN</td>\n",
       "      <td>NaN</td>\n",
       "      <td>NaN</td>\n",
       "    </tr>\n",
       "    <tr>\n",
       "      <th>June 2017</th>\n",
       "      <td>3114.0</td>\n",
       "      <td>15.0</td>\n",
       "      <td>11.0</td>\n",
       "      <td>12.0</td>\n",
       "      <td>8.0</td>\n",
       "      <td>12.0</td>\n",
       "      <td>12.0</td>\n",
       "      <td>NaN</td>\n",
       "      <td>NaN</td>\n",
       "      <td>NaN</td>\n",
       "      <td>NaN</td>\n",
       "      <td>NaN</td>\n",
       "    </tr>\n",
       "    <tr>\n",
       "      <th>July 2017</th>\n",
       "      <td>3844.0</td>\n",
       "      <td>20.0</td>\n",
       "      <td>14.0</td>\n",
       "      <td>9.0</td>\n",
       "      <td>11.0</td>\n",
       "      <td>8.0</td>\n",
       "      <td>NaN</td>\n",
       "      <td>NaN</td>\n",
       "      <td>NaN</td>\n",
       "      <td>NaN</td>\n",
       "      <td>NaN</td>\n",
       "      <td>NaN</td>\n",
       "    </tr>\n",
       "    <tr>\n",
       "      <th>August 2017</th>\n",
       "      <td>4149.0</td>\n",
       "      <td>28.0</td>\n",
       "      <td>14.0</td>\n",
       "      <td>11.0</td>\n",
       "      <td>15.0</td>\n",
       "      <td>NaN</td>\n",
       "      <td>NaN</td>\n",
       "      <td>NaN</td>\n",
       "      <td>NaN</td>\n",
       "      <td>NaN</td>\n",
       "      <td>NaN</td>\n",
       "      <td>NaN</td>\n",
       "    </tr>\n",
       "    <tr>\n",
       "      <th>September 2017</th>\n",
       "      <td>4091.0</td>\n",
       "      <td>28.0</td>\n",
       "      <td>22.0</td>\n",
       "      <td>12.0</td>\n",
       "      <td>NaN</td>\n",
       "      <td>NaN</td>\n",
       "      <td>NaN</td>\n",
       "      <td>NaN</td>\n",
       "      <td>NaN</td>\n",
       "      <td>NaN</td>\n",
       "      <td>NaN</td>\n",
       "      <td>NaN</td>\n",
       "    </tr>\n",
       "    <tr>\n",
       "      <th>October 2017</th>\n",
       "      <td>4412.0</td>\n",
       "      <td>31.0</td>\n",
       "      <td>11.0</td>\n",
       "      <td>NaN</td>\n",
       "      <td>NaN</td>\n",
       "      <td>NaN</td>\n",
       "      <td>NaN</td>\n",
       "      <td>NaN</td>\n",
       "      <td>NaN</td>\n",
       "      <td>NaN</td>\n",
       "      <td>NaN</td>\n",
       "      <td>NaN</td>\n",
       "    </tr>\n",
       "    <tr>\n",
       "      <th>November 2017</th>\n",
       "      <td>7218.0</td>\n",
       "      <td>40.0</td>\n",
       "      <td>NaN</td>\n",
       "      <td>NaN</td>\n",
       "      <td>NaN</td>\n",
       "      <td>NaN</td>\n",
       "      <td>NaN</td>\n",
       "      <td>NaN</td>\n",
       "      <td>NaN</td>\n",
       "      <td>NaN</td>\n",
       "      <td>NaN</td>\n",
       "      <td>NaN</td>\n",
       "    </tr>\n",
       "    <tr>\n",
       "      <th>December 2017</th>\n",
       "      <td>5442.0</td>\n",
       "      <td>NaN</td>\n",
       "      <td>NaN</td>\n",
       "      <td>NaN</td>\n",
       "      <td>NaN</td>\n",
       "      <td>NaN</td>\n",
       "      <td>NaN</td>\n",
       "      <td>NaN</td>\n",
       "      <td>NaN</td>\n",
       "      <td>NaN</td>\n",
       "      <td>NaN</td>\n",
       "      <td>NaN</td>\n",
       "    </tr>\n",
       "  </tbody>\n",
       "</table>\n",
       "</div>"
      ],
      "text/plain": [
       "Cohort_Index        1     2     3     4     5     6     7    8    9    10  \\\n",
       "Cohort_Month                                                                \n",
       "January 2017     755.0   3.0   2.0   1.0   3.0   1.0   3.0  1.0  1.0  NaN   \n",
       "February 2017   1705.0   4.0   5.0   2.0   7.0   2.0   4.0  3.0  2.0  3.0   \n",
       "March 2017      2595.0  13.0   9.0  10.0   9.0   4.0   4.0  8.0  9.0  2.0   \n",
       "April 2017      2340.0  14.0   5.0   4.0   8.0   6.0   8.0  7.0  7.0  NaN   \n",
       "May 2017        3560.0  17.0  17.0  14.0  11.0  12.0  15.0  5.0  NaN  NaN   \n",
       "June 2017       3114.0  15.0  11.0  12.0   8.0  12.0  12.0  NaN  NaN  NaN   \n",
       "July 2017       3844.0  20.0  14.0   9.0  11.0   8.0   NaN  NaN  NaN  NaN   \n",
       "August 2017     4149.0  28.0  14.0  11.0  15.0   NaN   NaN  NaN  NaN  NaN   \n",
       "September 2017  4091.0  28.0  22.0  12.0   NaN   NaN   NaN  NaN  NaN  NaN   \n",
       "October 2017    4412.0  31.0  11.0   NaN   NaN   NaN   NaN  NaN  NaN  NaN   \n",
       "November 2017   7218.0  40.0   NaN   NaN   NaN   NaN   NaN  NaN  NaN  NaN   \n",
       "December 2017   5442.0   NaN   NaN   NaN   NaN   NaN   NaN  NaN  NaN  NaN   \n",
       "\n",
       "Cohort_Index     11   12  \n",
       "Cohort_Month              \n",
       "January 2017    3.0  1.0  \n",
       "February 2017   2.0  NaN  \n",
       "March 2017      NaN  NaN  \n",
       "April 2017      NaN  NaN  \n",
       "May 2017        NaN  NaN  \n",
       "June 2017       NaN  NaN  \n",
       "July 2017       NaN  NaN  \n",
       "August 2017     NaN  NaN  \n",
       "September 2017  NaN  NaN  \n",
       "October 2017    NaN  NaN  \n",
       "November 2017   NaN  NaN  \n",
       "December 2017   NaN  NaN  "
      ]
     },
     "execution_count": 60,
     "metadata": {},
     "output_type": "execute_result"
    }
   ],
   "source": [
    "cohort_table"
   ]
  },
  {
   "cell_type": "code",
   "execution_count": 61,
   "id": "f4cc52bc-4779-4562-b467-11d6399ad32c",
   "metadata": {},
   "outputs": [
    {
     "data": {
      "text/html": [
       "<div>\n",
       "<style scoped>\n",
       "    .dataframe tbody tr th:only-of-type {\n",
       "        vertical-align: middle;\n",
       "    }\n",
       "\n",
       "    .dataframe tbody tr th {\n",
       "        vertical-align: top;\n",
       "    }\n",
       "\n",
       "    .dataframe thead th {\n",
       "        text-align: right;\n",
       "    }\n",
       "</style>\n",
       "<table border=\"1\" class=\"dataframe\">\n",
       "  <thead>\n",
       "    <tr style=\"text-align: right;\">\n",
       "      <th>Cohort_Index</th>\n",
       "      <th>1</th>\n",
       "      <th>2</th>\n",
       "      <th>3</th>\n",
       "      <th>4</th>\n",
       "      <th>5</th>\n",
       "      <th>6</th>\n",
       "      <th>7</th>\n",
       "      <th>8</th>\n",
       "      <th>9</th>\n",
       "      <th>10</th>\n",
       "      <th>11</th>\n",
       "      <th>12</th>\n",
       "    </tr>\n",
       "    <tr>\n",
       "      <th>Cohort_Month</th>\n",
       "      <th></th>\n",
       "      <th></th>\n",
       "      <th></th>\n",
       "      <th></th>\n",
       "      <th></th>\n",
       "      <th></th>\n",
       "      <th></th>\n",
       "      <th></th>\n",
       "      <th></th>\n",
       "      <th></th>\n",
       "      <th></th>\n",
       "      <th></th>\n",
       "    </tr>\n",
       "  </thead>\n",
       "  <tbody>\n",
       "    <tr>\n",
       "      <th>January 2017</th>\n",
       "      <td>1.0</td>\n",
       "      <td>0.003974</td>\n",
       "      <td>0.002649</td>\n",
       "      <td>0.001325</td>\n",
       "      <td>0.003974</td>\n",
       "      <td>0.001325</td>\n",
       "      <td>0.003974</td>\n",
       "      <td>0.001325</td>\n",
       "      <td>0.001325</td>\n",
       "      <td>NaN</td>\n",
       "      <td>0.003974</td>\n",
       "      <td>0.001325</td>\n",
       "    </tr>\n",
       "    <tr>\n",
       "      <th>February 2017</th>\n",
       "      <td>1.0</td>\n",
       "      <td>0.002346</td>\n",
       "      <td>0.002933</td>\n",
       "      <td>0.001173</td>\n",
       "      <td>0.004106</td>\n",
       "      <td>0.001173</td>\n",
       "      <td>0.002346</td>\n",
       "      <td>0.001760</td>\n",
       "      <td>0.001173</td>\n",
       "      <td>0.001760</td>\n",
       "      <td>0.001173</td>\n",
       "      <td>NaN</td>\n",
       "    </tr>\n",
       "    <tr>\n",
       "      <th>March 2017</th>\n",
       "      <td>1.0</td>\n",
       "      <td>0.005010</td>\n",
       "      <td>0.003468</td>\n",
       "      <td>0.003854</td>\n",
       "      <td>0.003468</td>\n",
       "      <td>0.001541</td>\n",
       "      <td>0.001541</td>\n",
       "      <td>0.003083</td>\n",
       "      <td>0.003468</td>\n",
       "      <td>0.000771</td>\n",
       "      <td>NaN</td>\n",
       "      <td>NaN</td>\n",
       "    </tr>\n",
       "    <tr>\n",
       "      <th>April 2017</th>\n",
       "      <td>1.0</td>\n",
       "      <td>0.005983</td>\n",
       "      <td>0.002137</td>\n",
       "      <td>0.001709</td>\n",
       "      <td>0.003419</td>\n",
       "      <td>0.002564</td>\n",
       "      <td>0.003419</td>\n",
       "      <td>0.002991</td>\n",
       "      <td>0.002991</td>\n",
       "      <td>NaN</td>\n",
       "      <td>NaN</td>\n",
       "      <td>NaN</td>\n",
       "    </tr>\n",
       "    <tr>\n",
       "      <th>May 2017</th>\n",
       "      <td>1.0</td>\n",
       "      <td>0.004775</td>\n",
       "      <td>0.004775</td>\n",
       "      <td>0.003933</td>\n",
       "      <td>0.003090</td>\n",
       "      <td>0.003371</td>\n",
       "      <td>0.004213</td>\n",
       "      <td>0.001404</td>\n",
       "      <td>NaN</td>\n",
       "      <td>NaN</td>\n",
       "      <td>NaN</td>\n",
       "      <td>NaN</td>\n",
       "    </tr>\n",
       "    <tr>\n",
       "      <th>June 2017</th>\n",
       "      <td>1.0</td>\n",
       "      <td>0.004817</td>\n",
       "      <td>0.003532</td>\n",
       "      <td>0.003854</td>\n",
       "      <td>0.002569</td>\n",
       "      <td>0.003854</td>\n",
       "      <td>0.003854</td>\n",
       "      <td>NaN</td>\n",
       "      <td>NaN</td>\n",
       "      <td>NaN</td>\n",
       "      <td>NaN</td>\n",
       "      <td>NaN</td>\n",
       "    </tr>\n",
       "    <tr>\n",
       "      <th>July 2017</th>\n",
       "      <td>1.0</td>\n",
       "      <td>0.005203</td>\n",
       "      <td>0.003642</td>\n",
       "      <td>0.002341</td>\n",
       "      <td>0.002862</td>\n",
       "      <td>0.002081</td>\n",
       "      <td>NaN</td>\n",
       "      <td>NaN</td>\n",
       "      <td>NaN</td>\n",
       "      <td>NaN</td>\n",
       "      <td>NaN</td>\n",
       "      <td>NaN</td>\n",
       "    </tr>\n",
       "    <tr>\n",
       "      <th>August 2017</th>\n",
       "      <td>1.0</td>\n",
       "      <td>0.006749</td>\n",
       "      <td>0.003374</td>\n",
       "      <td>0.002651</td>\n",
       "      <td>0.003615</td>\n",
       "      <td>NaN</td>\n",
       "      <td>NaN</td>\n",
       "      <td>NaN</td>\n",
       "      <td>NaN</td>\n",
       "      <td>NaN</td>\n",
       "      <td>NaN</td>\n",
       "      <td>NaN</td>\n",
       "    </tr>\n",
       "    <tr>\n",
       "      <th>September 2017</th>\n",
       "      <td>1.0</td>\n",
       "      <td>0.006844</td>\n",
       "      <td>0.005378</td>\n",
       "      <td>0.002933</td>\n",
       "      <td>NaN</td>\n",
       "      <td>NaN</td>\n",
       "      <td>NaN</td>\n",
       "      <td>NaN</td>\n",
       "      <td>NaN</td>\n",
       "      <td>NaN</td>\n",
       "      <td>NaN</td>\n",
       "      <td>NaN</td>\n",
       "    </tr>\n",
       "    <tr>\n",
       "      <th>October 2017</th>\n",
       "      <td>1.0</td>\n",
       "      <td>0.007026</td>\n",
       "      <td>0.002493</td>\n",
       "      <td>NaN</td>\n",
       "      <td>NaN</td>\n",
       "      <td>NaN</td>\n",
       "      <td>NaN</td>\n",
       "      <td>NaN</td>\n",
       "      <td>NaN</td>\n",
       "      <td>NaN</td>\n",
       "      <td>NaN</td>\n",
       "      <td>NaN</td>\n",
       "    </tr>\n",
       "    <tr>\n",
       "      <th>November 2017</th>\n",
       "      <td>1.0</td>\n",
       "      <td>0.005542</td>\n",
       "      <td>NaN</td>\n",
       "      <td>NaN</td>\n",
       "      <td>NaN</td>\n",
       "      <td>NaN</td>\n",
       "      <td>NaN</td>\n",
       "      <td>NaN</td>\n",
       "      <td>NaN</td>\n",
       "      <td>NaN</td>\n",
       "      <td>NaN</td>\n",
       "      <td>NaN</td>\n",
       "    </tr>\n",
       "    <tr>\n",
       "      <th>December 2017</th>\n",
       "      <td>1.0</td>\n",
       "      <td>NaN</td>\n",
       "      <td>NaN</td>\n",
       "      <td>NaN</td>\n",
       "      <td>NaN</td>\n",
       "      <td>NaN</td>\n",
       "      <td>NaN</td>\n",
       "      <td>NaN</td>\n",
       "      <td>NaN</td>\n",
       "      <td>NaN</td>\n",
       "      <td>NaN</td>\n",
       "      <td>NaN</td>\n",
       "    </tr>\n",
       "  </tbody>\n",
       "</table>\n",
       "</div>"
      ],
      "text/plain": [
       "Cohort_Index     1         2         3         4         5         6   \\\n",
       "Cohort_Month                                                            \n",
       "January 2017    1.0  0.003974  0.002649  0.001325  0.003974  0.001325   \n",
       "February 2017   1.0  0.002346  0.002933  0.001173  0.004106  0.001173   \n",
       "March 2017      1.0  0.005010  0.003468  0.003854  0.003468  0.001541   \n",
       "April 2017      1.0  0.005983  0.002137  0.001709  0.003419  0.002564   \n",
       "May 2017        1.0  0.004775  0.004775  0.003933  0.003090  0.003371   \n",
       "June 2017       1.0  0.004817  0.003532  0.003854  0.002569  0.003854   \n",
       "July 2017       1.0  0.005203  0.003642  0.002341  0.002862  0.002081   \n",
       "August 2017     1.0  0.006749  0.003374  0.002651  0.003615       NaN   \n",
       "September 2017  1.0  0.006844  0.005378  0.002933       NaN       NaN   \n",
       "October 2017    1.0  0.007026  0.002493       NaN       NaN       NaN   \n",
       "November 2017   1.0  0.005542       NaN       NaN       NaN       NaN   \n",
       "December 2017   1.0       NaN       NaN       NaN       NaN       NaN   \n",
       "\n",
       "Cohort_Index          7         8         9         10        11        12  \n",
       "Cohort_Month                                                                \n",
       "January 2017    0.003974  0.001325  0.001325       NaN  0.003974  0.001325  \n",
       "February 2017   0.002346  0.001760  0.001173  0.001760  0.001173       NaN  \n",
       "March 2017      0.001541  0.003083  0.003468  0.000771       NaN       NaN  \n",
       "April 2017      0.003419  0.002991  0.002991       NaN       NaN       NaN  \n",
       "May 2017        0.004213  0.001404       NaN       NaN       NaN       NaN  \n",
       "June 2017       0.003854       NaN       NaN       NaN       NaN       NaN  \n",
       "July 2017            NaN       NaN       NaN       NaN       NaN       NaN  \n",
       "August 2017          NaN       NaN       NaN       NaN       NaN       NaN  \n",
       "September 2017       NaN       NaN       NaN       NaN       NaN       NaN  \n",
       "October 2017         NaN       NaN       NaN       NaN       NaN       NaN  \n",
       "November 2017        NaN       NaN       NaN       NaN       NaN       NaN  \n",
       "December 2017        NaN       NaN       NaN       NaN       NaN       NaN  "
      ]
     },
     "execution_count": 61,
     "metadata": {},
     "output_type": "execute_result"
    }
   ],
   "source": [
    "# Переведём значение в процентное соотношение\n",
    "new_cohort_table = cohort_table.divide(cohort_table.iloc[:,0],axis=0)\n",
    "new_cohort_table"
   ]
  },
  {
   "cell_type": "code",
   "execution_count": 195,
   "id": "a6b5bfbd-dd58-41a8-a3c3-7e019796889a",
   "metadata": {},
   "outputs": [
    {
     "data": {
      "text/plain": [
       "<Axes: title={'center': 'Когортный анализ пользователей'}, xlabel='Cohort_Index', ylabel='Cohort_Month'>"
      ]
     },
     "execution_count": 195,
     "metadata": {},
     "output_type": "execute_result"
    },
    {
     "data": {
      "image/png": "[encoded data removed]",
      "text/plain": [
       "<Figure size 1400x800 with 2 Axes>"
      ]
     },
     "metadata": {},
     "output_type": "display_data"
    }
   ],
   "source": [
    "# построим график со следующими параметрами\n",
    "plt.rcParams['axes.titlesize'] = 18\n",
    "plt.xlabel('xlabel', fontsize=16)\n",
    "plt.ylabel('ylabel', fontsize=16)\n",
    "plt.title('Когортный анализ пользователей')\n",
    "sns.set(font='sans-serif')\n",
    "sns.heatmap(cohort_table, annot=True, fmt = '.0f', vmin=0, vmax=15, cmap='Greens', linewidths = 1, linecolor = \"white\")"
   ]
  },
  {
   "cell_type": "code",
   "execution_count": 196,
   "id": "a1ca8035-21b8-4932-8775-62f255bb90a0",
   "metadata": {},
   "outputs": [
    {
     "data": {
      "text/plain": [
       "<Axes: title={'center': 'Когортный анализ пользователей'}, xlabel='Cohort_Index', ylabel='Cohort_Month'>"
      ]
     },
     "execution_count": 196,
     "metadata": {},
     "output_type": "execute_result"
    },
    {
     "data": {
      "image/png": "[encoded data removed]",
      "text/plain": [
       "<Figure size 1400x800 with 2 Axes>"
      ]
     },
     "metadata": {},
     "output_type": "display_data"
    }
   ],
   "source": [
    "# построим график в процентном отображении\n",
    "plt.rcParams['axes.titlesize'] = 18\n",
    "plt.xlabel('xlabel', fontsize=16)\n",
    "plt.ylabel('ylabel', fontsize=16)\n",
    "plt.title('Когортный анализ пользователей')\n",
    "sns.set(font='sans-serif')\n",
    "sns.heatmap(new_cohort_table, annot=True, fmt = '.0%', vmin=0.00001, vmax=0.007, cmap='mako', linewidths = 1, linecolor = \"white\")"
   ]
  },
  {
   "cell_type": "markdown",
   "id": "6b49e5ae-527c-42fd-8583-95a8d4deb99e",
   "metadata": {},
   "source": [
    "### В данном случае не сложно догадаться, что на 3 месяц когорта пришедшая в мае 2017 г. имела наибольший процент возврата, в целом, на второй месяц процент возврата составляет не более 1%, что очень мало, почти 99% пользователей перестают преобретать товар"
   ]
  },
  {
   "cell_type": "markdown",
   "id": "9e25d28d-2894-4876-930a-613a0291f382",
   "metadata": {},
   "source": [
    "### Заключительная стадия: RFM анализ\n",
    "создадим таблицу, где будут хранится данные об уникальных id пользователей, общая сумма покупок, колияества покупок, дата совершения последней покупки, количество дней с момента последней покупки"
   ]
  },
  {
   "cell_type": "code",
   "execution_count": 138,
   "id": "1b184999-d9db-495b-9d22-ef0cb8b1c27e",
   "metadata": {},
   "outputs": [],
   "source": [
    "# создадим таблицу \n",
    "df_rfm = id_orders_product.groupby('customer_unique_id').agg(\n",
    "    purchase_sum = ('price', 'sum'),\n",
    "    purchase_amount = ('price', 'count'),\n",
    "    last_purchase = ('order_purchase_timestamp', 'last'),\n",
    ").reset_index()"
   ]
  },
  {
   "cell_type": "code",
   "execution_count": 139,
   "id": "4226d689-22f6-4b50-8a86-ac1bbde77742",
   "metadata": {},
   "outputs": [],
   "source": [
    "# количество дней с последней покупки\n",
    "df_rfm['days_since_last_purchase'] = (max(id_orders_product['order_purchase_timestamp']) - df_rfm['last_purchase']).dt.days"
   ]
  },
  {
   "cell_type": "code",
   "execution_count": 140,
   "id": "86a49d51-8d31-41dc-90bd-7cca12bd1c82",
   "metadata": {},
   "outputs": [
    {
     "data": {
      "text/html": [
       "<div>\n",
       "<style scoped>\n",
       "    .dataframe tbody tr th:only-of-type {\n",
       "        vertical-align: middle;\n",
       "    }\n",
       "\n",
       "    .dataframe tbody tr th {\n",
       "        vertical-align: top;\n",
       "    }\n",
       "\n",
       "    .dataframe thead th {\n",
       "        text-align: right;\n",
       "    }\n",
       "</style>\n",
       "<table border=\"1\" class=\"dataframe\">\n",
       "  <thead>\n",
       "    <tr style=\"text-align: right;\">\n",
       "      <th></th>\n",
       "      <th>customer_unique_id</th>\n",
       "      <th>purchase_sum</th>\n",
       "      <th>purchase_amount</th>\n",
       "      <th>last_purchase</th>\n",
       "      <th>days_since_last_purchase</th>\n",
       "    </tr>\n",
       "  </thead>\n",
       "  <tbody>\n",
       "    <tr>\n",
       "      <th>0</th>\n",
       "      <td>0000366f3b9a7992bf8c76cfdf3221e2</td>\n",
       "      <td>129.90</td>\n",
       "      <td>1</td>\n",
       "      <td>2018-05-10 10:56:27</td>\n",
       "      <td>115</td>\n",
       "    </tr>\n",
       "    <tr>\n",
       "      <th>1</th>\n",
       "      <td>0000b849f77a49e4a4ce2b2a4ca5be3f</td>\n",
       "      <td>18.90</td>\n",
       "      <td>1</td>\n",
       "      <td>2018-05-07 11:11:27</td>\n",
       "      <td>118</td>\n",
       "    </tr>\n",
       "    <tr>\n",
       "      <th>2</th>\n",
       "      <td>0000f46a3911fa3c0805444483337064</td>\n",
       "      <td>69.00</td>\n",
       "      <td>1</td>\n",
       "      <td>2017-03-10 21:05:03</td>\n",
       "      <td>541</td>\n",
       "    </tr>\n",
       "    <tr>\n",
       "      <th>3</th>\n",
       "      <td>0000f6ccb0745a6a4b88665a16c9f078</td>\n",
       "      <td>25.99</td>\n",
       "      <td>1</td>\n",
       "      <td>2017-10-12 20:29:41</td>\n",
       "      <td>325</td>\n",
       "    </tr>\n",
       "    <tr>\n",
       "      <th>4</th>\n",
       "      <td>0004aac84e0df4da2b147fca70cf8255</td>\n",
       "      <td>180.00</td>\n",
       "      <td>1</td>\n",
       "      <td>2017-11-14 19:45:42</td>\n",
       "      <td>292</td>\n",
       "    </tr>\n",
       "  </tbody>\n",
       "</table>\n",
       "</div>"
      ],
      "text/plain": [
       "                 customer_unique_id  purchase_sum  purchase_amount  \\\n",
       "0  0000366f3b9a7992bf8c76cfdf3221e2        129.90                1   \n",
       "1  0000b849f77a49e4a4ce2b2a4ca5be3f         18.90                1   \n",
       "2  0000f46a3911fa3c0805444483337064         69.00                1   \n",
       "3  0000f6ccb0745a6a4b88665a16c9f078         25.99                1   \n",
       "4  0004aac84e0df4da2b147fca70cf8255        180.00                1   \n",
       "\n",
       "        last_purchase  days_since_last_purchase  \n",
       "0 2018-05-10 10:56:27                       115  \n",
       "1 2018-05-07 11:11:27                       118  \n",
       "2 2017-03-10 21:05:03                       541  \n",
       "3 2017-10-12 20:29:41                       325  \n",
       "4 2017-11-14 19:45:42                       292  "
      ]
     },
     "execution_count": 140,
     "metadata": {},
     "output_type": "execute_result"
    }
   ],
   "source": [
    "df_rfm.head()"
   ]
  },
  {
   "cell_type": "code",
   "execution_count": 141,
   "id": "c37f9724-c15e-442d-9ee0-781963e1beb3",
   "metadata": {},
   "outputs": [
    {
     "data": {
      "text/plain": [
       "{'last_purchase': {0.2: Timestamp('2017-08-09 12:19:56.800000'),\n",
       "  0.5: Timestamp('2018-01-20 21:03:27'),\n",
       "  0.8: Timestamp('2018-05-27 11:08:40')},\n",
       " 'purchase_amount': {0.2: 1.0, 0.5: 1.0, 0.8: 1.0},\n",
       " 'purchase_sum': {0.2: 39.9, 0.5: 89.9, 0.8: 179.9}}"
      ]
     },
     "execution_count": 141,
     "metadata": {},
     "output_type": "execute_result"
    }
   ],
   "source": [
    "# поедлим наши данные на диапазоны при помощи квантилей\n",
    "quintiles = df_rfm[['last_purchase', 'purchase_amount', 'purchase_sum']].quantile([.2, .5, .8]).to_dict()\n",
    "quintiles"
   ]
  },
  {
   "cell_type": "code",
   "execution_count": 142,
   "id": "1cc9d60a-369d-45c7-a032-4d900287f46e",
   "metadata": {},
   "outputs": [],
   "source": [
    "# функция для ранжирования наших пользователей от 1 до 5\n",
    "def r_score(x):\n",
    "    if x <= quintiles['last_purchase'][.2]:\n",
    "        return 3\n",
    "    elif x <= quintiles['last_purchase'][.5]:\n",
    "        return 2\n",
    "    else:\n",
    "        return 1\n",
    "\n",
    "def fm_score(x, c):\n",
    "    if x <= quintiles[c][.2]:\n",
    "        return 1\n",
    "    elif x <= quintiles[c][.5]:\n",
    "        return 2\n",
    "    else:\n",
    "        return 3"
   ]
  },
  {
   "cell_type": "code",
   "execution_count": 143,
   "id": "2b691479-767d-49bf-ba8b-eea7c187a458",
   "metadata": {},
   "outputs": [],
   "source": [
    "# при помощи нашей функции поделим пользователей на сегменты\n",
    "df_rfm['R'] = df_rfm['last_purchase'].apply(lambda x: r_score(x))\n",
    "df_rfm['F'] = df_rfm['purchase_amount'].apply(lambda x: fm_score(x, 'purchase_amount'))\n",
    "df_rfm['M'] = df_rfm['purchase_sum'].apply(lambda x: fm_score(x, 'purchase_sum'))"
   ]
  },
  {
   "cell_type": "code",
   "execution_count": 144,
   "id": "8fc4687b-7b5e-4e26-8b59-e25e3998b374",
   "metadata": {},
   "outputs": [],
   "source": [
    "# итоговая колонка анализа, отображающая итоговый балл пользователя\n",
    "df_rfm.R = df_rfm.R.astype('str')\n",
    "df_rfm.F = df_rfm.F.astype('str')\n",
    "df_rfm.M = df_rfm.M.astype('str')\n",
    "\n",
    "df_rfm['RFMScore'] = df_rfm.R + df_rfm.F + df_rfm.M"
   ]
  },
  {
   "cell_type": "markdown",
   "id": "dae73de4-9dee-4473-b21c-2a1acd7793ee",
   "metadata": {},
   "source": [
    "### Описание значений RFM\n",
    "Recency (R) — давность (как давно клиент что-то у вас покупали);\n",
    "Frequency(F) — частота (как часто клиенты совершают покупки);\n",
    "Monetary(M) — деньги (общая сумма покупок).\n",
    "\n",
    "**По категории (recency):**\n",
    "1 — давние клиенты;\n",
    "2 — относительно недавние клиенты;\n",
    "3 — недавние клиенты.\n",
    "\n",
    "**По категории (frequency):**\n",
    "1 — покупает очень редко (единичные заказы);\n",
    "2 — покупает нечасто;\n",
    "3 — покупает часто.\n",
    "\n",
    "**По категории (monetary):**\n",
    "1 — маленькая сумма;\n",
    "2 — средняя сумма;\n",
    "3 — большая сумма."
   ]
  },
  {
   "cell_type": "markdown",
   "id": "cda30188-f515-4142-bd49-2adc79a3bacd",
   "metadata": {},
   "source": [
    "### Итоговые сегменты:\n",
    "1. **Самые активные пользователи**: последняя покупка недавно, много товаров, большая сумма трат\n",
    "2. **Лояльные покупатели**: регулярно совершают покупки\n",
    "3. **Потенциальные лояльные клиенты**: средняя частота совершения покупок\n",
    "4. **Недавние клиенты**: последняя покупка была не так давно, покупает не часто\n",
    "5. **Многообещающие клиенты**: покупали недавно, но не на большую сумму\n",
    "6. **Клиенты требующие внимания**: давность, частота, стоимость покупки выше среднего, но последняя покупка была давно\n",
    "7. **Простаивающие клиенты** частота, стоимость, давность покупок ниже среднего\n",
    "8. **Клиенты в зоне риска**: покупал часто, но давно\n",
    "9. **Клиенты утратившие интерес**: часто покупали, но давно не возвращались.\n",
    "10. **Почти потерянные клиенты**: последняя покупка была давно, с небольшим количеством товаров."
   ]
  },
  {
   "cell_type": "code",
   "execution_count": 177,
   "id": "6eaad09c-3d85-45ef-9351-f412af34adc7",
   "metadata": {},
   "outputs": [
    {
     "data": {
      "text/html": [
       "<div>\n",
       "<style scoped>\n",
       "    .dataframe tbody tr th:only-of-type {\n",
       "        vertical-align: middle;\n",
       "    }\n",
       "\n",
       "    .dataframe tbody tr th {\n",
       "        vertical-align: top;\n",
       "    }\n",
       "\n",
       "    .dataframe thead th {\n",
       "        text-align: right;\n",
       "    }\n",
       "</style>\n",
       "<table border=\"1\" class=\"dataframe\">\n",
       "  <thead>\n",
       "    <tr style=\"text-align: right;\">\n",
       "      <th></th>\n",
       "      <th>customer_unique_id</th>\n",
       "      <th>purchase_sum</th>\n",
       "      <th>purchase_amount</th>\n",
       "      <th>last_purchase</th>\n",
       "      <th>days_since_last_purchase</th>\n",
       "      <th>R</th>\n",
       "      <th>F</th>\n",
       "      <th>M</th>\n",
       "      <th>RFMScore</th>\n",
       "      <th>Segment</th>\n",
       "    </tr>\n",
       "  </thead>\n",
       "  <tbody>\n",
       "    <tr>\n",
       "      <th>0</th>\n",
       "      <td>0000366f3b9a7992bf8c76cfdf3221e2</td>\n",
       "      <td>129.90</td>\n",
       "      <td>1</td>\n",
       "      <td>2018-05-10 10:56:27</td>\n",
       "      <td>115</td>\n",
       "      <td>1</td>\n",
       "      <td>1</td>\n",
       "      <td>3</td>\n",
       "      <td>113</td>\n",
       "      <td>Почти потерянные клиенты</td>\n",
       "    </tr>\n",
       "    <tr>\n",
       "      <th>1</th>\n",
       "      <td>0000b849f77a49e4a4ce2b2a4ca5be3f</td>\n",
       "      <td>18.90</td>\n",
       "      <td>1</td>\n",
       "      <td>2018-05-07 11:11:27</td>\n",
       "      <td>118</td>\n",
       "      <td>1</td>\n",
       "      <td>1</td>\n",
       "      <td>1</td>\n",
       "      <td>111</td>\n",
       "      <td>Почти потерянные клиенты</td>\n",
       "    </tr>\n",
       "    <tr>\n",
       "      <th>2</th>\n",
       "      <td>0000f46a3911fa3c0805444483337064</td>\n",
       "      <td>69.00</td>\n",
       "      <td>1</td>\n",
       "      <td>2017-03-10 21:05:03</td>\n",
       "      <td>541</td>\n",
       "      <td>3</td>\n",
       "      <td>1</td>\n",
       "      <td>2</td>\n",
       "      <td>312</td>\n",
       "      <td>Простаивающие клиенты</td>\n",
       "    </tr>\n",
       "    <tr>\n",
       "      <th>3</th>\n",
       "      <td>0000f6ccb0745a6a4b88665a16c9f078</td>\n",
       "      <td>25.99</td>\n",
       "      <td>1</td>\n",
       "      <td>2017-10-12 20:29:41</td>\n",
       "      <td>325</td>\n",
       "      <td>2</td>\n",
       "      <td>1</td>\n",
       "      <td>1</td>\n",
       "      <td>211</td>\n",
       "      <td>Почти потерянные клиенты</td>\n",
       "    </tr>\n",
       "    <tr>\n",
       "      <th>4</th>\n",
       "      <td>0004aac84e0df4da2b147fca70cf8255</td>\n",
       "      <td>180.00</td>\n",
       "      <td>1</td>\n",
       "      <td>2017-11-14 19:45:42</td>\n",
       "      <td>292</td>\n",
       "      <td>2</td>\n",
       "      <td>1</td>\n",
       "      <td>3</td>\n",
       "      <td>213</td>\n",
       "      <td>Почти потерянные клиенты</td>\n",
       "    </tr>\n",
       "    <tr>\n",
       "      <th>...</th>\n",
       "      <td>...</td>\n",
       "      <td>...</td>\n",
       "      <td>...</td>\n",
       "      <td>...</td>\n",
       "      <td>...</td>\n",
       "      <td>...</td>\n",
       "      <td>...</td>\n",
       "      <td>...</td>\n",
       "      <td>...</td>\n",
       "      <td>...</td>\n",
       "    </tr>\n",
       "    <tr>\n",
       "      <th>95415</th>\n",
       "      <td>fffcf5a5ff07b0908bd4e2dbc735a684</td>\n",
       "      <td>1570.00</td>\n",
       "      <td>2</td>\n",
       "      <td>2017-06-08 21:00:36</td>\n",
       "      <td>451</td>\n",
       "      <td>3</td>\n",
       "      <td>3</td>\n",
       "      <td>3</td>\n",
       "      <td>333</td>\n",
       "      <td>Клиенты требующие внимания</td>\n",
       "    </tr>\n",
       "    <tr>\n",
       "      <th>95416</th>\n",
       "      <td>fffea47cd6d3cc0a88bd621562a9d061</td>\n",
       "      <td>64.89</td>\n",
       "      <td>1</td>\n",
       "      <td>2017-12-10 20:07:56</td>\n",
       "      <td>266</td>\n",
       "      <td>2</td>\n",
       "      <td>1</td>\n",
       "      <td>2</td>\n",
       "      <td>212</td>\n",
       "      <td>Почти потерянные клиенты</td>\n",
       "    </tr>\n",
       "    <tr>\n",
       "      <th>95417</th>\n",
       "      <td>ffff371b4d645b6ecea244b27531430a</td>\n",
       "      <td>89.90</td>\n",
       "      <td>1</td>\n",
       "      <td>2017-02-07 15:49:16</td>\n",
       "      <td>572</td>\n",
       "      <td>3</td>\n",
       "      <td>1</td>\n",
       "      <td>2</td>\n",
       "      <td>312</td>\n",
       "      <td>Простаивающие клиенты</td>\n",
       "    </tr>\n",
       "    <tr>\n",
       "      <th>95418</th>\n",
       "      <td>ffff5962728ec6157033ef9805bacc48</td>\n",
       "      <td>115.00</td>\n",
       "      <td>1</td>\n",
       "      <td>2018-05-02 15:17:41</td>\n",
       "      <td>123</td>\n",
       "      <td>1</td>\n",
       "      <td>1</td>\n",
       "      <td>3</td>\n",
       "      <td>113</td>\n",
       "      <td>Почти потерянные клиенты</td>\n",
       "    </tr>\n",
       "    <tr>\n",
       "      <th>95419</th>\n",
       "      <td>ffffd2657e2aad2907e67c3e9daecbeb</td>\n",
       "      <td>56.99</td>\n",
       "      <td>1</td>\n",
       "      <td>2017-05-02 20:18:45</td>\n",
       "      <td>488</td>\n",
       "      <td>3</td>\n",
       "      <td>1</td>\n",
       "      <td>2</td>\n",
       "      <td>312</td>\n",
       "      <td>Простаивающие клиенты</td>\n",
       "    </tr>\n",
       "  </tbody>\n",
       "</table>\n",
       "<p>95420 rows × 10 columns</p>\n",
       "</div>"
      ],
      "text/plain": [
       "                     customer_unique_id  purchase_sum  purchase_amount  \\\n",
       "0      0000366f3b9a7992bf8c76cfdf3221e2        129.90                1   \n",
       "1      0000b849f77a49e4a4ce2b2a4ca5be3f         18.90                1   \n",
       "2      0000f46a3911fa3c0805444483337064         69.00                1   \n",
       "3      0000f6ccb0745a6a4b88665a16c9f078         25.99                1   \n",
       "4      0004aac84e0df4da2b147fca70cf8255        180.00                1   \n",
       "...                                 ...           ...              ...   \n",
       "95415  fffcf5a5ff07b0908bd4e2dbc735a684       1570.00                2   \n",
       "95416  fffea47cd6d3cc0a88bd621562a9d061         64.89                1   \n",
       "95417  ffff371b4d645b6ecea244b27531430a         89.90                1   \n",
       "95418  ffff5962728ec6157033ef9805bacc48        115.00                1   \n",
       "95419  ffffd2657e2aad2907e67c3e9daecbeb         56.99                1   \n",
       "\n",
       "            last_purchase  days_since_last_purchase  R  F  M RFMScore  \\\n",
       "0     2018-05-10 10:56:27                       115  1  1  3      113   \n",
       "1     2018-05-07 11:11:27                       118  1  1  1      111   \n",
       "2     2017-03-10 21:05:03                       541  3  1  2      312   \n",
       "3     2017-10-12 20:29:41                       325  2  1  1      211   \n",
       "4     2017-11-14 19:45:42                       292  2  1  3      213   \n",
       "...                   ...                       ... .. .. ..      ...   \n",
       "95415 2017-06-08 21:00:36                       451  3  3  3      333   \n",
       "95416 2017-12-10 20:07:56                       266  2  1  2      212   \n",
       "95417 2017-02-07 15:49:16                       572  3  1  2      312   \n",
       "95418 2018-05-02 15:17:41                       123  1  1  3      113   \n",
       "95419 2017-05-02 20:18:45                       488  3  1  2      312   \n",
       "\n",
       "                          Segment  \n",
       "0        Почти потерянные клиенты  \n",
       "1        Почти потерянные клиенты  \n",
       "2           Простаивающие клиенты  \n",
       "3        Почти потерянные клиенты  \n",
       "4        Почти потерянные клиенты  \n",
       "...                           ...  \n",
       "95415  Клиенты требующие внимания  \n",
       "95416    Почти потерянные клиенты  \n",
       "95417       Простаивающие клиенты  \n",
       "95418    Почти потерянные клиенты  \n",
       "95419       Простаивающие клиенты  \n",
       "\n",
       "[95420 rows x 10 columns]"
      ]
     },
     "execution_count": 177,
     "metadata": {},
     "output_type": "execute_result"
    }
   ],
   "source": [
    "segt_map = {\n",
    "    r'[1-2][1-2]': 'Почти потерянные клиенты',\n",
    "    r'[1-2][3-4]': 'Клиенты в зоне риска',\n",
    "    r'[1-2]5': 'Клиенты утратившие интерес',\n",
    "    r'3[1-2]': 'Простаивающие клиенты',\n",
    "    r'33': 'Клиенты требующие внимания',\n",
    "    r'[3-4][4-5]': 'Лояльные покупателиs',\n",
    "    r'41': 'Многообещающие клиенты',\n",
    "    r'51': 'Недавние клиенты',\n",
    "    r'[4-5][2-3]': 'Потенциальные лояльные клиенты',\n",
    "    r'5[4-5]': 'Самые активные пользователи'\n",
    "}\n",
    "\n",
    "df_rfm['Segment'] = df_rfm['R'].map(str) + df_rfm['F'].map(str)\n",
    "df_rfm['Segment'] = df_rfm['Segment'].replace(segt_map, regex=True)\n",
    "df_rfm"
   ]
  },
  {
   "cell_type": "code",
   "execution_count": 184,
   "id": "87d609c4-dde6-45af-81b0-8bf3f7c6c3c3",
   "metadata": {},
   "outputs": [
    {
     "data": {
      "text/html": [
       "<div>\n",
       "<style scoped>\n",
       "    .dataframe tbody tr th:only-of-type {\n",
       "        vertical-align: middle;\n",
       "    }\n",
       "\n",
       "    .dataframe tbody tr th {\n",
       "        vertical-align: top;\n",
       "    }\n",
       "\n",
       "    .dataframe thead th {\n",
       "        text-align: right;\n",
       "    }\n",
       "</style>\n",
       "<table border=\"1\" class=\"dataframe\">\n",
       "  <thead>\n",
       "    <tr style=\"text-align: right;\">\n",
       "      <th></th>\n",
       "      <th>Segment</th>\n",
       "      <th>column_segment</th>\n",
       "    </tr>\n",
       "  </thead>\n",
       "  <tbody>\n",
       "    <tr>\n",
       "      <th>2</th>\n",
       "      <td>Почти потерянные клиенты</td>\n",
       "      <td>66905</td>\n",
       "    </tr>\n",
       "    <tr>\n",
       "      <th>3</th>\n",
       "      <td>Простаивающие клиенты</td>\n",
       "      <td>16646</td>\n",
       "    </tr>\n",
       "    <tr>\n",
       "      <th>0</th>\n",
       "      <td>Клиенты в зоне риска</td>\n",
       "      <td>9431</td>\n",
       "    </tr>\n",
       "    <tr>\n",
       "      <th>1</th>\n",
       "      <td>Клиенты требующие внимания</td>\n",
       "      <td>2438</td>\n",
       "    </tr>\n",
       "  </tbody>\n",
       "</table>\n",
       "</div>"
      ],
      "text/plain": [
       "                      Segment  column_segment\n",
       "2    Почти потерянные клиенты           66905\n",
       "3       Простаивающие клиенты           16646\n",
       "0        Клиенты в зоне риска            9431\n",
       "1  Клиенты требующие внимания            2438"
      ]
     },
     "execution_count": 184,
     "metadata": {},
     "output_type": "execute_result"
    }
   ],
   "source": [
    "# количество пользователей по категориям\n",
    "df_rfm.groupby('Segment', as_index=False) \\\n",
    "      .agg(column_segment = ('Segment', 'count')) \\\n",
    "      .sort_values('column_segment', ascending=False)"
   ]
  },
  {
   "cell_type": "code",
   "execution_count": 204,
   "id": "963dec9d-3c10-4cf7-9cea-3731b8aa6a62",
   "metadata": {},
   "outputs": [
    {
     "data": {
      "text/html": [
       "<div>\n",
       "<style scoped>\n",
       "    .dataframe tbody tr th:only-of-type {\n",
       "        vertical-align: middle;\n",
       "    }\n",
       "\n",
       "    .dataframe tbody tr th {\n",
       "        vertical-align: top;\n",
       "    }\n",
       "\n",
       "    .dataframe thead th {\n",
       "        text-align: right;\n",
       "    }\n",
       "</style>\n",
       "<table border=\"1\" class=\"dataframe\">\n",
       "  <thead>\n",
       "    <tr style=\"text-align: right;\">\n",
       "      <th></th>\n",
       "      <th>Segment</th>\n",
       "      <th>all_users</th>\n",
       "    </tr>\n",
       "  </thead>\n",
       "  <tbody>\n",
       "    <tr>\n",
       "      <th>0</th>\n",
       "      <td>Клиенты в зоне риска</td>\n",
       "      <td>9431</td>\n",
       "    </tr>\n",
       "    <tr>\n",
       "      <th>1</th>\n",
       "      <td>Клиенты требующие внимания</td>\n",
       "      <td>2438</td>\n",
       "    </tr>\n",
       "    <tr>\n",
       "      <th>2</th>\n",
       "      <td>Почти потерянные клиенты</td>\n",
       "      <td>66905</td>\n",
       "    </tr>\n",
       "    <tr>\n",
       "      <th>3</th>\n",
       "      <td>Простаивающие клиенты</td>\n",
       "      <td>16646</td>\n",
       "    </tr>\n",
       "  </tbody>\n",
       "</table>\n",
       "</div>"
      ],
      "text/plain": [
       "                      Segment  all_users\n",
       "0        Клиенты в зоне риска       9431\n",
       "1  Клиенты требующие внимания       2438\n",
       "2    Почти потерянные клиенты      66905\n",
       "3       Простаивающие клиенты      16646"
      ]
     },
     "execution_count": 204,
     "metadata": {},
     "output_type": "execute_result"
    }
   ],
   "source": [
    "data_plot = df_rfm.groupby('Segment') \\\n",
    "                  .agg(all_users = ('RFMScore', 'count')).reset_index()\n",
    "data_plot"
   ]
  },
  {
   "cell_type": "markdown",
   "id": "6e1b25a4-5fad-4a1d-867e-629e28cb8532",
   "metadata": {},
   "source": [
    "### Ообразим получившиеся результаты на графиках"
   ]
  },
  {
   "cell_type": "code",
   "execution_count": 208,
   "id": "d01a33f4-369f-4a9f-9fb7-c7117d45c760",
   "metadata": {},
   "outputs": [
    {
     "data": {
      "application/vnd.plotly.v1+json": {
       "config": {
        "plotlyServerURL": "https://plot.ly"
       },
       "data": [
        {
         "branchvalues": "total",
         "domain": {
          "x": [
           0,
           1
          ],
          "y": [
           0,
           1
          ]
         },
         "hovertemplate": "labels=%{label}<br>all_users=%{value}<br>parent=%{parent}<br>id=%{id}<extra></extra>",
         "ids": [
          "Клиенты в зоне риска",
          "Клиенты требующие внимания",
          "Почти потерянные клиенты",
          "Простаивающие клиенты"
         ],
         "labels": [
          "Клиенты в зоне риска",
          "Клиенты требующие внимания",
          "Почти потерянные клиенты",
          "Простаивающие клиенты"
         ],
         "name": "",
         "parents": [
          "",
          "",
          "",
          ""
         ],
         "type": "treemap",
         "values": [
          9431,
          2438,
          66905,
          16646
         ]
        }
       ],
       "layout": {
        "autosize": true,
        "legend": {
         "tracegroupgap": 0
        },
        "margin": {
         "t": 60
        },
        "template": {
         "data": {
          "bar": [
           {
            "error_x": {
             "color": "#2a3f5f"
            },
            "error_y": {
             "color": "#2a3f5f"
            },
            "marker": {
             "line": {
              "color": "#E5ECF6",
              "width": 0.5
             },
             "pattern": {
              "fillmode": "overlay",
              "size": 10,
              "solidity": 0.2
             }
            },
            "type": "bar"
           }
          ],
          "barpolar": [
           {
            "marker": {
             "line": {
              "color": "#E5ECF6",
              "width": 0.5
             },
             "pattern": {
              "fillmode": "overlay",
              "size": 10,
              "solidity": 0.2
             }
            },
            "type": "barpolar"
           }
          ],
          "carpet": [
           {
            "aaxis": {
             "endlinecolor": "#2a3f5f",
             "gridcolor": "white",
             "linecolor": "white",
             "minorgridcolor": "white",
             "startlinecolor": "#2a3f5f"
            },
            "baxis": {
             "endlinecolor": "#2a3f5f",
             "gridcolor": "white",
             "linecolor": "white",
             "minorgridcolor": "white",
             "startlinecolor": "#2a3f5f"
            },
            "type": "carpet"
           }
          ],
          "choropleth": [
           {
            "colorbar": {
             "outlinewidth": 0,
             "ticks": ""
            },
            "type": "choropleth"
           }
          ],
          "contour": [
           {
            "colorbar": {
             "outlinewidth": 0,
             "ticks": ""
            },
            "colorscale": [
             [
              0,
              "#0d0887"
             ],
             [
              0.1111111111111111,
              "#46039f"
             ],
             [
              0.2222222222222222,
              "#7201a8"
             ],
             [
              0.3333333333333333,
              "#9c179e"
             ],
             [
              0.4444444444444444,
              "#bd3786"
             ],
             [
              0.5555555555555556,
              "#d8576b"
             ],
             [
              0.6666666666666666,
              "#ed7953"
             ],
             [
              0.7777777777777778,
              "#fb9f3a"
             ],
             [
              0.8888888888888888,
              "#fdca26"
             ],
             [
              1,
              "#f0f921"
             ]
            ],
            "type": "contour"
           }
          ],
          "contourcarpet": [
           {
            "colorbar": {
             "outlinewidth": 0,
             "ticks": ""
            },
            "type": "contourcarpet"
           }
          ],
          "heatmap": [
           {
            "colorbar": {
             "outlinewidth": 0,
             "ticks": ""
            },
            "colorscale": [
             [
              0,
              "#0d0887"
             ],
             [
              0.1111111111111111,
              "#46039f"
             ],
             [
              0.2222222222222222,
              "#7201a8"
             ],
             [
              0.3333333333333333,
              "#9c179e"
             ],
             [
              0.4444444444444444,
              "#bd3786"
             ],
             [
              0.5555555555555556,
              "#d8576b"
             ],
             [
              0.6666666666666666,
              "#ed7953"
             ],
             [
              0.7777777777777778,
              "#fb9f3a"
             ],
             [
              0.8888888888888888,
              "#fdca26"
             ],
             [
              1,
              "#f0f921"
             ]
            ],
            "type": "heatmap"
           }
          ],
          "heatmapgl": [
           {
            "colorbar": {
             "outlinewidth": 0,
             "ticks": ""
            },
            "colorscale": [
             [
              0,
              "#0d0887"
             ],
             [
              0.1111111111111111,
              "#46039f"
             ],
             [
              0.2222222222222222,
              "#7201a8"
             ],
             [
              0.3333333333333333,
              "#9c179e"
             ],
             [
              0.4444444444444444,
              "#bd3786"
             ],
             [
              0.5555555555555556,
              "#d8576b"
             ],
             [
              0.6666666666666666,
              "#ed7953"
             ],
             [
              0.7777777777777778,
              "#fb9f3a"
             ],
             [
              0.8888888888888888,
              "#fdca26"
             ],
             [
              1,
              "#f0f921"
             ]
            ],
            "type": "heatmapgl"
           }
          ],
          "histogram": [
           {
            "marker": {
             "pattern": {
              "fillmode": "overlay",
              "size": 10,
              "solidity": 0.2
             }
            },
            "type": "histogram"
           }
          ],
          "histogram2d": [
           {
            "colorbar": {
             "outlinewidth": 0,
             "ticks": ""
            },
            "colorscale": [
             [
              0,
              "#0d0887"
             ],
             [
              0.1111111111111111,
              "#46039f"
             ],
             [
              0.2222222222222222,
              "#7201a8"
             ],
             [
              0.3333333333333333,
              "#9c179e"
             ],
             [
              0.4444444444444444,
              "#bd3786"
             ],
             [
              0.5555555555555556,
              "#d8576b"
             ],
             [
              0.6666666666666666,
              "#ed7953"
             ],
             [
              0.7777777777777778,
              "#fb9f3a"
             ],
             [
              0.8888888888888888,
              "#fdca26"
             ],
             [
              1,
              "#f0f921"
             ]
            ],
            "type": "histogram2d"
           }
          ],
          "histogram2dcontour": [
           {
            "colorbar": {
             "outlinewidth": 0,
             "ticks": ""
            },
            "colorscale": [
             [
              0,
              "#0d0887"
             ],
             [
              0.1111111111111111,
              "#46039f"
             ],
             [
              0.2222222222222222,
              "#7201a8"
             ],
             [
              0.3333333333333333,
              "#9c179e"
             ],
             [
              0.4444444444444444,
              "#bd3786"
             ],
             [
              0.5555555555555556,
              "#d8576b"
             ],
             [
              0.6666666666666666,
              "#ed7953"
             ],
             [
              0.7777777777777778,
              "#fb9f3a"
             ],
             [
              0.8888888888888888,
              "#fdca26"
             ],
             [
              1,
              "#f0f921"
             ]
            ],
            "type": "histogram2dcontour"
           }
          ],
          "mesh3d": [
           {
            "colorbar": {
             "outlinewidth": 0,
             "ticks": ""
            },
            "type": "mesh3d"
           }
          ],
          "parcoords": [
           {
            "line": {
             "colorbar": {
              "outlinewidth": 0,
              "ticks": ""
             }
            },
            "type": "parcoords"
           }
          ],
          "pie": [
           {
            "automargin": true,
            "type": "pie"
           }
          ],
          "scatter": [
           {
            "fillpattern": {
             "fillmode": "overlay",
             "size": 10,
             "solidity": 0.2
            },
            "type": "scatter"
           }
          ],
          "scatter3d": [
           {
            "line": {
             "colorbar": {
              "outlinewidth": 0,
              "ticks": ""
             }
            },
            "marker": {
             "colorbar": {
              "outlinewidth": 0,
              "ticks": ""
             }
            },
            "type": "scatter3d"
           }
          ],
          "scattercarpet": [
           {
            "marker": {
             "colorbar": {
              "outlinewidth": 0,
              "ticks": ""
             }
            },
            "type": "scattercarpet"
           }
          ],
          "scattergeo": [
           {
            "marker": {
             "colorbar": {
              "outlinewidth": 0,
              "ticks": ""
             }
            },
            "type": "scattergeo"
           }
          ],
          "scattergl": [
           {
            "marker": {
             "colorbar": {
              "outlinewidth": 0,
              "ticks": ""
             }
            },
            "type": "scattergl"
           }
          ],
          "scattermapbox": [
           {
            "marker": {
             "colorbar": {
              "outlinewidth": 0,
              "ticks": ""
             }
            },
            "type": "scattermapbox"
           }
          ],
          "scatterpolar": [
           {
            "marker": {
             "colorbar": {
              "outlinewidth": 0,
              "ticks": ""
             }
            },
            "type": "scatterpolar"
           }
          ],
          "scatterpolargl": [
           {
            "marker": {
             "colorbar": {
              "outlinewidth": 0,
              "ticks": ""
             }
            },
            "type": "scatterpolargl"
           }
          ],
          "scatterternary": [
           {
            "marker": {
             "colorbar": {
              "outlinewidth": 0,
              "ticks": ""
             }
            },
            "type": "scatterternary"
           }
          ],
          "surface": [
           {
            "colorbar": {
             "outlinewidth": 0,
             "ticks": ""
            },
            "colorscale": [
             [
              0,
              "#0d0887"
             ],
             [
              0.1111111111111111,
              "#46039f"
             ],
             [
              0.2222222222222222,
              "#7201a8"
             ],
             [
              0.3333333333333333,
              "#9c179e"
             ],
             [
              0.4444444444444444,
              "#bd3786"
             ],
             [
              0.5555555555555556,
              "#d8576b"
             ],
             [
              0.6666666666666666,
              "#ed7953"
             ],
             [
              0.7777777777777778,
              "#fb9f3a"
             ],
             [
              0.8888888888888888,
              "#fdca26"
             ],
             [
              1,
              "#f0f921"
             ]
            ],
            "type": "surface"
           }
          ],
          "table": [
           {
            "cells": {
             "fill": {
              "color": "#EBF0F8"
             },
             "line": {
              "color": "white"
             }
            },
            "header": {
             "fill": {
              "color": "#C8D4E3"
             },
             "line": {
              "color": "white"
             }
            },
            "type": "table"
           }
          ]
         },
         "layout": {
          "annotationdefaults": {
           "arrowcolor": "#2a3f5f",
           "arrowhead": 0,
           "arrowwidth": 1
          },
          "autotypenumbers": "strict",
          "coloraxis": {
           "colorbar": {
            "outlinewidth": 0,
            "ticks": ""
           }
          },
          "colorscale": {
           "diverging": [
            [
             0,
             "#8e0152"
            ],
            [
             0.1,
             "#c51b7d"
            ],
            [
             0.2,
             "#de77ae"
            ],
            [
             0.3,
             "#f1b6da"
            ],
            [
             0.4,
             "#fde0ef"
            ],
            [
             0.5,
             "#f7f7f7"
            ],
            [
             0.6,
             "#e6f5d0"
            ],
            [
             0.7,
             "#b8e186"
            ],
            [
             0.8,
             "#7fbc41"
            ],
            [
             0.9,
             "#4d9221"
            ],
            [
             1,
             "#276419"
            ]
           ],
           "sequential": [
            [
             0,
             "#0d0887"
            ],
            [
             0.1111111111111111,
             "#46039f"
            ],
            [
             0.2222222222222222,
             "#7201a8"
            ],
            [
             0.3333333333333333,
             "#9c179e"
            ],
            [
             0.4444444444444444,
             "#bd3786"
            ],
            [
             0.5555555555555556,
             "#d8576b"
            ],
            [
             0.6666666666666666,
             "#ed7953"
            ],
            [
             0.7777777777777778,
             "#fb9f3a"
            ],
            [
             0.8888888888888888,
             "#fdca26"
            ],
            [
             1,
             "#f0f921"
            ]
           ],
           "sequentialminus": [
            [
             0,
             "#0d0887"
            ],
            [
             0.1111111111111111,
             "#46039f"
            ],
            [
             0.2222222222222222,
             "#7201a8"
            ],
            [
             0.3333333333333333,
             "#9c179e"
            ],
            [
             0.4444444444444444,
             "#bd3786"
            ],
            [
             0.5555555555555556,
             "#d8576b"
            ],
            [
             0.6666666666666666,
             "#ed7953"
            ],
            [
             0.7777777777777778,
             "#fb9f3a"
            ],
            [
             0.8888888888888888,
             "#fdca26"
            ],
            [
             1,
             "#f0f921"
            ]
           ]
          },
          "colorway": [
           "#636efa",
           "#EF553B",
           "#00cc96",
           "#ab63fa",
           "#FFA15A",
           "#19d3f3",
           "#FF6692",
           "#B6E880",
           "#FF97FF",
           "#FECB52"
          ],
          "font": {
           "color": "#2a3f5f"
          },
          "geo": {
           "bgcolor": "white",
           "lakecolor": "white",
           "landcolor": "#E5ECF6",
           "showlakes": true,
           "showland": true,
           "subunitcolor": "white"
          },
          "hoverlabel": {
           "align": "left"
          },
          "hovermode": "closest",
          "mapbox": {
           "style": "light"
          },
          "paper_bgcolor": "white",
          "plot_bgcolor": "#E5ECF6",
          "polar": {
           "angularaxis": {
            "gridcolor": "white",
            "linecolor": "white",
            "ticks": ""
           },
           "bgcolor": "#E5ECF6",
           "radialaxis": {
            "gridcolor": "white",
            "linecolor": "white",
            "ticks": ""
           }
          },
          "scene": {
           "xaxis": {
            "backgroundcolor": "#E5ECF6",
            "gridcolor": "white",
            "gridwidth": 2,
            "linecolor": "white",
            "showbackground": true,
            "ticks": "",
            "zerolinecolor": "white"
           },
           "yaxis": {
            "backgroundcolor": "#E5ECF6",
            "gridcolor": "white",
            "gridwidth": 2,
            "linecolor": "white",
            "showbackground": true,
            "ticks": "",
            "zerolinecolor": "white"
           },
           "zaxis": {
            "backgroundcolor": "#E5ECF6",
            "gridcolor": "white",
            "gridwidth": 2,
            "linecolor": "white",
            "showbackground": true,
            "ticks": "",
            "zerolinecolor": "white"
           }
          },
          "shapedefaults": {
           "line": {
            "color": "#2a3f5f"
           }
          },
          "ternary": {
           "aaxis": {
            "gridcolor": "white",
            "linecolor": "white",
            "ticks": ""
           },
           "baxis": {
            "gridcolor": "white",
            "linecolor": "white",
            "ticks": ""
           },
           "bgcolor": "#E5ECF6",
           "caxis": {
            "gridcolor": "white",
            "linecolor": "white",
            "ticks": ""
           }
          },
          "title": {
           "x": 0.05
          },
          "xaxis": {
           "automargin": true,
           "gridcolor": "white",
           "linecolor": "white",
           "ticks": "",
           "title": {
            "standoff": 15
           },
           "zerolinecolor": "white",
           "zerolinewidth": 2
          },
          "yaxis": {
           "automargin": true,
           "gridcolor": "white",
           "linecolor": "white",
           "ticks": "",
           "title": {
            "standoff": 15
           },
           "zerolinecolor": "white",
           "zerolinewidth": 2
          }
         }
        }
       }
      },
      "image/png": "[encoded data removed]",
      "text/html": [
       "<div>                            <div id=\"6c6436b8-56f3-4408-9163-ecdfbb608167\" class=\"plotly-graph-div\" style=\"height:525px; width:100%;\"></div>            <script type=\"text/javascript\">                require([\"plotly\"], function(Plotly) {                    window.PLOTLYENV=window.PLOTLYENV || {};                                    if (document.getElementById(\"6c6436b8-56f3-4408-9163-ecdfbb608167\")) {                    Plotly.newPlot(                        \"6c6436b8-56f3-4408-9163-ecdfbb608167\",                        [{\"branchvalues\":\"total\",\"domain\":{\"x\":[0.0,1.0],\"y\":[0.0,1.0]},\"hovertemplate\":\"labels=%{label}\\u003cbr\\u003eall_users=%{value}\\u003cbr\\u003eparent=%{parent}\\u003cbr\\u003eid=%{id}\\u003cextra\\u003e\\u003c\\u002fextra\\u003e\",\"ids\":[\"\\u041a\\u043b\\u0438\\u0435\\u043d\\u0442\\u044b \\u0432 \\u0437\\u043e\\u043d\\u0435 \\u0440\\u0438\\u0441\\u043a\\u0430\",\"\\u041a\\u043b\\u0438\\u0435\\u043d\\u0442\\u044b \\u0442\\u0440\\u0435\\u0431\\u0443\\u044e\\u0449\\u0438\\u0435 \\u0432\\u043d\\u0438\\u043c\\u0430\\u043d\\u0438\\u044f\",\"\\u041f\\u043e\\u0447\\u0442\\u0438 \\u043f\\u043e\\u0442\\u0435\\u0440\\u044f\\u043d\\u043d\\u044b\\u0435 \\u043a\\u043b\\u0438\\u0435\\u043d\\u0442\\u044b\",\"\\u041f\\u0440\\u043e\\u0441\\u0442\\u0430\\u0438\\u0432\\u0430\\u044e\\u0449\\u0438\\u0435 \\u043a\\u043b\\u0438\\u0435\\u043d\\u0442\\u044b\"],\"labels\":[\"\\u041a\\u043b\\u0438\\u0435\\u043d\\u0442\\u044b \\u0432 \\u0437\\u043e\\u043d\\u0435 \\u0440\\u0438\\u0441\\u043a\\u0430\",\"\\u041a\\u043b\\u0438\\u0435\\u043d\\u0442\\u044b \\u0442\\u0440\\u0435\\u0431\\u0443\\u044e\\u0449\\u0438\\u0435 \\u0432\\u043d\\u0438\\u043c\\u0430\\u043d\\u0438\\u044f\",\"\\u041f\\u043e\\u0447\\u0442\\u0438 \\u043f\\u043e\\u0442\\u0435\\u0440\\u044f\\u043d\\u043d\\u044b\\u0435 \\u043a\\u043b\\u0438\\u0435\\u043d\\u0442\\u044b\",\"\\u041f\\u0440\\u043e\\u0441\\u0442\\u0430\\u0438\\u0432\\u0430\\u044e\\u0449\\u0438\\u0435 \\u043a\\u043b\\u0438\\u0435\\u043d\\u0442\\u044b\"],\"name\":\"\",\"parents\":[\"\",\"\",\"\",\"\"],\"values\":[9431,2438,66905,16646],\"type\":\"treemap\"}],                        {\"template\":{\"data\":{\"histogram2dcontour\":[{\"type\":\"histogram2dcontour\",\"colorbar\":{\"outlinewidth\":0,\"ticks\":\"\"},\"colorscale\":[[0.0,\"#0d0887\"],[0.1111111111111111,\"#46039f\"],[0.2222222222222222,\"#7201a8\"],[0.3333333333333333,\"#9c179e\"],[0.4444444444444444,\"#bd3786\"],[0.5555555555555556,\"#d8576b\"],[0.6666666666666666,\"#ed7953\"],[0.7777777777777778,\"#fb9f3a\"],[0.8888888888888888,\"#fdca26\"],[1.0,\"#f0f921\"]]}],\"choropleth\":[{\"type\":\"choropleth\",\"colorbar\":{\"outlinewidth\":0,\"ticks\":\"\"}}],\"histogram2d\":[{\"type\":\"histogram2d\",\"colorbar\":{\"outlinewidth\":0,\"ticks\":\"\"},\"colorscale\":[[0.0,\"#0d0887\"],[0.1111111111111111,\"#46039f\"],[0.2222222222222222,\"#7201a8\"],[0.3333333333333333,\"#9c179e\"],[0.4444444444444444,\"#bd3786\"],[0.5555555555555556,\"#d8576b\"],[0.6666666666666666,\"#ed7953\"],[0.7777777777777778,\"#fb9f3a\"],[0.8888888888888888,\"#fdca26\"],[1.0,\"#f0f921\"]]}],\"heatmap\":[{\"type\":\"heatmap\",\"colorbar\":{\"outlinewidth\":0,\"ticks\":\"\"},\"colorscale\":[[0.0,\"#0d0887\"],[0.1111111111111111,\"#46039f\"],[0.2222222222222222,\"#7201a8\"],[0.3333333333333333,\"#9c179e\"],[0.4444444444444444,\"#bd3786\"],[0.5555555555555556,\"#d8576b\"],[0.6666666666666666,\"#ed7953\"],[0.7777777777777778,\"#fb9f3a\"],[0.8888888888888888,\"#fdca26\"],[1.0,\"#f0f921\"]]}],\"heatmapgl\":[{\"type\":\"heatmapgl\",\"colorbar\":{\"outlinewidth\":0,\"ticks\":\"\"},\"colorscale\":[[0.0,\"#0d0887\"],[0.1111111111111111,\"#46039f\"],[0.2222222222222222,\"#7201a8\"],[0.3333333333333333,\"#9c179e\"],[0.4444444444444444,\"#bd3786\"],[0.5555555555555556,\"#d8576b\"],[0.6666666666666666,\"#ed7953\"],[0.7777777777777778,\"#fb9f3a\"],[0.8888888888888888,\"#fdca26\"],[1.0,\"#f0f921\"]]}],\"contourcarpet\":[{\"type\":\"contourcarpet\",\"colorbar\":{\"outlinewidth\":0,\"ticks\":\"\"}}],\"contour\":[{\"type\":\"contour\",\"colorbar\":{\"outlinewidth\":0,\"ticks\":\"\"},\"colorscale\":[[0.0,\"#0d0887\"],[0.1111111111111111,\"#46039f\"],[0.2222222222222222,\"#7201a8\"],[0.3333333333333333,\"#9c179e\"],[0.4444444444444444,\"#bd3786\"],[0.5555555555555556,\"#d8576b\"],[0.6666666666666666,\"#ed7953\"],[0.7777777777777778,\"#fb9f3a\"],[0.8888888888888888,\"#fdca26\"],[1.0,\"#f0f921\"]]}],\"surface\":[{\"type\":\"surface\",\"colorbar\":{\"outlinewidth\":0,\"ticks\":\"\"},\"colorscale\":[[0.0,\"#0d0887\"],[0.1111111111111111,\"#46039f\"],[0.2222222222222222,\"#7201a8\"],[0.3333333333333333,\"#9c179e\"],[0.4444444444444444,\"#bd3786\"],[0.5555555555555556,\"#d8576b\"],[0.6666666666666666,\"#ed7953\"],[0.7777777777777778,\"#fb9f3a\"],[0.8888888888888888,\"#fdca26\"],[1.0,\"#f0f921\"]]}],\"mesh3d\":[{\"type\":\"mesh3d\",\"colorbar\":{\"outlinewidth\":0,\"ticks\":\"\"}}],\"scatter\":[{\"fillpattern\":{\"fillmode\":\"overlay\",\"size\":10,\"solidity\":0.2},\"type\":\"scatter\"}],\"parcoords\":[{\"type\":\"parcoords\",\"line\":{\"colorbar\":{\"outlinewidth\":0,\"ticks\":\"\"}}}],\"scatterpolargl\":[{\"type\":\"scatterpolargl\",\"marker\":{\"colorbar\":{\"outlinewidth\":0,\"ticks\":\"\"}}}],\"bar\":[{\"error_x\":{\"color\":\"#2a3f5f\"},\"error_y\":{\"color\":\"#2a3f5f\"},\"marker\":{\"line\":{\"color\":\"#E5ECF6\",\"width\":0.5},\"pattern\":{\"fillmode\":\"overlay\",\"size\":10,\"solidity\":0.2}},\"type\":\"bar\"}],\"scattergeo\":[{\"type\":\"scattergeo\",\"marker\":{\"colorbar\":{\"outlinewidth\":0,\"ticks\":\"\"}}}],\"scatterpolar\":[{\"type\":\"scatterpolar\",\"marker\":{\"colorbar\":{\"outlinewidth\":0,\"ticks\":\"\"}}}],\"histogram\":[{\"marker\":{\"pattern\":{\"fillmode\":\"overlay\",\"size\":10,\"solidity\":0.2}},\"type\":\"histogram\"}],\"scattergl\":[{\"type\":\"scattergl\",\"marker\":{\"colorbar\":{\"outlinewidth\":0,\"ticks\":\"\"}}}],\"scatter3d\":[{\"type\":\"scatter3d\",\"line\":{\"colorbar\":{\"outlinewidth\":0,\"ticks\":\"\"}},\"marker\":{\"colorbar\":{\"outlinewidth\":0,\"ticks\":\"\"}}}],\"scattermapbox\":[{\"type\":\"scattermapbox\",\"marker\":{\"colorbar\":{\"outlinewidth\":0,\"ticks\":\"\"}}}],\"scatterternary\":[{\"type\":\"scatterternary\",\"marker\":{\"colorbar\":{\"outlinewidth\":0,\"ticks\":\"\"}}}],\"scattercarpet\":[{\"type\":\"scattercarpet\",\"marker\":{\"colorbar\":{\"outlinewidth\":0,\"ticks\":\"\"}}}],\"carpet\":[{\"aaxis\":{\"endlinecolor\":\"#2a3f5f\",\"gridcolor\":\"white\",\"linecolor\":\"white\",\"minorgridcolor\":\"white\",\"startlinecolor\":\"#2a3f5f\"},\"baxis\":{\"endlinecolor\":\"#2a3f5f\",\"gridcolor\":\"white\",\"linecolor\":\"white\",\"minorgridcolor\":\"white\",\"startlinecolor\":\"#2a3f5f\"},\"type\":\"carpet\"}],\"table\":[{\"cells\":{\"fill\":{\"color\":\"#EBF0F8\"},\"line\":{\"color\":\"white\"}},\"header\":{\"fill\":{\"color\":\"#C8D4E3\"},\"line\":{\"color\":\"white\"}},\"type\":\"table\"}],\"barpolar\":[{\"marker\":{\"line\":{\"color\":\"#E5ECF6\",\"width\":0.5},\"pattern\":{\"fillmode\":\"overlay\",\"size\":10,\"solidity\":0.2}},\"type\":\"barpolar\"}],\"pie\":[{\"automargin\":true,\"type\":\"pie\"}]},\"layout\":{\"autotypenumbers\":\"strict\",\"colorway\":[\"#636efa\",\"#EF553B\",\"#00cc96\",\"#ab63fa\",\"#FFA15A\",\"#19d3f3\",\"#FF6692\",\"#B6E880\",\"#FF97FF\",\"#FECB52\"],\"font\":{\"color\":\"#2a3f5f\"},\"hovermode\":\"closest\",\"hoverlabel\":{\"align\":\"left\"},\"paper_bgcolor\":\"white\",\"plot_bgcolor\":\"#E5ECF6\",\"polar\":{\"bgcolor\":\"#E5ECF6\",\"angularaxis\":{\"gridcolor\":\"white\",\"linecolor\":\"white\",\"ticks\":\"\"},\"radialaxis\":{\"gridcolor\":\"white\",\"linecolor\":\"white\",\"ticks\":\"\"}},\"ternary\":{\"bgcolor\":\"#E5ECF6\",\"aaxis\":{\"gridcolor\":\"white\",\"linecolor\":\"white\",\"ticks\":\"\"},\"baxis\":{\"gridcolor\":\"white\",\"linecolor\":\"white\",\"ticks\":\"\"},\"caxis\":{\"gridcolor\":\"white\",\"linecolor\":\"white\",\"ticks\":\"\"}},\"coloraxis\":{\"colorbar\":{\"outlinewidth\":0,\"ticks\":\"\"}},\"colorscale\":{\"sequential\":[[0.0,\"#0d0887\"],[0.1111111111111111,\"#46039f\"],[0.2222222222222222,\"#7201a8\"],[0.3333333333333333,\"#9c179e\"],[0.4444444444444444,\"#bd3786\"],[0.5555555555555556,\"#d8576b\"],[0.6666666666666666,\"#ed7953\"],[0.7777777777777778,\"#fb9f3a\"],[0.8888888888888888,\"#fdca26\"],[1.0,\"#f0f921\"]],\"sequentialminus\":[[0.0,\"#0d0887\"],[0.1111111111111111,\"#46039f\"],[0.2222222222222222,\"#7201a8\"],[0.3333333333333333,\"#9c179e\"],[0.4444444444444444,\"#bd3786\"],[0.5555555555555556,\"#d8576b\"],[0.6666666666666666,\"#ed7953\"],[0.7777777777777778,\"#fb9f3a\"],[0.8888888888888888,\"#fdca26\"],[1.0,\"#f0f921\"]],\"diverging\":[[0,\"#8e0152\"],[0.1,\"#c51b7d\"],[0.2,\"#de77ae\"],[0.3,\"#f1b6da\"],[0.4,\"#fde0ef\"],[0.5,\"#f7f7f7\"],[0.6,\"#e6f5d0\"],[0.7,\"#b8e186\"],[0.8,\"#7fbc41\"],[0.9,\"#4d9221\"],[1,\"#276419\"]]},\"xaxis\":{\"gridcolor\":\"white\",\"linecolor\":\"white\",\"ticks\":\"\",\"title\":{\"standoff\":15},\"zerolinecolor\":\"white\",\"automargin\":true,\"zerolinewidth\":2},\"yaxis\":{\"gridcolor\":\"white\",\"linecolor\":\"white\",\"ticks\":\"\",\"title\":{\"standoff\":15},\"zerolinecolor\":\"white\",\"automargin\":true,\"zerolinewidth\":2},\"scene\":{\"xaxis\":{\"backgroundcolor\":\"#E5ECF6\",\"gridcolor\":\"white\",\"linecolor\":\"white\",\"showbackground\":true,\"ticks\":\"\",\"zerolinecolor\":\"white\",\"gridwidth\":2},\"yaxis\":{\"backgroundcolor\":\"#E5ECF6\",\"gridcolor\":\"white\",\"linecolor\":\"white\",\"showbackground\":true,\"ticks\":\"\",\"zerolinecolor\":\"white\",\"gridwidth\":2},\"zaxis\":{\"backgroundcolor\":\"#E5ECF6\",\"gridcolor\":\"white\",\"linecolor\":\"white\",\"showbackground\":true,\"ticks\":\"\",\"zerolinecolor\":\"white\",\"gridwidth\":2}},\"shapedefaults\":{\"line\":{\"color\":\"#2a3f5f\"}},\"annotationdefaults\":{\"arrowcolor\":\"#2a3f5f\",\"arrowhead\":0,\"arrowwidth\":1},\"geo\":{\"bgcolor\":\"white\",\"landcolor\":\"#E5ECF6\",\"subunitcolor\":\"white\",\"showland\":true,\"showlakes\":true,\"lakecolor\":\"white\"},\"title\":{\"x\":0.05},\"mapbox\":{\"style\":\"light\"}}},\"legend\":{\"tracegroupgap\":0},\"margin\":{\"t\":60}},                        {\"responsive\": true}                    ).then(function(){\n",
       "                            \n",
       "var gd = document.getElementById('6c6436b8-56f3-4408-9163-ecdfbb608167');\n",
       "var x = new MutationObserver(function (mutations, observer) {{\n",
       "        var display = window.getComputedStyle(gd).display;\n",
       "        if (!display || display === 'none') {{\n",
       "            console.log([gd, 'removed!']);\n",
       "            Plotly.purge(gd);\n",
       "            observer.disconnect();\n",
       "        }}\n",
       "}});\n",
       "\n",
       "// Listen for the removal of the full notebook cells\n",
       "var notebookContainer = gd.closest('#notebook-container');\n",
       "if (notebookContainer) {{\n",
       "    x.observe(notebookContainer, {childList: true});\n",
       "}}\n",
       "\n",
       "// Listen for the clearing of the current output cell\n",
       "var outputEl = gd.closest('.output');\n",
       "if (outputEl) {{\n",
       "    x.observe(outputEl, {childList: true});\n",
       "}}\n",
       "\n",
       "                        })                };                });            </script>        </div>"
      ]
     },
     "metadata": {},
     "output_type": "display_data"
    }
   ],
   "source": [
    "# treemap\n",
    "px.treemap(data_plot, path=['Segment'], values='all_users')"
   ]
  },
  {
   "cell_type": "code",
   "execution_count": 209,
   "id": "0e340b95-f3a6-441d-b74b-56937ff64916",
   "metadata": {},
   "outputs": [
    {
     "data": {
      "text/plain": [
       "<Axes: xlabel='Segment', ylabel='all_users'>"
      ]
     },
     "execution_count": 209,
     "metadata": {},
     "output_type": "execute_result"
    },
    {
     "data": {
      "image/png": "[encoded data removed]",
      "text/plain": [
       "<Figure size 1400x800 with 1 Axes>"
      ]
     },
     "metadata": {},
     "output_type": "display_data"
    }
   ],
   "source": [
    "# barplot\n",
    "sns.set(rc={'figure.figsize':(14,8)}, style=\"whitegrid\", font='sans-serif')\n",
    "sns.barplot(x='Segment', y='all_users', data=data_plot)"
   ]
  }
 ],
 "metadata": {
  "kernelspec": {
   "display_name": "Python 3 (ipykernel)",
   "language": "python",
   "name": "python3"
  },
  "language_info": {
   "codemirror_mode": {
    "name": "ipython",
    "version": 3
   },
   "file_extension": ".py",
   "mimetype": "text/x-python",
   "name": "python",
   "nbconvert_exporter": "python",
   "pygments_lexer": "ipython3",
   "version": "3.11.5"
  }
 },
 "nbformat": 4,
 "nbformat_minor": 5
}
