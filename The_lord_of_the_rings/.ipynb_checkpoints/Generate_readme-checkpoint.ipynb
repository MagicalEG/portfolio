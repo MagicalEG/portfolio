{
 "cells": [
  {
   "cell_type": "code",
   "execution_count": 3,
   "id": "a7466e69-9b8e-4b33-acac-d91276724f03",
   "metadata": {},
   "outputs": [],
   "source": [
    "import os"
   ]
  },
  {
   "cell_type": "code",
   "execution_count": 6,
   "id": "2f6856b5-eda9-4ba1-85d0-0b7b41561eb6",
   "metadata": {},
   "outputs": [
    {
     "name": "stdout",
     "output_type": "stream",
     "text": [
      "Файл README.md успешно создан в директории .\n"
     ]
    }
   ],
   "source": [
    "class ReadmeGenerator:\n",
    "    def __init__(self, directory=\"\"):\n",
    "        self.directory = directory\n",
    "        self.filename = \"README.md\"\n",
    "        self.sections = {}\n",
    "\n",
    "    def add_section(self, title, content):\n",
    "        \"\"\"\n",
    "        Добавляет секцию в README.\n",
    "\n",
    "        :param title: Название секции\n",
    "        :param content: Содержание секции\n",
    "        \"\"\"\n",
    "        self.sections[title] = content\n",
    "\n",
    "    def generate(self):\n",
    "        \"\"\"\n",
    "        Генерирует файл README.md с заданными секциями.\n",
    "        \"\"\"\n",
    "        content = \"\"\n",
    "        for title, text in self.sections.items():\n",
    "            content += f\"## {title}\\n{text}\\n\\n\"\n",
    "\n",
    "        path = os.path.join(self.directory, self.filename)\n",
    "        with open(path, \"w\", encoding=\"utf-8\") as f:\n",
    "            f.write(content)\n",
    "        print(f\"Файл {self.filename} успешно создан в директории {self.directory}.\")\n",
    "\n",
    "# Пример использования\n",
    "generator = ReadmeGenerator()\n",
    "\n",
    "generator.add_section(\"Цель проекта\", \"Основная задача данного проекта - разработка автоматизированного Телеграм-бота для мониторинга и оповещения о значительных изменениях в ключевых показателях приложения, включая количество лайков, просмотров, число уникальных пользователей и CTR.\")\n",
    "\n",
    "generator.add_section(\"Технологии\", \"Python, библиотеки pandas, numpy, matplotlib, seaborn\")\n",
    "\n",
    "generator.add_section(\"Примеры\", \"Метрика **количество уникальных сообщений** https://github.com/datamagical/portfolio/blob/main/telegram_bot_alert/photo_2024-03-20_21-23-00.jpg, Метрика **количество лайков** https://github.com/datamagical/portfolio/blob/main/telegram_bot_alert/photo_2024-03-20_21-23-08.jpg\")\n",
    "\n",
    "## generator.add_section(\"Лицензия\", \"Укажите тип лицензии, под которой распространяется ваш проект, и кратко опишите ее условия.\") \n",
    "\n",
    "generator.add_section(\"Контакты\", \"Моя рабочая электронная почта: imagical93@outlook.com.\")\n",
    "\n",
    "generator.generate()\n"
   ]
  }
 ],
 "metadata": {
  "kernelspec": {
   "display_name": "Python 3 (ipykernel)",
   "language": "python",
   "name": "python3"
  },
  "language_info": {
   "codemirror_mode": {
    "name": "ipython",
    "version": 3
   },
   "file_extension": ".py",
   "mimetype": "text/x-python",
   "name": "python",
   "nbconvert_exporter": "python",
   "pygments_lexer": "ipython3",
   "version": "3.11.5"
  }
 },
 "nbformat": 4,
 "nbformat_minor": 5
}
