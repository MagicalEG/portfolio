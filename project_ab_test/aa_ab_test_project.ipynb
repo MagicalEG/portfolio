{
 "cells": [
  {
   "cell_type": "code",
   "execution_count": 2,
   "id": "f404c8c2-8e62-486a-b33a-2ff60e7eed54",
   "metadata": {},
   "outputs": [],
   "source": [
    "# импортируем необходимые библиотеки для анализа данных и построении графиков, а также для проведения статистического теста\n",
    "import numpy as np\n",
    "import pandas as pd\n",
    "import pandahouse\n",
    "import scipy.stats as stats\n",
    "%matplotlib inline\n",
    "import matplotlib.pyplot as plt\n",
    "import seaborn as sns\n",
    "import plotly.express as px\n",
    "\n",
    "# зададим параметры для будущих графиков\n",
    "sns.set(rc={'figure.figsize':(16,12)}, style=\"whitegrid\", font='sans-serif')"
   ]
  },
  {
   "cell_type": "markdown",
   "id": "9101db30-3823-42ad-83a3-8e76ba3b18e2",
   "metadata": {},
   "source": [
    "## Задача:\n",
    "В период с 2023-12-29 по 2024-01-04 включительно, в приложении, а именно в ленте новостей, проводился A/B тест, целью которого являлась проверка на тестируемой группе пользователей нового алгоритма рекомендательной системы. Для нашего теста будем проводить сравнение на стандартной метрике CTR количество лайков / количество просмотров, так как на основании неё можно увидеть явную заинтересованость в действии - лайки.\n",
    "\n",
    "* exp_group = 1 Контрольная группа (рекомендации без изменении)\n",
    "* exp_group = 2 Тестируемая группа (новая система рекомендации)"
   ]
  },
  {
   "cell_type": "code",
   "execution_count": 3,
   "id": "f9708913-6225-4422-91c0-d00cc1d3a738",
   "metadata": {},
   "outputs": [
    {
     "data": {
      "text/html": [
       "<div>\n",
       "<style scoped>\n",
       "    .dataframe tbody tr th:only-of-type {\n",
       "        vertical-align: middle;\n",
       "    }\n",
       "\n",
       "    .dataframe tbody tr th {\n",
       "        vertical-align: top;\n",
       "    }\n",
       "\n",
       "    .dataframe thead th {\n",
       "        text-align: right;\n",
       "    }\n",
       "</style>\n",
       "<table border=\"1\" class=\"dataframe\">\n",
       "  <thead>\n",
       "    <tr style=\"text-align: right;\">\n",
       "      <th></th>\n",
       "      <th>user_id</th>\n",
       "      <th>exp_group</th>\n",
       "      <th>likes</th>\n",
       "      <th>views</th>\n",
       "      <th>ctr</th>\n",
       "    </tr>\n",
       "  </thead>\n",
       "  <tbody>\n",
       "    <tr>\n",
       "      <th>0</th>\n",
       "      <td>109963</td>\n",
       "      <td>1</td>\n",
       "      <td>3</td>\n",
       "      <td>15</td>\n",
       "      <td>0.200000</td>\n",
       "    </tr>\n",
       "    <tr>\n",
       "      <th>1</th>\n",
       "      <td>26117</td>\n",
       "      <td>1</td>\n",
       "      <td>32</td>\n",
       "      <td>141</td>\n",
       "      <td>0.226950</td>\n",
       "    </tr>\n",
       "    <tr>\n",
       "      <th>2</th>\n",
       "      <td>138232</td>\n",
       "      <td>1</td>\n",
       "      <td>18</td>\n",
       "      <td>73</td>\n",
       "      <td>0.246575</td>\n",
       "    </tr>\n",
       "    <tr>\n",
       "      <th>3</th>\n",
       "      <td>18392</td>\n",
       "      <td>1</td>\n",
       "      <td>7</td>\n",
       "      <td>32</td>\n",
       "      <td>0.218750</td>\n",
       "    </tr>\n",
       "    <tr>\n",
       "      <th>4</th>\n",
       "      <td>26295</td>\n",
       "      <td>1</td>\n",
       "      <td>39</td>\n",
       "      <td>141</td>\n",
       "      <td>0.276596</td>\n",
       "    </tr>\n",
       "  </tbody>\n",
       "</table>\n",
       "</div>"
      ],
      "text/plain": [
       "   user_id  exp_group  likes  views       ctr\n",
       "0   109963          1      3     15  0.200000\n",
       "1    26117          1     32    141  0.226950\n",
       "2   138232          1     18     73  0.246575\n",
       "3    18392          1      7     32  0.218750\n",
       "4    26295          1     39    141  0.276596"
      ]
     },
     "execution_count": 3,
     "metadata": {},
     "output_type": "execute_result"
    }
   ],
   "source": [
    "# при помощи библиотеки Pandahouse подключимся к базе данных, из которой отберём пользователей, количество их лайков, просмотров, а также сразу посчитаем CTR.\n",
    "\n",
    "connection = {                                            # словарик с данными для подключения к базе данных\n",
    "    'host': '**********', # указываем хост базы данных\n",
    "    'password': '*********', # пароль к базе данных\n",
    "    'user': '**********', # имя пользователя\n",
    "    'database': '******' # раздел базы данных\n",
    "}\n",
    "\n",
    "# SQL запрос к базе данных\n",
    "q =\"\"\"        \n",
    "select user_id, \n",
    "       exp_group, \n",
    "       sum(action='like') as likes, \n",
    "       sum(action='view') as views, \n",
    "       likes/views as ctr\n",
    "from simulator_20240120.feed_actions\n",
    "where toDate(time) between '2023-12-29' and '2024-01-04' and exp_group in (1, 2)\n",
    "group by user_id, exp_group\n",
    "\"\"\"\n",
    "\n",
    "df_ab = pandahouse.read_clickhouse(q, connection=connection)\n",
    "\n",
    "df_ab.head()"
   ]
  },
  {
   "cell_type": "code",
   "execution_count": 4,
   "id": "f43d8402-5498-4163-9d1f-f6f7365da0fa",
   "metadata": {},
   "outputs": [
    {
     "data": {
      "text/plain": [
       "(19897, 5)"
      ]
     },
     "execution_count": 4,
     "metadata": {},
     "output_type": "execute_result"
    }
   ],
   "source": [
    "# количество строк и столбцов\n",
    "df_ab.shape"
   ]
  },
  {
   "cell_type": "code",
   "execution_count": 5,
   "id": "42d31b84-bad8-4af0-bc4a-be89ecbc47fe",
   "metadata": {},
   "outputs": [
    {
     "data": {
      "text/plain": [
       "user_id      0\n",
       "exp_group    0\n",
       "likes        0\n",
       "views        0\n",
       "ctr          0\n",
       "dtype: int64"
      ]
     },
     "execution_count": 5,
     "metadata": {},
     "output_type": "execute_result"
    }
   ],
   "source": [
    "# количество пропущенных значений\n",
    "df_ab.isna().sum()"
   ]
  },
  {
   "cell_type": "code",
   "execution_count": 5,
   "id": "a6f55bd8-16a2-44b6-b67c-dc86db68fae8",
   "metadata": {},
   "outputs": [
    {
     "data": {
      "text/html": [
       "<div>\n",
       "<style scoped>\n",
       "    .dataframe tbody tr th:only-of-type {\n",
       "        vertical-align: middle;\n",
       "    }\n",
       "\n",
       "    .dataframe tbody tr th {\n",
       "        vertical-align: top;\n",
       "    }\n",
       "\n",
       "    .dataframe thead th {\n",
       "        text-align: right;\n",
       "    }\n",
       "</style>\n",
       "<table border=\"1\" class=\"dataframe\">\n",
       "  <thead>\n",
       "    <tr style=\"text-align: right;\">\n",
       "      <th></th>\n",
       "      <th>exp_group</th>\n",
       "      <th>user_id</th>\n",
       "    </tr>\n",
       "  </thead>\n",
       "  <tbody>\n",
       "    <tr>\n",
       "      <th>0</th>\n",
       "      <td>1</td>\n",
       "      <td>10020</td>\n",
       "    </tr>\n",
       "    <tr>\n",
       "      <th>1</th>\n",
       "      <td>2</td>\n",
       "      <td>9877</td>\n",
       "    </tr>\n",
       "  </tbody>\n",
       "</table>\n",
       "</div>"
      ],
      "text/plain": [
       "   exp_group  user_id\n",
       "0          1    10020\n",
       "1          2     9877"
      ]
     },
     "execution_count": 5,
     "metadata": {},
     "output_type": "execute_result"
    }
   ],
   "source": [
    "# посмотрим количество пользователей в рассматриваемых группах\n",
    "df_ab.groupby('exp_group', as_index=False)['user_id'].nunique()"
   ]
  },
  {
   "cell_type": "markdown",
   "id": "2e854adb-ea7d-4436-bdb0-a873f3ae11a5",
   "metadata": {},
   "source": [
    "## Проведение A/A теста:\n",
    "Для проведения A/B теста необходимо удостовериться, что наши группы примерно одинаковые и что показатели в них сами по себе до введения новой рекомендательной системы не различаются, для этого проведём A/A тест.\n",
    "\n",
    "* Предварительно сразу можно утверждать, что количество пользователей в группах примерно равное\n",
    "* А/A тест проводился в период с 2023-12-22 г. по 2023-12-28 г."
   ]
  },
  {
   "cell_type": "code",
   "execution_count": 7,
   "id": "69dd4a77-f6a8-4bcf-8efd-b79ccecf103f",
   "metadata": {},
   "outputs": [
    {
     "data": {
      "text/html": [
       "<div>\n",
       "<style scoped>\n",
       "    .dataframe tbody tr th:only-of-type {\n",
       "        vertical-align: middle;\n",
       "    }\n",
       "\n",
       "    .dataframe tbody tr th {\n",
       "        vertical-align: top;\n",
       "    }\n",
       "\n",
       "    .dataframe thead th {\n",
       "        text-align: right;\n",
       "    }\n",
       "</style>\n",
       "<table border=\"1\" class=\"dataframe\">\n",
       "  <thead>\n",
       "    <tr style=\"text-align: right;\">\n",
       "      <th></th>\n",
       "      <th>user_id</th>\n",
       "      <th>exp_group</th>\n",
       "      <th>likes</th>\n",
       "      <th>views</th>\n",
       "      <th>ctr</th>\n",
       "    </tr>\n",
       "  </thead>\n",
       "  <tbody>\n",
       "    <tr>\n",
       "      <th>0</th>\n",
       "      <td>109963</td>\n",
       "      <td>1</td>\n",
       "      <td>10</td>\n",
       "      <td>34</td>\n",
       "      <td>0.294118</td>\n",
       "    </tr>\n",
       "    <tr>\n",
       "      <th>1</th>\n",
       "      <td>18392</td>\n",
       "      <td>1</td>\n",
       "      <td>13</td>\n",
       "      <td>56</td>\n",
       "      <td>0.232143</td>\n",
       "    </tr>\n",
       "    <tr>\n",
       "      <th>2</th>\n",
       "      <td>131473</td>\n",
       "      <td>2</td>\n",
       "      <td>19</td>\n",
       "      <td>98</td>\n",
       "      <td>0.193878</td>\n",
       "    </tr>\n",
       "    <tr>\n",
       "      <th>3</th>\n",
       "      <td>23985</td>\n",
       "      <td>2</td>\n",
       "      <td>12</td>\n",
       "      <td>44</td>\n",
       "      <td>0.272727</td>\n",
       "    </tr>\n",
       "    <tr>\n",
       "      <th>4</th>\n",
       "      <td>24523</td>\n",
       "      <td>2</td>\n",
       "      <td>2</td>\n",
       "      <td>10</td>\n",
       "      <td>0.200000</td>\n",
       "    </tr>\n",
       "  </tbody>\n",
       "</table>\n",
       "</div>"
      ],
      "text/plain": [
       "   user_id  exp_group  likes  views       ctr\n",
       "0   109963          1     10     34  0.294118\n",
       "1    18392          1     13     56  0.232143\n",
       "2   131473          2     19     98  0.193878\n",
       "3    23985          2     12     44  0.272727\n",
       "4    24523          2      2     10  0.200000"
      ]
     },
     "execution_count": 7,
     "metadata": {},
     "output_type": "execute_result"
    }
   ],
   "source": [
    "# отберём пользователей A/A теста из базы данных\n",
    "q =\"\"\"\n",
    "select user_id,\n",
    "       exp_group,\n",
    "       sum(action='like') as likes, \n",
    "       sum(action='view') as views, \n",
    "       likes/views as ctr\n",
    "from simulator_20240120.feed_actions\n",
    "where toDate(time) between '2023-12-22' and '2023-12-28' and exp_group in (1, 2)\n",
    "group by user_id, exp_group\n",
    "\"\"\"\n",
    "\n",
    "df_aa = pandahouse.read_clickhouse(q, connection=connection)\n",
    "\n",
    "df_aa.head()"
   ]
  },
  {
   "cell_type": "code",
   "execution_count": 8,
   "id": "6cee5f1e-b0ca-4266-8000-d88bc695e3cb",
   "metadata": {},
   "outputs": [
    {
     "data": {
      "text/plain": [
       "user_id      0\n",
       "exp_group    0\n",
       "likes        0\n",
       "views        0\n",
       "ctr          0\n",
       "dtype: int64"
      ]
     },
     "execution_count": 8,
     "metadata": {},
     "output_type": "execute_result"
    }
   ],
   "source": [
    "# количество пропущенных значений\n",
    "df_aa.isna().sum()"
   ]
  },
  {
   "cell_type": "code",
   "execution_count": 17,
   "id": "944b1890-333c-40a2-a079-bf831f760a11",
   "metadata": {},
   "outputs": [
    {
     "data": {
      "text/html": [
       "<div>\n",
       "<style scoped>\n",
       "    .dataframe tbody tr th:only-of-type {\n",
       "        vertical-align: middle;\n",
       "    }\n",
       "\n",
       "    .dataframe tbody tr th {\n",
       "        vertical-align: top;\n",
       "    }\n",
       "\n",
       "    .dataframe thead th {\n",
       "        text-align: right;\n",
       "    }\n",
       "</style>\n",
       "<table border=\"1\" class=\"dataframe\">\n",
       "  <thead>\n",
       "    <tr style=\"text-align: right;\">\n",
       "      <th></th>\n",
       "      <th>exp_group</th>\n",
       "      <th>user_id</th>\n",
       "    </tr>\n",
       "  </thead>\n",
       "  <tbody>\n",
       "    <tr>\n",
       "      <th>0</th>\n",
       "      <td>1</td>\n",
       "      <td>8491</td>\n",
       "    </tr>\n",
       "    <tr>\n",
       "      <th>1</th>\n",
       "      <td>2</td>\n",
       "      <td>8362</td>\n",
       "    </tr>\n",
       "  </tbody>\n",
       "</table>\n",
       "</div>"
      ],
      "text/plain": [
       "   exp_group  user_id\n",
       "0          1     8491\n",
       "1          2     8362"
      ]
     },
     "execution_count": 17,
     "metadata": {},
     "output_type": "execute_result"
    }
   ],
   "source": [
    "# посмотрим количество пользователей в рассматриваемых группах\n",
    "df_aa.groupby('exp_group', as_index=False)['user_id'].nunique()"
   ]
  },
  {
   "cell_type": "markdown",
   "id": "64199624-9f6c-409d-8ddf-b7a227c983e1",
   "metadata": {},
   "source": [
    "Визуально посмотрим на распределение метрики CTR в группах"
   ]
  },
  {
   "cell_type": "code",
   "execution_count": 13,
   "id": "cb28f911-a90b-4078-8474-0055ab420942",
   "metadata": {},
   "outputs": [
    {
     "data": {
      "image/png": "[encoded data removed]",
      "text/plain": [
       "<Figure size 1152x864 with 1 Axes>"
      ]
     },
     "metadata": {},
     "output_type": "display_data"
    }
   ],
   "source": [
    "groups_aa = sns.histplot(data = df_aa, \n",
    "              x='ctr', \n",
    "              hue='exp_group', \n",
    "              palette = ['r', 'b'],\n",
    "              alpha=0.5,\n",
    "              kde=False)"
   ]
  },
  {
   "cell_type": "markdown",
   "id": "c696b223-1876-4c24-8699-66706ad31dc6",
   "metadata": {},
   "source": [
    "\"На глаз\" группы примерно равны, но необходимо подтвердить это при помощи статистических методов, учитывая, что наше распределение **нормальное**, воспользуемся **t-критерием Стьюдента, значение альфы = 0.05**\n",
    "\n",
    "* нулевая гипотеза заключается в том, что между группами нет статистически значимых отличий\n",
    "* альтернативная гипотеза, что между группами есть статистически значимые отличия"
   ]
  },
  {
   "cell_type": "code",
   "execution_count": 16,
   "id": "b468376a-4966-430f-815d-37fbd22bfcfe",
   "metadata": {},
   "outputs": [
    {
     "data": {
      "text/plain": [
       "Ttest_indResult(statistic=-0.5694920635629134, pvalue=0.5690298477939706)"
      ]
     },
     "execution_count": 16,
     "metadata": {},
     "output_type": "execute_result"
    }
   ],
   "source": [
    "# t-критерий Стьюдента\n",
    "stats.ttest_ind(df_aa[df_aa.exp_group == 1].ctr,\n",
    "                df_aa[df_aa.exp_group == 2].ctr,\n",
    "                equal_var=False)"
   ]
  },
  {
   "cell_type": "markdown",
   "id": "08cdbc57-9a5a-4fd8-ba62-c7c6f4cc950b",
   "metadata": {},
   "source": [
    "В нашем случае P-value = 0.569, что намного больше значения альфы, в соответствии с этим **основании утверждать, что группы разные у нас нет.**"
   ]
  },
  {
   "cell_type": "markdown",
   "id": "93c83686-0bbd-4ba4-bb64-c5a486018857",
   "metadata": {},
   "source": [
    "## Проведение A/B теста:\n",
    "Целью нашей работы является проверка в тестируемой группе новой рекомендательной системы, которая по предположению должна увеличить CTR, поэтому для начала посмотрим на графики распределения CTR по нашим группам."
   ]
  },
  {
   "cell_type": "code",
   "execution_count": 19,
   "id": "36988419-a571-49bc-a931-f9baffcd8f33",
   "metadata": {},
   "outputs": [
    {
     "data": {
      "text/plain": [
       "<AxesSubplot:title={'center':'График CTR группа №1'}, ylabel='Count'>"
      ]
     },
     "execution_count": 19,
     "metadata": {},
     "output_type": "execute_result"
    },
    {
     "data": {
      "image/png": "[encoded data removed]",
      "text/plain": [
       "<Figure size 1152x864 with 1 Axes>"
      ]
     },
     "metadata": {},
     "output_type": "display_data"
    }
   ],
   "source": [
    "# распределение CTR группы №1, визуально похоже на нормальное, большинство значений сосредоточены в промежутке от 0.1 до 0.3\n",
    "plt.title('График CTR группа №1')\n",
    "sns.histplot(df_ab.query('exp_group == 1')[['ctr']], bins=50)"
   ]
  },
  {
   "cell_type": "code",
   "execution_count": 18,
   "id": "7427aa52-89e8-4296-9ee3-9a801ae6cdb7",
   "metadata": {},
   "outputs": [
    {
     "data": {
      "text/html": [
       "<div>\n",
       "<style scoped>\n",
       "    .dataframe tbody tr th:only-of-type {\n",
       "        vertical-align: middle;\n",
       "    }\n",
       "\n",
       "    .dataframe tbody tr th {\n",
       "        vertical-align: top;\n",
       "    }\n",
       "\n",
       "    .dataframe thead th {\n",
       "        text-align: right;\n",
       "    }\n",
       "</style>\n",
       "<table border=\"1\" class=\"dataframe\">\n",
       "  <thead>\n",
       "    <tr style=\"text-align: right;\">\n",
       "      <th></th>\n",
       "      <th>ctr</th>\n",
       "    </tr>\n",
       "  </thead>\n",
       "  <tbody>\n",
       "    <tr>\n",
       "      <th>count</th>\n",
       "      <td>10020.000000</td>\n",
       "    </tr>\n",
       "    <tr>\n",
       "      <th>mean</th>\n",
       "      <td>0.216774</td>\n",
       "    </tr>\n",
       "    <tr>\n",
       "      <th>std</th>\n",
       "      <td>0.082969</td>\n",
       "    </tr>\n",
       "    <tr>\n",
       "      <th>min</th>\n",
       "      <td>0.000000</td>\n",
       "    </tr>\n",
       "    <tr>\n",
       "      <th>25%</th>\n",
       "      <td>0.163636</td>\n",
       "    </tr>\n",
       "    <tr>\n",
       "      <th>50%</th>\n",
       "      <td>0.205882</td>\n",
       "    </tr>\n",
       "    <tr>\n",
       "      <th>75%</th>\n",
       "      <td>0.257870</td>\n",
       "    </tr>\n",
       "    <tr>\n",
       "      <th>max</th>\n",
       "      <td>0.722222</td>\n",
       "    </tr>\n",
       "  </tbody>\n",
       "</table>\n",
       "</div>"
      ],
      "text/plain": [
       "                ctr\n",
       "count  10020.000000\n",
       "mean       0.216774\n",
       "std        0.082969\n",
       "min        0.000000\n",
       "25%        0.163636\n",
       "50%        0.205882\n",
       "75%        0.257870\n",
       "max        0.722222"
      ]
     },
     "execution_count": 18,
     "metadata": {},
     "output_type": "execute_result"
    }
   ],
   "source": [
    "# статистики CTR группы №1\n",
    "df_ab.query('exp_group == 1')[['ctr']].describe()"
   ]
  },
  {
   "cell_type": "code",
   "execution_count": 20,
   "id": "61ef494b-6ed3-481c-a21a-31bb3196eba6",
   "metadata": {},
   "outputs": [
    {
     "data": {
      "text/plain": [
       "<AxesSubplot:title={'center':'График CTR группа №2'}, ylabel='Count'>"
      ]
     },
     "execution_count": 20,
     "metadata": {},
     "output_type": "execute_result"
    },
    {
     "data": {
      "image/png": "[encoded data removed]",
      "text/plain": [
       "<Figure size 1152x864 with 1 Axes>"
      ]
     },
     "metadata": {},
     "output_type": "display_data"
    }
   ],
   "source": [
    "# распределение CTR группы №2, визуально отличается от нормального распределения, имеет 2 \"горба\"\n",
    "plt.title('График CTR группа №2')\n",
    "sns.histplot(df_ab.query('exp_group == 2')[['ctr']], bins=50)"
   ]
  },
  {
   "cell_type": "code",
   "execution_count": 21,
   "id": "b818405a-a11b-4db8-933f-8b87a21e71e7",
   "metadata": {},
   "outputs": [
    {
     "data": {
      "text/html": [
       "<div>\n",
       "<style scoped>\n",
       "    .dataframe tbody tr th:only-of-type {\n",
       "        vertical-align: middle;\n",
       "    }\n",
       "\n",
       "    .dataframe tbody tr th {\n",
       "        vertical-align: top;\n",
       "    }\n",
       "\n",
       "    .dataframe thead th {\n",
       "        text-align: right;\n",
       "    }\n",
       "</style>\n",
       "<table border=\"1\" class=\"dataframe\">\n",
       "  <thead>\n",
       "    <tr style=\"text-align: right;\">\n",
       "      <th></th>\n",
       "      <th>ctr</th>\n",
       "    </tr>\n",
       "  </thead>\n",
       "  <tbody>\n",
       "    <tr>\n",
       "      <th>count</th>\n",
       "      <td>9877.000000</td>\n",
       "    </tr>\n",
       "    <tr>\n",
       "      <th>mean</th>\n",
       "      <td>0.216102</td>\n",
       "    </tr>\n",
       "    <tr>\n",
       "      <th>std</th>\n",
       "      <td>0.142870</td>\n",
       "    </tr>\n",
       "    <tr>\n",
       "      <th>min</th>\n",
       "      <td>0.000000</td>\n",
       "    </tr>\n",
       "    <tr>\n",
       "      <th>25%</th>\n",
       "      <td>0.096774</td>\n",
       "    </tr>\n",
       "    <tr>\n",
       "      <th>50%</th>\n",
       "      <td>0.153285</td>\n",
       "    </tr>\n",
       "    <tr>\n",
       "      <th>75%</th>\n",
       "      <td>0.323529</td>\n",
       "    </tr>\n",
       "    <tr>\n",
       "      <th>max</th>\n",
       "      <td>0.900000</td>\n",
       "    </tr>\n",
       "  </tbody>\n",
       "</table>\n",
       "</div>"
      ],
      "text/plain": [
       "               ctr\n",
       "count  9877.000000\n",
       "mean      0.216102\n",
       "std       0.142870\n",
       "min       0.000000\n",
       "25%       0.096774\n",
       "50%       0.153285\n",
       "75%       0.323529\n",
       "max       0.900000"
      ]
     },
     "execution_count": 21,
     "metadata": {},
     "output_type": "execute_result"
    }
   ],
   "source": [
    "# статистики CTR группы #2\n",
    "df_ab.query('exp_group == 2')[['ctr']].describe()"
   ]
  },
  {
   "cell_type": "code",
   "execution_count": 23,
   "id": "7bc1901b-7e32-427f-8d33-e5a50769e87a",
   "metadata": {},
   "outputs": [
    {
     "data": {
      "image/png": "[encoded data removed]",
      "text/plain": [
       "<Figure size 1152x864 with 1 Axes>"
      ]
     },
     "metadata": {},
     "output_type": "display_data"
    }
   ],
   "source": [
    "# общее распределение между группами\n",
    "groups = sns.histplot(data = df_ab, \n",
    "                      x = 'ctr', \n",
    "                      hue = 'exp_group', \n",
    "                      alpha = 0.5, \n",
    "                      palette=['b', 'r'], \n",
    "                      kde=False)"
   ]
  },
  {
   "cell_type": "markdown",
   "id": "64b44e3d-398b-46f8-b3b8-91facfd1aa75",
   "metadata": {},
   "source": [
    "Для проверки новой системы рекомендации в ленте новостей проведём A/B тест разными статистическими методами, при помощи которых проверим, увеличится ли показатель CTR во второй группе, будет он меньше или на уровне группы №1, учитывая, что CTR в группе 2 визуально распределён не 'нормально', в первую очередь для A/B теста будем использовать метод Пуассоновский бутстреп, при помощи которого определим глобальный CTR по подгруппам."
   ]
  },
  {
   "cell_type": "code",
   "execution_count": 11,
   "id": "9a1fc432-d3fd-49f7-aa3e-23b964ba2ebe",
   "metadata": {},
   "outputs": [],
   "source": [
    "# функция статистического критерия Пуассоновский бутстреп, в функцию будем подавать массивы лайков и просмотров\n",
    "\n",
    "def bootstrap(likes1, views1, likes2, views2, n_bootstrap=2000):\n",
    "\n",
    "    poisson_bootstraps1 = stats.poisson(1).rvs(\n",
    "        (n_bootstrap, len(likes1))).astype(np.int64)\n",
    "\n",
    "    poisson_bootstraps2 = stats.poisson(1).rvs(\n",
    "            (n_bootstrap, len(likes2))).astype(np.int64)\n",
    "    \n",
    "    globalCTR1 = (poisson_bootstraps1*likes1).sum(axis=1)/(poisson_bootstraps1*views1).sum(axis=1)\n",
    "    \n",
    "    globalCTR2 = (poisson_bootstraps2*likes2).sum(axis=1)/(poisson_bootstraps2*views2).sum(axis=1)\n",
    "\n",
    "    return globalCTR1, globalCTR2"
   ]
  },
  {
   "cell_type": "code",
   "execution_count": 9,
   "id": "a32c5908-c14b-4af9-b53b-70b9754da61c",
   "metadata": {},
   "outputs": [],
   "source": [
    "# создадим массивы со значениями лайков и просмотров в разбивке на 2 группы\n",
    "\n",
    "likes1 = df_ab[df_ab.exp_group == 1].likes.to_numpy()\n",
    "views1 = df_ab[df_ab.exp_group == 1].views.to_numpy()\n",
    "likes2 = df_ab[df_ab.exp_group == 2].likes.to_numpy()\n",
    "views2 = df_ab[df_ab.exp_group == 2].views.to_numpy()"
   ]
  },
  {
   "cell_type": "code",
   "execution_count": 12,
   "id": "8d839ae8-ed06-4ec6-971a-a0d8952ea28a",
   "metadata": {},
   "outputs": [
    {
     "data": {
      "text/plain": [
       "<AxesSubplot:ylabel='Count'>"
      ]
     },
     "execution_count": 12,
     "metadata": {},
     "output_type": "execute_result"
    },
    {
     "data": {
      "image/png": "[encoded data removed]",
      "text/plain": [
       "<Figure size 1152x864 with 1 Axes>"
      ]
     },
     "metadata": {},
     "output_type": "display_data"
    }
   ],
   "source": [
    "# посмотрим на график распределения глобального CTR в группах\n",
    "ctr1, ctr2 = bootstrap(likes1, views1, likes2, views2)\n",
    "sns.histplot(ctr1)\n",
    "sns.histplot(ctr2)"
   ]
  },
  {
   "cell_type": "code",
   "execution_count": 27,
   "id": "5e408561-30cb-4673-9651-aae44aa95aa3",
   "metadata": {},
   "outputs": [
    {
     "data": {
      "text/plain": [
       "<AxesSubplot:ylabel='Count'>"
      ]
     },
     "execution_count": 27,
     "metadata": {},
     "output_type": "execute_result"
    },
    {
     "data": {
      "image/png": "[encoded data removed]",
      "text/plain": [
       "<Figure size 1152x864 with 1 Axes>"
      ]
     },
     "metadata": {},
     "output_type": "display_data"
    }
   ],
   "source": [
    "#построим график разницы распределений CTR между группами 1 и 2.\n",
    "\n",
    "sns.histplot(ctr2 - ctr1)"
   ]
  },
  {
   "cell_type": "markdown",
   "id": "8746e52c-e444-42be-a006-870846724581",
   "metadata": {},
   "source": [
    "## Промежуточные итоги:\n",
    "при помощи Пуассоновского бутстрэпа мы провели A/B тестирование между группами 1 (контрольной) и 2 (тестовой), в ходе которого установили, что графики распределения глобального CTR между группами не пересекается, а разница между таргетной группой и основной отрицательная, на основании чего можно сделать вывод, что при новой рекомендательной системе глобальный CTR станет меньше, в данном случае \"раскатывать\" новую систему рекомендации на всех пользователей не имеет смысла."
   ]
  },
  {
   "cell_type": "markdown",
   "id": "33760b0c-dc93-4499-944a-cd48d74e2cfa",
   "metadata": {},
   "source": [
    "## Проведём A/B тест при помощи статистических критерий t-test Стьюдента, а также тест Манна-Уитни. P-value будем сравнивать с альфой = 0.05, также будем опираться на 2 гипотезы:\n",
    "1. Средний CTR в группах не имеет различии.\n",
    "2. Средний CTR в группах имеет статистически значимые различия.\n",
    "\n",
    "\n",
    "\n"
   ]
  },
  {
   "cell_type": "code",
   "execution_count": 27,
   "id": "d8ffddee-e1e2-4bf8-8e99-3264919b915e",
   "metadata": {},
   "outputs": [
    {
     "data": {
      "text/html": [
       "<div>\n",
       "<style scoped>\n",
       "    .dataframe tbody tr th:only-of-type {\n",
       "        vertical-align: middle;\n",
       "    }\n",
       "\n",
       "    .dataframe tbody tr th {\n",
       "        vertical-align: top;\n",
       "    }\n",
       "\n",
       "    .dataframe thead th {\n",
       "        text-align: right;\n",
       "    }\n",
       "</style>\n",
       "<table border=\"1\" class=\"dataframe\">\n",
       "  <thead>\n",
       "    <tr style=\"text-align: right;\">\n",
       "      <th></th>\n",
       "      <th>user_id</th>\n",
       "      <th>exp_group</th>\n",
       "      <th>likes</th>\n",
       "      <th>views</th>\n",
       "      <th>ctr</th>\n",
       "    </tr>\n",
       "  </thead>\n",
       "  <tbody>\n",
       "    <tr>\n",
       "      <th>0</th>\n",
       "      <td>109963</td>\n",
       "      <td>1</td>\n",
       "      <td>3</td>\n",
       "      <td>15</td>\n",
       "      <td>0.200000</td>\n",
       "    </tr>\n",
       "    <tr>\n",
       "      <th>1</th>\n",
       "      <td>26117</td>\n",
       "      <td>1</td>\n",
       "      <td>32</td>\n",
       "      <td>141</td>\n",
       "      <td>0.226950</td>\n",
       "    </tr>\n",
       "    <tr>\n",
       "      <th>2</th>\n",
       "      <td>138232</td>\n",
       "      <td>1</td>\n",
       "      <td>18</td>\n",
       "      <td>73</td>\n",
       "      <td>0.246575</td>\n",
       "    </tr>\n",
       "    <tr>\n",
       "      <th>3</th>\n",
       "      <td>18392</td>\n",
       "      <td>1</td>\n",
       "      <td>7</td>\n",
       "      <td>32</td>\n",
       "      <td>0.218750</td>\n",
       "    </tr>\n",
       "    <tr>\n",
       "      <th>4</th>\n",
       "      <td>26295</td>\n",
       "      <td>1</td>\n",
       "      <td>39</td>\n",
       "      <td>141</td>\n",
       "      <td>0.276596</td>\n",
       "    </tr>\n",
       "  </tbody>\n",
       "</table>\n",
       "</div>"
      ],
      "text/plain": [
       "   user_id  exp_group  likes  views       ctr\n",
       "0   109963          1      3     15  0.200000\n",
       "1    26117          1     32    141  0.226950\n",
       "2   138232          1     18     73  0.246575\n",
       "3    18392          1      7     32  0.218750\n",
       "4    26295          1     39    141  0.276596"
      ]
     },
     "execution_count": 27,
     "metadata": {},
     "output_type": "execute_result"
    }
   ],
   "source": [
    "df_ab.head()"
   ]
  },
  {
   "cell_type": "code",
   "execution_count": 15,
   "id": "faaaad24-870c-451f-8f60-ec59b72cbdc1",
   "metadata": {},
   "outputs": [
    {
     "data": {
      "text/plain": [
       "0.685373331140751"
      ]
     },
     "execution_count": 15,
     "metadata": {},
     "output_type": "execute_result"
    }
   ],
   "source": [
    "stats.ttest_ind(df_ab[df_ab.exp_group == 1].ctr, \n",
    "             df_ab[df_ab.exp_group == 2].ctr, \n",
    "             equal_var=False)[1]"
   ]
  },
  {
   "cell_type": "code",
   "execution_count": 16,
   "id": "0e878f68-5528-4b9e-acd6-3cd604d802cb",
   "metadata": {},
   "outputs": [
    {
     "name": "stdout",
     "output_type": "stream",
     "text": [
      "MannwhitneyuResult(statistic=55189913.0, pvalue=4.632205841806026e-45)\n",
      "Отличие не прокрасилось\n",
      "В 55.35 % случаев A > B. Должно получиться около 50%\n"
     ]
    }
   ],
   "source": [
    "# проведем A/B тест при помощи метода Манна-Уитни\n",
    "print(stats.mannwhitneyu(df_ab[df_ab.exp_group == 1].ctr,\n",
    "                df_ab[df_ab.exp_group == 2].ctr))\n",
    "\n",
    "print('Отличие не прокрасилось')\n",
    "\n",
    "A_gt_B = 0\n",
    "for _ in range(10000):\n",
    "    A_gt_B+= df_ab[df_ab.exp_group == 1].ctr.sample().values[0] > df_ab[df_ab.exp_group == 2].ctr.sample().values[0]\n",
    "    \n",
    "print('В', A_gt_B/100, '% случаев A > B. Должно получиться около 50%')"
   ]
  },
  {
   "cell_type": "markdown",
   "id": "90f3cbd2-13b8-46ad-b787-e0fe2be82ae9",
   "metadata": {},
   "source": [
    "## Промежуточные итоги: \n",
    "при проведении T-testa мы получили P-value = 0.685, что намного больше значения альфа = 0.05, соответственно в данном случае отклонить 0 гипотезу мы не можем, также при проведении теста статистическим критерием Манна-Уитни мы получили, что CTR в группе №1 в 55.4% больше показателей CTR в группе №2."
   ]
  },
  {
   "cell_type": "markdown",
   "id": "a7363653-a81f-4935-b20b-55d7bb22feba",
   "metadata": {},
   "source": [
    "## Проведём A/B тест поверх бакетного преобразования:\n",
    "* поделим пользователей на бакеты, так как в наших группах примерно по 10 000 пользователей, будем использовать 50 бакетов, в каждом из которых будет примерно 200 пользователей.\n",
    "* для подсчёта статистики в каждом бакете будем использовать 90% квантиль CTR, а также общий CTR в каждом бакете.\n",
    "* посмотрим на бакетное распределение по эксперементальным группам.\n",
    "* будем проводить A/B тест."
   ]
  },
  {
   "cell_type": "code",
   "execution_count": 5,
   "id": "f97b192c-4679-4991-b34f-256f0ff2b894",
   "metadata": {},
   "outputs": [
    {
     "data": {
      "text/html": [
       "<div>\n",
       "<style scoped>\n",
       "    .dataframe tbody tr th:only-of-type {\n",
       "        vertical-align: middle;\n",
       "    }\n",
       "\n",
       "    .dataframe tbody tr th {\n",
       "        vertical-align: top;\n",
       "    }\n",
       "\n",
       "    .dataframe thead th {\n",
       "        text-align: right;\n",
       "    }\n",
       "</style>\n",
       "<table border=\"1\" class=\"dataframe\">\n",
       "  <thead>\n",
       "    <tr style=\"text-align: right;\">\n",
       "      <th></th>\n",
       "      <th>exp_group</th>\n",
       "      <th>bucket</th>\n",
       "      <th>bucket_ctr</th>\n",
       "      <th>ctr9</th>\n",
       "    </tr>\n",
       "  </thead>\n",
       "  <tbody>\n",
       "    <tr>\n",
       "      <th>0</th>\n",
       "      <td>1</td>\n",
       "      <td>0</td>\n",
       "      <td>0.200592</td>\n",
       "      <td>0.305556</td>\n",
       "    </tr>\n",
       "    <tr>\n",
       "      <th>1</th>\n",
       "      <td>2</td>\n",
       "      <td>0</td>\n",
       "      <td>0.196510</td>\n",
       "      <td>0.385321</td>\n",
       "    </tr>\n",
       "    <tr>\n",
       "      <th>2</th>\n",
       "      <td>1</td>\n",
       "      <td>1</td>\n",
       "      <td>0.208799</td>\n",
       "      <td>0.311111</td>\n",
       "    </tr>\n",
       "    <tr>\n",
       "      <th>3</th>\n",
       "      <td>2</td>\n",
       "      <td>1</td>\n",
       "      <td>0.210375</td>\n",
       "      <td>0.485714</td>\n",
       "    </tr>\n",
       "    <tr>\n",
       "      <th>4</th>\n",
       "      <td>1</td>\n",
       "      <td>2</td>\n",
       "      <td>0.204632</td>\n",
       "      <td>0.314286</td>\n",
       "    </tr>\n",
       "  </tbody>\n",
       "</table>\n",
       "</div>"
      ],
      "text/plain": [
       "   exp_group  bucket  bucket_ctr      ctr9\n",
       "0          1       0    0.200592  0.305556\n",
       "1          2       0    0.196510  0.385321\n",
       "2          1       1    0.208799  0.311111\n",
       "3          2       1    0.210375  0.485714\n",
       "4          1       2    0.204632  0.314286"
      ]
     },
     "execution_count": 5,
     "metadata": {},
     "output_type": "execute_result"
    }
   ],
   "source": [
    "q = \"\"\"\n",
    "\n",
    "SELECT exp_group, bucket,\n",
    "    sum(likes)/sum(views) as bucket_ctr,\n",
    "    quantileExact(0.9)(ctr) as ctr9\n",
    "FROM (SELECT exp_group, \n",
    "        xxHash64(user_id)%50 as bucket,\n",
    "        user_id,\n",
    "        sum(action = 'like') as likes,\n",
    "        sum(action = 'view') as views,\n",
    "        likes/views as ctr\n",
    "    FROM simulator_20240120.feed_actions\n",
    "    where toDate(time) between '2023-12-29' and '2024-01-04' and exp_group in (1, 2)\n",
    "    GROUP BY exp_group, bucket, user_id)\n",
    "GROUP BY exp_group, bucket\n",
    "\"\"\"\n",
    "\n",
    "df_ab_bucket = pandahouse.read_clickhouse(q, connection=connection)\n",
    "df_ab_bucket.head()"
   ]
  },
  {
   "cell_type": "markdown",
   "id": "45d0a709-cae8-43b9-a9d6-ca00cd27da01",
   "metadata": {},
   "source": [
    "## Посмотрим на распределения среднего побакетного CTR"
   ]
  },
  {
   "cell_type": "code",
   "execution_count": 6,
   "id": "3af79cdf-ecc1-4921-9c36-ae9b3cacfec2",
   "metadata": {},
   "outputs": [
    {
     "data": {
      "text/plain": [
       "<AxesSubplot:xlabel='bucket_ctr', ylabel='Count'>"
      ]
     },
     "execution_count": 6,
     "metadata": {},
     "output_type": "execute_result"
    },
    {
     "data": {
      "image/png": "[encoded data removed]",
      "text/plain": [
       "<Figure size 1152x864 with 1 Axes>"
      ]
     },
     "metadata": {},
     "output_type": "display_data"
    }
   ],
   "source": [
    "# группа №1\n",
    "sns.histplot(df_ab_bucket[df_ab_bucket.exp_group == 1].bucket_ctr, bins=20)"
   ]
  },
  {
   "cell_type": "code",
   "execution_count": 20,
   "id": "98daaf7a-7d8d-474c-92c5-24cb45090513",
   "metadata": {},
   "outputs": [
    {
     "data": {
      "text/plain": [
       "<AxesSubplot:xlabel='bucket_ctr', ylabel='Count'>"
      ]
     },
     "execution_count": 20,
     "metadata": {},
     "output_type": "execute_result"
    },
    {
     "data": {
      "image/png": "[encoded data removed]",
      "text/plain": [
       "<Figure size 1152x864 with 1 Axes>"
      ]
     },
     "metadata": {},
     "output_type": "display_data"
    }
   ],
   "source": [
    "# группа №2\n",
    "sns.histplot(df_ab_bucket[df_ab_bucket.exp_group == 2].bucket_ctr, bins=20)"
   ]
  },
  {
   "cell_type": "code",
   "execution_count": 15,
   "id": "0230fb2d-3b5a-4528-b5cc-1b0901e47e39",
   "metadata": {},
   "outputs": [
    {
     "data": {
      "image/png": "[encoded data removed]",
      "text/plain": [
       "<Figure size 1152x864 with 1 Axes>"
      ]
     },
     "metadata": {},
     "output_type": "display_data"
    }
   ],
   "source": [
    "# общее распределение между группами\n",
    "groups = sns.histplot(data = df_ab_bucket, \n",
    "                      x = 'bucket_ctr', \n",
    "                      hue = 'exp_group', \n",
    "                      alpha = 0.5, \n",
    "                      palette=['b', 'r'], \n",
    "                      kde=False,\n",
    "                      bins=20)"
   ]
  },
  {
   "cell_type": "markdown",
   "id": "ee498883-d4ea-4724-a373-aa3c75aea420",
   "metadata": {},
   "source": [
    "Посмотрим на распределение 90% квантиля CTR по бакетам"
   ]
  },
  {
   "cell_type": "code",
   "execution_count": 8,
   "id": "15b230dc-705b-42ee-b1cc-07f9a417b144",
   "metadata": {},
   "outputs": [
    {
     "data": {
      "text/plain": [
       "<AxesSubplot:xlabel='ctr9', ylabel='Count'>"
      ]
     },
     "execution_count": 8,
     "metadata": {},
     "output_type": "execute_result"
    },
    {
     "data": {
      "image/png": "[encoded data removed]",
      "text/plain": [
       "<Figure size 1152x864 with 1 Axes>"
      ]
     },
     "metadata": {},
     "output_type": "display_data"
    }
   ],
   "source": [
    "# группа №1\n",
    "sns.histplot(df_ab_bucket[df_ab_bucket.exp_group == 1].ctr9, bins=20)"
   ]
  },
  {
   "cell_type": "code",
   "execution_count": 9,
   "id": "89787afd-85af-43cf-aee9-b9d1d4281826",
   "metadata": {},
   "outputs": [
    {
     "data": {
      "text/plain": [
       "<AxesSubplot:xlabel='ctr9', ylabel='Count'>"
      ]
     },
     "execution_count": 9,
     "metadata": {},
     "output_type": "execute_result"
    },
    {
     "data": {
      "image/png": "[encoded data removed]",
      "text/plain": [
       "<Figure size 1152x864 with 1 Axes>"
      ]
     },
     "metadata": {},
     "output_type": "display_data"
    }
   ],
   "source": [
    "# группа №2\n",
    "sns.histplot(df_ab_bucket[df_ab_bucket.exp_group == 2].ctr9, bins=20)"
   ]
  },
  {
   "cell_type": "markdown",
   "id": "eb13f63c-b4ee-49e4-9e29-d7b3e150bf55",
   "metadata": {},
   "source": [
    "График группы №1 схож с нормальным распределением, график №2 имеет скос в правую сторону, при этом предельных выбросов на графике не наблюдается, а на графиках 90% квантиля наоборот, в группе номер 2№ график более близок к нормальному распределению чем в группе №1.\n",
    "\n",
    "Поверх бакетного преобразования проведём стандартный t-test"
   ]
  },
  {
   "cell_type": "code",
   "execution_count": 11,
   "id": "c5737faa-8fe7-4cf7-b051-01472f056293",
   "metadata": {},
   "outputs": [
    {
     "data": {
      "text/plain": [
       "Ttest_indResult(statistic=5.614819358149381, pvalue=4.592644937473873e-07)"
      ]
     },
     "execution_count": 11,
     "metadata": {},
     "output_type": "execute_result"
    }
   ],
   "source": [
    "#t-тест\n",
    "\n",
    "stats.ttest_ind(df_ab_bucket[df_ab_bucket.exp_group == 1].bucket_ctr, \n",
    "                   df_ab_bucket[df_ab_bucket.exp_group == 2].bucket_ctr, \n",
    "                   equal_var = False)"
   ]
  },
  {
   "cell_type": "code",
   "execution_count": 12,
   "id": "15e53615-8b1f-4fc1-84e0-7547cbd1c6bd",
   "metadata": {},
   "outputs": [
    {
     "data": {
      "text/plain": [
       "Ttest_indResult(statistic=-22.821214612754606, pvalue=4.17295352116894e-38)"
      ]
     },
     "execution_count": 12,
     "metadata": {},
     "output_type": "execute_result"
    }
   ],
   "source": [
    "stats.ttest_ind(df_ab_bucket[df_ab_bucket.exp_group == 1].ctr9, \n",
    "                   df_ab_bucket[df_ab_bucket.exp_group == 2].ctr9, \n",
    "                   equal_var = False)"
   ]
  },
  {
   "cell_type": "markdown",
   "id": "ca61236d-480d-4a18-993f-c571e2a61f4e",
   "metadata": {},
   "source": [
    "## Выводы: \n",
    "* после проведения всех тестов можно сделать вывод, что между группами 1 и 2 имеются различия в разнице CTR, как глобального так и пользовательского, это подтверждают проведенные ранее тесты.\n",
    "* основной задачей проведения A/B тестирования было подтверждение или опровержение гипотезы которая заключалась в том, что новый алгоритм рекомендации во 2-й группе приведет к увеличению CTR, на основании проведенных тестов можно утверждать, что новый алгоритм рекомендации в группе 2 не повышает CTR, а наоборот уменьшает его, в связи с чем, раскатывать новый алгоритм на пользователей не стоит.\n",
    "* причинами снижения CTR в группе №2 могут являться не правильный отбор пользователей для тестирования, распределение CTR во второй группе не нормальное."
   ]
  }
 ],
 "metadata": {
  "kernelspec": {
   "display_name": "Python 3 (ipykernel)",
   "language": "python",
   "name": "python3"
  },
  "language_info": {
   "codemirror_mode": {
    "name": "ipython",
    "version": 3
   },
   "file_extension": ".py",
   "mimetype": "text/x-python",
   "name": "python",
   "nbconvert_exporter": "python",
   "pygments_lexer": "ipython3",
   "version": "3.11.5"
  }
 },
 "nbformat": 4,
 "nbformat_minor": 5
}
