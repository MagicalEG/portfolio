{
 "cells": [
  {
   "cell_type": "code",
   "execution_count": 162,
   "id": "48cb83ae-41ee-4723-befa-c37663d6c504",
   "metadata": {},
   "outputs": [],
   "source": [
    "# импортируем необходимые библиотеки для анализа данных и построении графиков\n",
    "import pandas as pd\n",
    "%matplotlib inline\n",
    "import matplotlib.pyplot as plt\n",
    "import seaborn as sns\n",
    "\n",
    "# это уберёт предупреждения, которые могут выкидывать некоторые методы\n",
    "import warnings\n",
    "warnings.filterwarnings(\"ignore\")\n",
    "\n",
    "# зададим параметры для будущих графиков\n",
    "sns.set(rc={'figure.figsize':(14,8)}, style=\"whitegrid\", font='sans-serif')"
   ]
  },
  {
   "cell_type": "markdown",
   "id": "19022460-3296-49e0-a344-a352b27af86f",
   "metadata": {},
   "source": [
    "### В интернет магазине повысили порог бесплатной доставки с 1500 рублей до 3000 рублей, для следующих вариантов доставки: стандартная курьерская доставка и доставки с самовывозом с 02.11.2022 г. для ускоренной доставки цена не изменилась, осталась бесплатной для любой суммы заказа. Необходимо проанализировать как повышение порога бесплатной доставки повлияют на основные метрики, сделать выводы."
   ]
  },
  {
   "cell_type": "code",
   "execution_count": 2,
   "id": "5cdf4283-38ee-4f1d-bcda-3906a2af9f8f",
   "metadata": {},
   "outputs": [],
   "source": [
    "data_project = pd.read_excel('C:/Users/MAGICAL/Desktop/Python/df/Delivery_data.xlsx')"
   ]
  },
  {
   "cell_type": "code",
   "execution_count": 3,
   "id": "33a0d507-c8cf-4d5a-806a-9f52ac05307b",
   "metadata": {},
   "outputs": [
    {
     "data": {
      "text/html": [
       "<div>\n",
       "<style scoped>\n",
       "    .dataframe tbody tr th:only-of-type {\n",
       "        vertical-align: middle;\n",
       "    }\n",
       "\n",
       "    .dataframe tbody tr th {\n",
       "        vertical-align: top;\n",
       "    }\n",
       "\n",
       "    .dataframe thead th {\n",
       "        text-align: right;\n",
       "    }\n",
       "</style>\n",
       "<table border=\"1\" class=\"dataframe\">\n",
       "  <thead>\n",
       "    <tr style=\"text-align: right;\">\n",
       "      <th></th>\n",
       "      <th>Наименование способа доставки</th>\n",
       "      <th>Номер заказа</th>\n",
       "      <th>Дата создания заказа</th>\n",
       "      <th>Условия</th>\n",
       "      <th>Продажи руб</th>\n",
       "      <th>ASP</th>\n",
       "      <th>UPT</th>\n",
       "    </tr>\n",
       "  </thead>\n",
       "  <tbody>\n",
       "    <tr>\n",
       "      <th>0</th>\n",
       "      <td>Курьер: стандартная доставка</td>\n",
       "      <td>10451067</td>\n",
       "      <td>2022-10-01</td>\n",
       "      <td>old</td>\n",
       "      <td>3198</td>\n",
       "      <td>1599.000000</td>\n",
       "      <td>2</td>\n",
       "    </tr>\n",
       "    <tr>\n",
       "      <th>1</th>\n",
       "      <td>Курьер: стандартная доставка</td>\n",
       "      <td>10451095</td>\n",
       "      <td>2022-10-01</td>\n",
       "      <td>old</td>\n",
       "      <td>2437</td>\n",
       "      <td>812.333333</td>\n",
       "      <td>3</td>\n",
       "    </tr>\n",
       "    <tr>\n",
       "      <th>2</th>\n",
       "      <td>Курьер: стандартная доставка</td>\n",
       "      <td>10451097</td>\n",
       "      <td>2022-10-01</td>\n",
       "      <td>old</td>\n",
       "      <td>3198</td>\n",
       "      <td>1599.000000</td>\n",
       "      <td>2</td>\n",
       "    </tr>\n",
       "    <tr>\n",
       "      <th>3</th>\n",
       "      <td>Курьер: стандартная доставка</td>\n",
       "      <td>10451115</td>\n",
       "      <td>2022-10-01</td>\n",
       "      <td>old</td>\n",
       "      <td>3172</td>\n",
       "      <td>1057.333333</td>\n",
       "      <td>3</td>\n",
       "    </tr>\n",
       "    <tr>\n",
       "      <th>4</th>\n",
       "      <td>Курьер: стандартная доставка</td>\n",
       "      <td>10451145</td>\n",
       "      <td>2022-10-01</td>\n",
       "      <td>old</td>\n",
       "      <td>998</td>\n",
       "      <td>499.000000</td>\n",
       "      <td>2</td>\n",
       "    </tr>\n",
       "  </tbody>\n",
       "</table>\n",
       "</div>"
      ],
      "text/plain": [
       "  Наименование способа доставки  Номер заказа Дата создания заказа Условия  \\\n",
       "0  Курьер: стандартная доставка      10451067           2022-10-01     old   \n",
       "1  Курьер: стандартная доставка      10451095           2022-10-01     old   \n",
       "2  Курьер: стандартная доставка      10451097           2022-10-01     old   \n",
       "3  Курьер: стандартная доставка      10451115           2022-10-01     old   \n",
       "4  Курьер: стандартная доставка      10451145           2022-10-01     old   \n",
       "\n",
       "   Продажи руб          ASP  UPT  \n",
       "0         3198  1599.000000    2  \n",
       "1         2437   812.333333    3  \n",
       "2         3198  1599.000000    2  \n",
       "3         3172  1057.333333    3  \n",
       "4          998   499.000000    2  "
      ]
     },
     "execution_count": 3,
     "metadata": {},
     "output_type": "execute_result"
    }
   ],
   "source": [
    "data_project.head()"
   ]
  },
  {
   "cell_type": "code",
   "execution_count": 4,
   "id": "5412ba8a-9eab-4c13-a3cc-e5eb49889c84",
   "metadata": {},
   "outputs": [
    {
     "data": {
      "text/plain": [
       "(27069, 7)"
      ]
     },
     "execution_count": 4,
     "metadata": {},
     "output_type": "execute_result"
    }
   ],
   "source": [
    "# размерность данных\n",
    "data_project.shape"
   ]
  },
  {
   "cell_type": "code",
   "execution_count": 5,
   "id": "6ed0ddd0-32e0-457c-94c0-410b76b77231",
   "metadata": {},
   "outputs": [
    {
     "data": {
      "text/plain": [
       "Наименование способа доставки            object\n",
       "Номер заказа                              int64\n",
       "Дата создания заказа             datetime64[ns]\n",
       "Условия                                  object\n",
       "Продажи руб                               int64\n",
       "ASP                                     float64\n",
       "UPT                                       int64\n",
       "dtype: object"
      ]
     },
     "execution_count": 5,
     "metadata": {},
     "output_type": "execute_result"
    }
   ],
   "source": [
    "# типы данных\n",
    "data_project.dtypes"
   ]
  },
  {
   "cell_type": "code",
   "execution_count": 6,
   "id": "88dff448-1f26-4066-8611-922ccc9fcba8",
   "metadata": {},
   "outputs": [
    {
     "data": {
      "text/plain": [
       "Наименование способа доставки    0\n",
       "Номер заказа                     0\n",
       "Дата создания заказа             0\n",
       "Условия                          0\n",
       "Продажи руб                      0\n",
       "ASP                              0\n",
       "UPT                              0\n",
       "dtype: int64"
      ]
     },
     "execution_count": 6,
     "metadata": {},
     "output_type": "execute_result"
    }
   ],
   "source": [
    "# проверка на наличие пропущенных значений в данных\n",
    "data_project.isna().sum()"
   ]
  },
  {
   "cell_type": "code",
   "execution_count": 7,
   "id": "8231b9e9-8447-4a82-bb44-63bddf3619d3",
   "metadata": {},
   "outputs": [],
   "source": [
    "# для удобства анализа переименуем колонки в данных\n",
    "data_delivery = data_project.rename(columns={'Наименование способа доставки' : 'name_delivery',\n",
    "                                             'Номер заказа' : 'num_order',\n",
    "                                             'Дата создания заказа' : 'date_create_order',\n",
    "                                             'Условия' : 'conditions',\n",
    "                                             'Продажи руб' : 'sales_rub'})"
   ]
  },
  {
   "cell_type": "code",
   "execution_count": 8,
   "id": "277ad8c9-bbd9-4ccb-b41c-dfec9c7f2dbe",
   "metadata": {},
   "outputs": [
    {
     "data": {
      "text/html": [
       "<div>\n",
       "<style scoped>\n",
       "    .dataframe tbody tr th:only-of-type {\n",
       "        vertical-align: middle;\n",
       "    }\n",
       "\n",
       "    .dataframe tbody tr th {\n",
       "        vertical-align: top;\n",
       "    }\n",
       "\n",
       "    .dataframe thead th {\n",
       "        text-align: right;\n",
       "    }\n",
       "</style>\n",
       "<table border=\"1\" class=\"dataframe\">\n",
       "  <thead>\n",
       "    <tr style=\"text-align: right;\">\n",
       "      <th></th>\n",
       "      <th>name_delivery</th>\n",
       "      <th>num_order</th>\n",
       "      <th>date_create_order</th>\n",
       "      <th>conditions</th>\n",
       "      <th>sales_rub</th>\n",
       "      <th>ASP</th>\n",
       "      <th>UPT</th>\n",
       "    </tr>\n",
       "  </thead>\n",
       "  <tbody>\n",
       "    <tr>\n",
       "      <th>0</th>\n",
       "      <td>Курьер: стандартная доставка</td>\n",
       "      <td>10451067</td>\n",
       "      <td>2022-10-01</td>\n",
       "      <td>old</td>\n",
       "      <td>3198</td>\n",
       "      <td>1599.000000</td>\n",
       "      <td>2</td>\n",
       "    </tr>\n",
       "    <tr>\n",
       "      <th>1</th>\n",
       "      <td>Курьер: стандартная доставка</td>\n",
       "      <td>10451095</td>\n",
       "      <td>2022-10-01</td>\n",
       "      <td>old</td>\n",
       "      <td>2437</td>\n",
       "      <td>812.333333</td>\n",
       "      <td>3</td>\n",
       "    </tr>\n",
       "    <tr>\n",
       "      <th>2</th>\n",
       "      <td>Курьер: стандартная доставка</td>\n",
       "      <td>10451097</td>\n",
       "      <td>2022-10-01</td>\n",
       "      <td>old</td>\n",
       "      <td>3198</td>\n",
       "      <td>1599.000000</td>\n",
       "      <td>2</td>\n",
       "    </tr>\n",
       "    <tr>\n",
       "      <th>3</th>\n",
       "      <td>Курьер: стандартная доставка</td>\n",
       "      <td>10451115</td>\n",
       "      <td>2022-10-01</td>\n",
       "      <td>old</td>\n",
       "      <td>3172</td>\n",
       "      <td>1057.333333</td>\n",
       "      <td>3</td>\n",
       "    </tr>\n",
       "    <tr>\n",
       "      <th>4</th>\n",
       "      <td>Курьер: стандартная доставка</td>\n",
       "      <td>10451145</td>\n",
       "      <td>2022-10-01</td>\n",
       "      <td>old</td>\n",
       "      <td>998</td>\n",
       "      <td>499.000000</td>\n",
       "      <td>2</td>\n",
       "    </tr>\n",
       "  </tbody>\n",
       "</table>\n",
       "</div>"
      ],
      "text/plain": [
       "                  name_delivery  num_order date_create_order conditions  \\\n",
       "0  Курьер: стандартная доставка   10451067        2022-10-01        old   \n",
       "1  Курьер: стандартная доставка   10451095        2022-10-01        old   \n",
       "2  Курьер: стандартная доставка   10451097        2022-10-01        old   \n",
       "3  Курьер: стандартная доставка   10451115        2022-10-01        old   \n",
       "4  Курьер: стандартная доставка   10451145        2022-10-01        old   \n",
       "\n",
       "   sales_rub          ASP  UPT  \n",
       "0       3198  1599.000000    2  \n",
       "1       2437   812.333333    3  \n",
       "2       3198  1599.000000    2  \n",
       "3       3172  1057.333333    3  \n",
       "4        998   499.000000    2  "
      ]
     },
     "execution_count": 8,
     "metadata": {},
     "output_type": "execute_result"
    }
   ],
   "source": [
    "data_delivery.head()"
   ]
  },
  {
   "cell_type": "markdown",
   "id": "e94add27-62ee-40b3-908e-b1dfc84f83b7",
   "metadata": {},
   "source": [
    "### Отсортируем данные на 2 периода:\n",
    "1. до повышения порога бесплатной доставки, **31 день**\n",
    "2. после повышения порога бесплатной доставки, **26 дней**"
   ]
  },
  {
   "cell_type": "code",
   "execution_count": 9,
   "id": "778f04e2-b0e6-4a00-8258-f86e604f1f18",
   "metadata": {},
   "outputs": [
    {
     "data": {
      "text/plain": [
       "Timedelta('31 days 00:00:00')"
      ]
     },
     "execution_count": 9,
     "metadata": {},
     "output_type": "execute_result"
    }
   ],
   "source": [
    "# данные до повышения и их продолжительность\n",
    "data_delivery_old = data_delivery.query(\"date_create_order < '2022-11-02'\")\n",
    "data_delivery_old['date_create_order'].max() - data_delivery_old['date_create_order'].min()"
   ]
  },
  {
   "cell_type": "code",
   "execution_count": 10,
   "id": "c29b252f-8867-49fb-b67b-33bf9946166e",
   "metadata": {},
   "outputs": [
    {
     "data": {
      "text/plain": [
       "Timedelta('26 days 00:00:00')"
      ]
     },
     "execution_count": 10,
     "metadata": {},
     "output_type": "execute_result"
    }
   ],
   "source": [
    "# данные после повышения и их продолжительность\n",
    "data_delivery_new = data_delivery.query(\"date_create_order >= '2022-11-02'\")\n",
    "data_delivery_new['date_create_order'].max() - data_delivery_new['date_create_order'].min()"
   ]
  },
  {
   "cell_type": "code",
   "execution_count": 11,
   "id": "dc01e5c0-014c-4efe-bac0-2bd45c942fe4",
   "metadata": {},
   "outputs": [
    {
     "data": {
      "text/html": [
       "<div>\n",
       "<style scoped>\n",
       "    .dataframe tbody tr th:only-of-type {\n",
       "        vertical-align: middle;\n",
       "    }\n",
       "\n",
       "    .dataframe tbody tr th {\n",
       "        vertical-align: top;\n",
       "    }\n",
       "\n",
       "    .dataframe thead th {\n",
       "        text-align: right;\n",
       "    }\n",
       "</style>\n",
       "<table border=\"1\" class=\"dataframe\">\n",
       "  <thead>\n",
       "    <tr style=\"text-align: right;\">\n",
       "      <th></th>\n",
       "      <th>name_delivery</th>\n",
       "      <th>num_order</th>\n",
       "    </tr>\n",
       "  </thead>\n",
       "  <tbody>\n",
       "    <tr>\n",
       "      <th>3</th>\n",
       "      <td>Самовывоз из пункта выдачи</td>\n",
       "      <td>3001</td>\n",
       "    </tr>\n",
       "    <tr>\n",
       "      <th>4</th>\n",
       "      <td>Самовывоз с примеркой в магазин</td>\n",
       "      <td>2934</td>\n",
       "    </tr>\n",
       "    <tr>\n",
       "      <th>1</th>\n",
       "      <td>Курьер: стандартная доставка</td>\n",
       "      <td>1689</td>\n",
       "    </tr>\n",
       "    <tr>\n",
       "      <th>5</th>\n",
       "      <td>Самовывоз, доставка в магазин</td>\n",
       "      <td>822</td>\n",
       "    </tr>\n",
       "    <tr>\n",
       "      <th>0</th>\n",
       "      <td>Доставка из магазина в ПВЗ</td>\n",
       "      <td>725</td>\n",
       "    </tr>\n",
       "    <tr>\n",
       "      <th>2</th>\n",
       "      <td>Курьер: ускоренная доставка</td>\n",
       "      <td>555</td>\n",
       "    </tr>\n",
       "    <tr>\n",
       "      <th>6</th>\n",
       "      <td>самовывоз PickPoint</td>\n",
       "      <td>458</td>\n",
       "    </tr>\n",
       "  </tbody>\n",
       "</table>\n",
       "</div>"
      ],
      "text/plain": [
       "                     name_delivery  num_order\n",
       "3       Самовывоз из пункта выдачи       3001\n",
       "4  Самовывоз с примеркой в магазин       2934\n",
       "1     Курьер: стандартная доставка       1689\n",
       "5    Самовывоз, доставка в магазин        822\n",
       "0       Доставка из магазина в ПВЗ        725\n",
       "2      Курьер: ускоренная доставка        555\n",
       "6              самовывоз PickPoint        458"
      ]
     },
     "execution_count": 11,
     "metadata": {},
     "output_type": "execute_result"
    }
   ],
   "source": [
    "# посмотрим на количество уникальных заказов до повышения, в разбивке по способу доставки\n",
    "uniq_orders_old = data_delivery_old.groupby('name_delivery', as_index=False)['num_order'].nunique().sort_values('num_order', ascending=False)\n",
    "uniq_orders_old"
   ]
  },
  {
   "cell_type": "code",
   "execution_count": 13,
   "id": "0ed6c177-7aca-44a2-88f9-4a3416c3149a",
   "metadata": {},
   "outputs": [
    {
     "data": {
      "text/plain": [
       "<Axes: title={'center': 'Уникальные заказы до поднятия цен'}, xlabel='name_delivery', ylabel='num_order'>"
      ]
     },
     "execution_count": 13,
     "metadata": {},
     "output_type": "execute_result"
    },
    {
     "data": {
      "image/png": "[encoded data removed]",
      "text/plain": [
       "<Figure size 1400x800 with 1 Axes>"
      ]
     },
     "metadata": {},
     "output_type": "display_data"
    }
   ],
   "source": [
    "plt.title('Уникальные заказы до поднятия цен')\n",
    "plt.xticks(rotation=45)\n",
    "sns.barplot(data=uniq_orders_old, x='name_delivery', y='num_order')"
   ]
  },
  {
   "cell_type": "code",
   "execution_count": 14,
   "id": "1b647e80-e6da-4fa6-b5ea-76e1dbd40e18",
   "metadata": {},
   "outputs": [
    {
     "data": {
      "text/html": [
       "<div>\n",
       "<style scoped>\n",
       "    .dataframe tbody tr th:only-of-type {\n",
       "        vertical-align: middle;\n",
       "    }\n",
       "\n",
       "    .dataframe tbody tr th {\n",
       "        vertical-align: top;\n",
       "    }\n",
       "\n",
       "    .dataframe thead th {\n",
       "        text-align: right;\n",
       "    }\n",
       "</style>\n",
       "<table border=\"1\" class=\"dataframe\">\n",
       "  <thead>\n",
       "    <tr style=\"text-align: right;\">\n",
       "      <th></th>\n",
       "      <th>name_delivery</th>\n",
       "      <th>num_order</th>\n",
       "    </tr>\n",
       "  </thead>\n",
       "  <tbody>\n",
       "    <tr>\n",
       "      <th>4</th>\n",
       "      <td>Самовывоз с примеркой в магазин</td>\n",
       "      <td>3238</td>\n",
       "    </tr>\n",
       "    <tr>\n",
       "      <th>3</th>\n",
       "      <td>Самовывоз из пункта выдачи</td>\n",
       "      <td>2583</td>\n",
       "    </tr>\n",
       "    <tr>\n",
       "      <th>1</th>\n",
       "      <td>Курьер: стандартная доставка</td>\n",
       "      <td>2107</td>\n",
       "    </tr>\n",
       "    <tr>\n",
       "      <th>5</th>\n",
       "      <td>Самовывоз, доставка в магазин</td>\n",
       "      <td>922</td>\n",
       "    </tr>\n",
       "    <tr>\n",
       "      <th>2</th>\n",
       "      <td>Курьер: ускоренная доставка</td>\n",
       "      <td>771</td>\n",
       "    </tr>\n",
       "    <tr>\n",
       "      <th>0</th>\n",
       "      <td>Доставка из магазина в ПВЗ</td>\n",
       "      <td>660</td>\n",
       "    </tr>\n",
       "    <tr>\n",
       "      <th>6</th>\n",
       "      <td>самовывоз PickPoint</td>\n",
       "      <td>280</td>\n",
       "    </tr>\n",
       "  </tbody>\n",
       "</table>\n",
       "</div>"
      ],
      "text/plain": [
       "                     name_delivery  num_order\n",
       "4  Самовывоз с примеркой в магазин       3238\n",
       "3       Самовывоз из пункта выдачи       2583\n",
       "1     Курьер: стандартная доставка       2107\n",
       "5    Самовывоз, доставка в магазин        922\n",
       "2      Курьер: ускоренная доставка        771\n",
       "0       Доставка из магазина в ПВЗ        660\n",
       "6              самовывоз PickPoint        280"
      ]
     },
     "execution_count": 14,
     "metadata": {},
     "output_type": "execute_result"
    }
   ],
   "source": [
    "# посмотрим на количество уникальных заказов после повышения, в разбивке по способу доставки\n",
    "uniq_orders_new = data_delivery_new.groupby('name_delivery', as_index=False)['num_order'].nunique().sort_values('num_order', ascending=False)\n",
    "uniq_orders_new"
   ]
  },
  {
   "cell_type": "code",
   "execution_count": 15,
   "id": "e51c78f7-dae1-454e-b8c3-2c75108210cb",
   "metadata": {},
   "outputs": [
    {
     "data": {
      "text/plain": [
       "<Axes: title={'center': 'Уникальные заказы после поднятия цен'}, xlabel='name_delivery', ylabel='num_order'>"
      ]
     },
     "execution_count": 15,
     "metadata": {},
     "output_type": "execute_result"
    },
    {
     "data": {
      "image/png": "[encoded data removed]",
      "text/plain": [
       "<Figure size 1400x800 with 1 Axes>"
      ]
     },
     "metadata": {},
     "output_type": "display_data"
    }
   ],
   "source": [
    "plt.title('Уникальные заказы после поднятия цен')\n",
    "plt.xticks(rotation=45)\n",
    "sns.barplot(data=uniq_orders_new, x='name_delivery', y='num_order')"
   ]
  },
  {
   "cell_type": "markdown",
   "id": "f384dd0f-7f49-4dcf-a4f2-edf2f20a7bd6",
   "metadata": {},
   "source": [
    "### Для начала сравним средний чек, в разрезе по способу доставки, до поднятия цен и после"
   ]
  },
  {
   "cell_type": "code",
   "execution_count": 16,
   "id": "702f646b-5373-44a4-a153-1913d2889334",
   "metadata": {},
   "outputs": [],
   "source": [
    "def mean_sales_rub(df):\n",
    "    standart_delivery = df[df.name_delivery == 'Курьер: стандартная доставка']['sales_rub'].mean().round(0)\n",
    "    pickpoint = df[df.name_delivery == 'самовывоз PickPoint']['sales_rub'].mean().round(0)\n",
    "    pickup_point = df[df.name_delivery == 'Самовывоз из пункта выдачи']['sales_rub'].mean().round(0)\n",
    "    pickup_the_store = df[df.name_delivery == 'Самовывоз с примеркой в магазин']['sales_rub'].mean().round(0)\n",
    "    pickup_delivery = df[df.name_delivery == 'Самовывоз, доставка в магазин']['sales_rub'].mean().round(0)\n",
    "    pickup_from_magazine = df[df.name_delivery == 'Доставка из магазина в ПВЗ']['sales_rub'].mean().round(0)\n",
    "    accelerated = df[df.name_delivery == 'Курьер: ускоренная доставка']['sales_rub'].mean().round(0)\n",
    "    return print(f'средний чек для способа доставки курьер: стандартная доставка составляет {standart_delivery}\\n'\n",
    "                f'средний чек для способа доставки самовывоз PickPoint составляет {pickpoint}\\n'\n",
    "                f'средний чек для способа доставки самовывоз из пункта выдачи {pickup_point}\\n'\n",
    "                f'средний чек для способа доставки cамовывоз с примеркой в магазин {pickup_the_store}\\n'\n",
    "                f'средний чек для способа доставки cамовывоз, доставка в магазин {pickup_delivery}\\n'\n",
    "                f'средний чек для способа доставки доставка из магазина в ПВЗ {pickup_from_magazine}\\n'\n",
    "                f'средний чек для способа ускоренная доставка {accelerated}\\n')\n",
    "    "
   ]
  },
  {
   "cell_type": "code",
   "execution_count": 102,
   "id": "5e9fbcf9-9edb-45e8-8740-9b67b58d7029",
   "metadata": {},
   "outputs": [
    {
     "name": "stdout",
     "output_type": "stream",
     "text": [
      "средний чек для способа доставки курьер: стандартная доставка составляет 3930.0\n",
      "средний чек для способа доставки самовывоз PickPoint составляет 2799.0\n",
      "средний чек для способа доставки самовывоз из пункта выдачи 2757.0\n",
      "средний чек для способа доставки cамовывоз с примеркой в магазин 2183.0\n",
      "средний чек для способа доставки cамовывоз, доставка в магазин 2498.0\n",
      "средний чек для способа доставки доставка из магазина в ПВЗ 2766.0\n",
      "средний чек для способа ускоренная доставка 2853.0\n",
      "\n"
     ]
    }
   ],
   "source": [
    "# средний чек до повышения цен\n",
    "mean_sales_rub(data_delivery_old)"
   ]
  },
  {
   "cell_type": "code",
   "execution_count": 17,
   "id": "1b07959c-91ca-48f0-9765-4c2650703136",
   "metadata": {},
   "outputs": [
    {
     "name": "stdout",
     "output_type": "stream",
     "text": [
      "средний чек для способа доставки курьер: стандартная доставка составляет 4004.0\n",
      "средний чек для способа доставки самовывоз PickPoint составляет 3214.0\n",
      "средний чек для способа доставки самовывоз из пункта выдачи 3343.0\n",
      "средний чек для способа доставки cамовывоз с примеркой в магазин 2265.0\n",
      "средний чек для способа доставки cамовывоз, доставка в магазин 2707.0\n",
      "средний чек для способа доставки доставка из магазина в ПВЗ 3023.0\n",
      "средний чек для способа ускоренная доставка 2883.0\n",
      "\n"
     ]
    }
   ],
   "source": [
    "# средний чек после повышения цен\n",
    "mean_sales_rub(data_delivery_new)"
   ]
  },
  {
   "cell_type": "markdown",
   "id": "5374c9f3-e136-4b3d-9e9c-3863c009c3b8",
   "metadata": {},
   "source": [
    "### после поднятия цен средний чек в разрезе по способу доставки незначительно повысился, даже с учётом того, что рассматриваемый период после поднятия цен меньше периода до поднятия."
   ]
  },
  {
   "cell_type": "code",
   "execution_count": 18,
   "id": "4cd18b72-d3ec-431d-adbe-1d85d7b9d01a",
   "metadata": {},
   "outputs": [
    {
     "data": {
      "text/html": [
       "<div>\n",
       "<style scoped>\n",
       "    .dataframe tbody tr th:only-of-type {\n",
       "        vertical-align: middle;\n",
       "    }\n",
       "\n",
       "    .dataframe tbody tr th {\n",
       "        vertical-align: top;\n",
       "    }\n",
       "\n",
       "    .dataframe thead th {\n",
       "        text-align: right;\n",
       "    }\n",
       "</style>\n",
       "<table border=\"1\" class=\"dataframe\">\n",
       "  <thead>\n",
       "    <tr style=\"text-align: right;\">\n",
       "      <th></th>\n",
       "      <th>name_delivery</th>\n",
       "      <th>num_order</th>\n",
       "      <th>date_create_order</th>\n",
       "      <th>conditions</th>\n",
       "      <th>sales_rub</th>\n",
       "      <th>ASP</th>\n",
       "      <th>UPT</th>\n",
       "    </tr>\n",
       "  </thead>\n",
       "  <tbody>\n",
       "    <tr>\n",
       "      <th>0</th>\n",
       "      <td>Курьер: стандартная доставка</td>\n",
       "      <td>10451067</td>\n",
       "      <td>2022-10-01</td>\n",
       "      <td>old</td>\n",
       "      <td>3198</td>\n",
       "      <td>1599.000000</td>\n",
       "      <td>2</td>\n",
       "    </tr>\n",
       "    <tr>\n",
       "      <th>1</th>\n",
       "      <td>Курьер: стандартная доставка</td>\n",
       "      <td>10451095</td>\n",
       "      <td>2022-10-01</td>\n",
       "      <td>old</td>\n",
       "      <td>2437</td>\n",
       "      <td>812.333333</td>\n",
       "      <td>3</td>\n",
       "    </tr>\n",
       "    <tr>\n",
       "      <th>2</th>\n",
       "      <td>Курьер: стандартная доставка</td>\n",
       "      <td>10451097</td>\n",
       "      <td>2022-10-01</td>\n",
       "      <td>old</td>\n",
       "      <td>3198</td>\n",
       "      <td>1599.000000</td>\n",
       "      <td>2</td>\n",
       "    </tr>\n",
       "    <tr>\n",
       "      <th>3</th>\n",
       "      <td>Курьер: стандартная доставка</td>\n",
       "      <td>10451115</td>\n",
       "      <td>2022-10-01</td>\n",
       "      <td>old</td>\n",
       "      <td>3172</td>\n",
       "      <td>1057.333333</td>\n",
       "      <td>3</td>\n",
       "    </tr>\n",
       "    <tr>\n",
       "      <th>4</th>\n",
       "      <td>Курьер: стандартная доставка</td>\n",
       "      <td>10451145</td>\n",
       "      <td>2022-10-01</td>\n",
       "      <td>old</td>\n",
       "      <td>998</td>\n",
       "      <td>499.000000</td>\n",
       "      <td>2</td>\n",
       "    </tr>\n",
       "  </tbody>\n",
       "</table>\n",
       "</div>"
      ],
      "text/plain": [
       "                  name_delivery  num_order date_create_order conditions  \\\n",
       "0  Курьер: стандартная доставка   10451067        2022-10-01        old   \n",
       "1  Курьер: стандартная доставка   10451095        2022-10-01        old   \n",
       "2  Курьер: стандартная доставка   10451097        2022-10-01        old   \n",
       "3  Курьер: стандартная доставка   10451115        2022-10-01        old   \n",
       "4  Курьер: стандартная доставка   10451145        2022-10-01        old   \n",
       "\n",
       "   sales_rub          ASP  UPT  \n",
       "0       3198  1599.000000    2  \n",
       "1       2437   812.333333    3  \n",
       "2       3198  1599.000000    2  \n",
       "3       3172  1057.333333    3  \n",
       "4        998   499.000000    2  "
      ]
     },
     "execution_count": 18,
     "metadata": {},
     "output_type": "execute_result"
    }
   ],
   "source": [
    "data_delivery_old.head()"
   ]
  },
  {
   "cell_type": "markdown",
   "id": "203ff908-08e2-4590-a1b8-7d78a0457af5",
   "metadata": {},
   "source": [
    "### Посмотрим поменялось ли среднее количество заказов в чеке и их средняя стоимость, в разрезе по способу доставки до поднятия цен и после, также посмотрим общую выручку, общее количество сделанных заказов."
   ]
  },
  {
   "cell_type": "code",
   "execution_count": 62,
   "id": "58c5c551-9766-4cbe-aaa0-e19262ef1c19",
   "metadata": {},
   "outputs": [],
   "source": [
    "# до поднятия цен\n",
    "mean_delivery_old = data_delivery_old.groupby('name_delivery', as_index=False) \\\n",
    "                 .agg({'UPT' : 'mean' , 'ASP' : 'mean', 'sales_rub' : 'sum'}).round(2) \\\n",
    "                 .rename(columns={'UPT' : 'mean_UPT_old', 'ASP' : 'mean_ASP_old', 'sales_rub' : 'all_sales_old'}) \\\n",
    "                 .sort_values('mean_UPT_old', ascending=False)"
   ]
  },
  {
   "cell_type": "code",
   "execution_count": 63,
   "id": "dfbd62a2-7b5a-4932-b269-65024be55372",
   "metadata": {},
   "outputs": [
    {
     "data": {
      "text/html": [
       "<div>\n",
       "<style scoped>\n",
       "    .dataframe tbody tr th:only-of-type {\n",
       "        vertical-align: middle;\n",
       "    }\n",
       "\n",
       "    .dataframe tbody tr th {\n",
       "        vertical-align: top;\n",
       "    }\n",
       "\n",
       "    .dataframe thead th {\n",
       "        text-align: right;\n",
       "    }\n",
       "</style>\n",
       "<table border=\"1\" class=\"dataframe\">\n",
       "  <thead>\n",
       "    <tr style=\"text-align: right;\">\n",
       "      <th></th>\n",
       "      <th>name_delivery</th>\n",
       "      <th>mean_UPT_old</th>\n",
       "      <th>mean_ASP_old</th>\n",
       "      <th>all_sales_old</th>\n",
       "    </tr>\n",
       "  </thead>\n",
       "  <tbody>\n",
       "    <tr>\n",
       "      <th>1</th>\n",
       "      <td>Курьер: стандартная доставка</td>\n",
       "      <td>4.17</td>\n",
       "      <td>1100.00</td>\n",
       "      <td>8004407</td>\n",
       "    </tr>\n",
       "    <tr>\n",
       "      <th>3</th>\n",
       "      <td>Самовывоз из пункта выдачи</td>\n",
       "      <td>3.08</td>\n",
       "      <td>1143.23</td>\n",
       "      <td>11299595</td>\n",
       "    </tr>\n",
       "    <tr>\n",
       "      <th>6</th>\n",
       "      <td>самовывоз PickPoint</td>\n",
       "      <td>2.92</td>\n",
       "      <td>1248.66</td>\n",
       "      <td>1354579</td>\n",
       "    </tr>\n",
       "    <tr>\n",
       "      <th>5</th>\n",
       "      <td>Самовывоз, доставка в магазин</td>\n",
       "      <td>2.33</td>\n",
       "      <td>1278.74</td>\n",
       "      <td>2248101</td>\n",
       "    </tr>\n",
       "    <tr>\n",
       "      <th>0</th>\n",
       "      <td>Доставка из магазина в ПВЗ</td>\n",
       "      <td>2.26</td>\n",
       "      <td>1588.62</td>\n",
       "      <td>2179653</td>\n",
       "    </tr>\n",
       "    <tr>\n",
       "      <th>2</th>\n",
       "      <td>Курьер: ускоренная доставка</td>\n",
       "      <td>2.24</td>\n",
       "      <td>1564.65</td>\n",
       "      <td>1734485</td>\n",
       "    </tr>\n",
       "    <tr>\n",
       "      <th>4</th>\n",
       "      <td>Самовывоз с примеркой в магазин</td>\n",
       "      <td>1.66</td>\n",
       "      <td>1463.16</td>\n",
       "      <td>9123065</td>\n",
       "    </tr>\n",
       "  </tbody>\n",
       "</table>\n",
       "</div>"
      ],
      "text/plain": [
       "                     name_delivery  mean_UPT_old  mean_ASP_old  all_sales_old\n",
       "1     Курьер: стандартная доставка          4.17       1100.00        8004407\n",
       "3       Самовывоз из пункта выдачи          3.08       1143.23       11299595\n",
       "6              самовывоз PickPoint          2.92       1248.66        1354579\n",
       "5    Самовывоз, доставка в магазин          2.33       1278.74        2248101\n",
       "0       Доставка из магазина в ПВЗ          2.26       1588.62        2179653\n",
       "2      Курьер: ускоренная доставка          2.24       1564.65        1734485\n",
       "4  Самовывоз с примеркой в магазин          1.66       1463.16        9123065"
      ]
     },
     "execution_count": 63,
     "metadata": {},
     "output_type": "execute_result"
    }
   ],
   "source": [
    "mean_delivery_old"
   ]
  },
  {
   "cell_type": "code",
   "execution_count": 65,
   "id": "9ae9abad-4b16-494e-936f-b72a7a87a5bf",
   "metadata": {},
   "outputs": [],
   "source": [
    "# после поднятия цен\n",
    "mean_delivery_new = data_delivery_new.groupby('name_delivery', as_index=False) \\\n",
    "                 .agg({'UPT' : 'mean' , 'ASP' : 'mean', 'sales_rub' : 'sum'}).round(2) \\\n",
    "                 .rename(columns={'UPT' : 'mean_UPT', 'ASP' : 'mean_ASP', 'sales_rub' : 'all_sales'}) \\\n",
    "                 .sort_values('mean_UPT', ascending=False)"
   ]
  },
  {
   "cell_type": "code",
   "execution_count": 61,
   "id": "4a94cb1d-e8ff-4a9e-bac7-67dd828da9aa",
   "metadata": {},
   "outputs": [
    {
     "data": {
      "text/html": [
       "<div>\n",
       "<style scoped>\n",
       "    .dataframe tbody tr th:only-of-type {\n",
       "        vertical-align: middle;\n",
       "    }\n",
       "\n",
       "    .dataframe tbody tr th {\n",
       "        vertical-align: top;\n",
       "    }\n",
       "\n",
       "    .dataframe thead th {\n",
       "        text-align: right;\n",
       "    }\n",
       "</style>\n",
       "<table border=\"1\" class=\"dataframe\">\n",
       "  <thead>\n",
       "    <tr style=\"text-align: right;\">\n",
       "      <th></th>\n",
       "      <th>name_delivery</th>\n",
       "      <th>mean_UPT</th>\n",
       "      <th>mean_ASP</th>\n",
       "      <th>all_sales</th>\n",
       "    </tr>\n",
       "  </thead>\n",
       "  <tbody>\n",
       "    <tr>\n",
       "      <th>1</th>\n",
       "      <td>Курьер: стандартная доставка</td>\n",
       "      <td>4.37</td>\n",
       "      <td>1061.91</td>\n",
       "      <td>10630204</td>\n",
       "    </tr>\n",
       "    <tr>\n",
       "      <th>3</th>\n",
       "      <td>Самовывоз из пункта выдачи</td>\n",
       "      <td>3.82</td>\n",
       "      <td>1035.89</td>\n",
       "      <td>11618794</td>\n",
       "    </tr>\n",
       "    <tr>\n",
       "      <th>6</th>\n",
       "      <td>самовывоз PickPoint</td>\n",
       "      <td>3.73</td>\n",
       "      <td>1060.26</td>\n",
       "      <td>941810</td>\n",
       "    </tr>\n",
       "    <tr>\n",
       "      <th>5</th>\n",
       "      <td>Самовывоз, доставка в магазин</td>\n",
       "      <td>2.61</td>\n",
       "      <td>1224.02</td>\n",
       "      <td>2855396</td>\n",
       "    </tr>\n",
       "    <tr>\n",
       "      <th>0</th>\n",
       "      <td>Доставка из магазина в ПВЗ</td>\n",
       "      <td>2.33</td>\n",
       "      <td>1625.83</td>\n",
       "      <td>2204011</td>\n",
       "    </tr>\n",
       "    <tr>\n",
       "      <th>2</th>\n",
       "      <td>Курьер: ускоренная доставка</td>\n",
       "      <td>2.32</td>\n",
       "      <td>1544.19</td>\n",
       "      <td>2479759</td>\n",
       "    </tr>\n",
       "    <tr>\n",
       "      <th>4</th>\n",
       "      <td>Самовывоз с примеркой в магазин</td>\n",
       "      <td>1.66</td>\n",
       "      <td>1488.37</td>\n",
       "      <td>11113248</td>\n",
       "    </tr>\n",
       "  </tbody>\n",
       "</table>\n",
       "</div>"
      ],
      "text/plain": [
       "                     name_delivery  mean_UPT  mean_ASP  all_sales\n",
       "1     Курьер: стандартная доставка      4.37   1061.91   10630204\n",
       "3       Самовывоз из пункта выдачи      3.82   1035.89   11618794\n",
       "6              самовывоз PickPoint      3.73   1060.26     941810\n",
       "5    Самовывоз, доставка в магазин      2.61   1224.02    2855396\n",
       "0       Доставка из магазина в ПВЗ      2.33   1625.83    2204011\n",
       "2      Курьер: ускоренная доставка      2.32   1544.19    2479759\n",
       "4  Самовывоз с примеркой в магазин      1.66   1488.37   11113248"
      ]
     },
     "execution_count": 61,
     "metadata": {},
     "output_type": "execute_result"
    }
   ],
   "source": [
    "mean_delivery_new"
   ]
  },
  {
   "cell_type": "code",
   "execution_count": 92,
   "id": "fcfcf47b-750b-43ec-a6f3-ac1ad7dd0673",
   "metadata": {},
   "outputs": [],
   "source": [
    "# полная таблица с данными\n",
    "full_data_delivery = data_delivery_old.groupby('name_delivery', as_index=False) \\\n",
    "                 .agg(all_orders_old = ('num_order', 'count')) \\\n",
    "                 .sort_values('all_orders_old', ascending=False) \\\n",
    "                 .merge(full_mean_delivery, on='name_delivery') \\\n",
    "                 .merge(orders_new, on='name_delivery')"
   ]
  },
  {
   "cell_type": "code",
   "execution_count": 89,
   "id": "93db5b74-d6f6-4db7-9179-f1fa1f3cf83d",
   "metadata": {},
   "outputs": [],
   "source": [
    "orders_new = data_delivery_new.groupby('name_delivery', as_index=False) \\\n",
    "                 .agg(all_orders_new = ('num_order', 'count')) \\\n",
    "                 .sort_values('all_orders_new', ascending=False)"
   ]
  },
  {
   "cell_type": "code",
   "execution_count": 66,
   "id": "256311d6-7364-4e5f-8da6-62b81a264f02",
   "metadata": {},
   "outputs": [
    {
     "data": {
      "text/html": [
       "<div>\n",
       "<style scoped>\n",
       "    .dataframe tbody tr th:only-of-type {\n",
       "        vertical-align: middle;\n",
       "    }\n",
       "\n",
       "    .dataframe tbody tr th {\n",
       "        vertical-align: top;\n",
       "    }\n",
       "\n",
       "    .dataframe thead th {\n",
       "        text-align: right;\n",
       "    }\n",
       "</style>\n",
       "<table border=\"1\" class=\"dataframe\">\n",
       "  <thead>\n",
       "    <tr style=\"text-align: right;\">\n",
       "      <th></th>\n",
       "      <th>name_delivery</th>\n",
       "      <th>mean_UPT_old</th>\n",
       "      <th>mean_ASP_old</th>\n",
       "      <th>all_sales_old</th>\n",
       "      <th>mean_UPT</th>\n",
       "      <th>mean_ASP</th>\n",
       "      <th>all_sales</th>\n",
       "    </tr>\n",
       "  </thead>\n",
       "  <tbody>\n",
       "    <tr>\n",
       "      <th>0</th>\n",
       "      <td>Курьер: стандартная доставка</td>\n",
       "      <td>4.17</td>\n",
       "      <td>1100.00</td>\n",
       "      <td>8004407</td>\n",
       "      <td>4.37</td>\n",
       "      <td>1061.91</td>\n",
       "      <td>10630204</td>\n",
       "    </tr>\n",
       "    <tr>\n",
       "      <th>1</th>\n",
       "      <td>Самовывоз из пункта выдачи</td>\n",
       "      <td>3.08</td>\n",
       "      <td>1143.23</td>\n",
       "      <td>11299595</td>\n",
       "      <td>3.82</td>\n",
       "      <td>1035.89</td>\n",
       "      <td>11618794</td>\n",
       "    </tr>\n",
       "    <tr>\n",
       "      <th>2</th>\n",
       "      <td>самовывоз PickPoint</td>\n",
       "      <td>2.92</td>\n",
       "      <td>1248.66</td>\n",
       "      <td>1354579</td>\n",
       "      <td>3.73</td>\n",
       "      <td>1060.26</td>\n",
       "      <td>941810</td>\n",
       "    </tr>\n",
       "    <tr>\n",
       "      <th>3</th>\n",
       "      <td>Самовывоз, доставка в магазин</td>\n",
       "      <td>2.33</td>\n",
       "      <td>1278.74</td>\n",
       "      <td>2248101</td>\n",
       "      <td>2.61</td>\n",
       "      <td>1224.02</td>\n",
       "      <td>2855396</td>\n",
       "    </tr>\n",
       "    <tr>\n",
       "      <th>4</th>\n",
       "      <td>Доставка из магазина в ПВЗ</td>\n",
       "      <td>2.26</td>\n",
       "      <td>1588.62</td>\n",
       "      <td>2179653</td>\n",
       "      <td>2.33</td>\n",
       "      <td>1625.83</td>\n",
       "      <td>2204011</td>\n",
       "    </tr>\n",
       "    <tr>\n",
       "      <th>5</th>\n",
       "      <td>Курьер: ускоренная доставка</td>\n",
       "      <td>2.24</td>\n",
       "      <td>1564.65</td>\n",
       "      <td>1734485</td>\n",
       "      <td>2.32</td>\n",
       "      <td>1544.19</td>\n",
       "      <td>2479759</td>\n",
       "    </tr>\n",
       "    <tr>\n",
       "      <th>6</th>\n",
       "      <td>Самовывоз с примеркой в магазин</td>\n",
       "      <td>1.66</td>\n",
       "      <td>1463.16</td>\n",
       "      <td>9123065</td>\n",
       "      <td>1.66</td>\n",
       "      <td>1488.37</td>\n",
       "      <td>11113248</td>\n",
       "    </tr>\n",
       "  </tbody>\n",
       "</table>\n",
       "</div>"
      ],
      "text/plain": [
       "                     name_delivery  mean_UPT_old  mean_ASP_old  all_sales_old  \\\n",
       "0     Курьер: стандартная доставка          4.17       1100.00        8004407   \n",
       "1       Самовывоз из пункта выдачи          3.08       1143.23       11299595   \n",
       "2              самовывоз PickPoint          2.92       1248.66        1354579   \n",
       "3    Самовывоз, доставка в магазин          2.33       1278.74        2248101   \n",
       "4       Доставка из магазина в ПВЗ          2.26       1588.62        2179653   \n",
       "5      Курьер: ускоренная доставка          2.24       1564.65        1734485   \n",
       "6  Самовывоз с примеркой в магазин          1.66       1463.16        9123065   \n",
       "\n",
       "   mean_UPT  mean_ASP  all_sales  \n",
       "0      4.37   1061.91   10630204  \n",
       "1      3.82   1035.89   11618794  \n",
       "2      3.73   1060.26     941810  \n",
       "3      2.61   1224.02    2855396  \n",
       "4      2.33   1625.83    2204011  \n",
       "5      2.32   1544.19    2479759  \n",
       "6      1.66   1488.37   11113248  "
      ]
     },
     "execution_count": 66,
     "metadata": {},
     "output_type": "execute_result"
    }
   ],
   "source": [
    "full_mean_delivery = mean_delivery_old.merge(mean_delivery_new, on='name_delivery')\n",
    "full_mean_delivery"
   ]
  },
  {
   "cell_type": "code",
   "execution_count": 99,
   "id": "80da501a-87f7-4ec5-8805-2e0402ebb1c9",
   "metadata": {},
   "outputs": [
    {
     "data": {
      "text/html": [
       "<div>\n",
       "<style scoped>\n",
       "    .dataframe tbody tr th:only-of-type {\n",
       "        vertical-align: middle;\n",
       "    }\n",
       "\n",
       "    .dataframe tbody tr th {\n",
       "        vertical-align: top;\n",
       "    }\n",
       "\n",
       "    .dataframe thead th {\n",
       "        text-align: right;\n",
       "    }\n",
       "</style>\n",
       "<table border=\"1\" class=\"dataframe\">\n",
       "  <thead>\n",
       "    <tr style=\"text-align: right;\">\n",
       "      <th></th>\n",
       "      <th>name_delivery</th>\n",
       "      <th>all_orders_old</th>\n",
       "      <th>mean_UPT_old</th>\n",
       "      <th>mean_ASP_old</th>\n",
       "      <th>all_sales_old</th>\n",
       "      <th>mean_UPT</th>\n",
       "      <th>mean_ASP</th>\n",
       "      <th>all_sales</th>\n",
       "      <th>diff_sales</th>\n",
       "      <th>diff_ASP</th>\n",
       "      <th>diff_UPT</th>\n",
       "      <th>all_orders_new</th>\n",
       "    </tr>\n",
       "  </thead>\n",
       "  <tbody>\n",
       "    <tr>\n",
       "      <th>0</th>\n",
       "      <td>Самовывоз с примеркой в магазин</td>\n",
       "      <td>4179</td>\n",
       "      <td>1.66</td>\n",
       "      <td>1463.16</td>\n",
       "      <td>9123065</td>\n",
       "      <td>1.66</td>\n",
       "      <td>1488.37</td>\n",
       "      <td>11113248</td>\n",
       "      <td>1990183</td>\n",
       "      <td>25.21</td>\n",
       "      <td>0.00</td>\n",
       "      <td>4907</td>\n",
       "    </tr>\n",
       "    <tr>\n",
       "      <th>1</th>\n",
       "      <td>Самовывоз из пункта выдачи</td>\n",
       "      <td>4098</td>\n",
       "      <td>3.08</td>\n",
       "      <td>1143.23</td>\n",
       "      <td>11299595</td>\n",
       "      <td>3.82</td>\n",
       "      <td>1035.89</td>\n",
       "      <td>11618794</td>\n",
       "      <td>319199</td>\n",
       "      <td>-107.34</td>\n",
       "      <td>0.74</td>\n",
       "      <td>3476</td>\n",
       "    </tr>\n",
       "    <tr>\n",
       "      <th>2</th>\n",
       "      <td>Курьер: стандартная доставка</td>\n",
       "      <td>2037</td>\n",
       "      <td>4.17</td>\n",
       "      <td>1100.00</td>\n",
       "      <td>8004407</td>\n",
       "      <td>4.37</td>\n",
       "      <td>1061.91</td>\n",
       "      <td>10630204</td>\n",
       "      <td>2625797</td>\n",
       "      <td>-38.09</td>\n",
       "      <td>0.20</td>\n",
       "      <td>2655</td>\n",
       "    </tr>\n",
       "    <tr>\n",
       "      <th>3</th>\n",
       "      <td>Самовывоз, доставка в магазин</td>\n",
       "      <td>900</td>\n",
       "      <td>2.33</td>\n",
       "      <td>1278.74</td>\n",
       "      <td>2248101</td>\n",
       "      <td>2.61</td>\n",
       "      <td>1224.02</td>\n",
       "      <td>2855396</td>\n",
       "      <td>607295</td>\n",
       "      <td>-54.72</td>\n",
       "      <td>0.28</td>\n",
       "      <td>1055</td>\n",
       "    </tr>\n",
       "    <tr>\n",
       "      <th>4</th>\n",
       "      <td>Доставка из магазина в ПВЗ</td>\n",
       "      <td>788</td>\n",
       "      <td>2.26</td>\n",
       "      <td>1588.62</td>\n",
       "      <td>2179653</td>\n",
       "      <td>2.33</td>\n",
       "      <td>1625.83</td>\n",
       "      <td>2204011</td>\n",
       "      <td>24358</td>\n",
       "      <td>37.21</td>\n",
       "      <td>0.07</td>\n",
       "      <td>729</td>\n",
       "    </tr>\n",
       "    <tr>\n",
       "      <th>5</th>\n",
       "      <td>Курьер: ускоренная доставка</td>\n",
       "      <td>608</td>\n",
       "      <td>2.24</td>\n",
       "      <td>1564.65</td>\n",
       "      <td>1734485</td>\n",
       "      <td>2.32</td>\n",
       "      <td>1544.19</td>\n",
       "      <td>2479759</td>\n",
       "      <td>745274</td>\n",
       "      <td>-20.46</td>\n",
       "      <td>0.08</td>\n",
       "      <td>860</td>\n",
       "    </tr>\n",
       "    <tr>\n",
       "      <th>6</th>\n",
       "      <td>самовывоз PickPoint</td>\n",
       "      <td>484</td>\n",
       "      <td>2.92</td>\n",
       "      <td>1248.66</td>\n",
       "      <td>1354579</td>\n",
       "      <td>3.73</td>\n",
       "      <td>1060.26</td>\n",
       "      <td>941810</td>\n",
       "      <td>-412769</td>\n",
       "      <td>-188.40</td>\n",
       "      <td>0.81</td>\n",
       "      <td>293</td>\n",
       "    </tr>\n",
       "  </tbody>\n",
       "</table>\n",
       "</div>"
      ],
      "text/plain": [
       "                     name_delivery  all_orders_old  mean_UPT_old  \\\n",
       "0  Самовывоз с примеркой в магазин            4179          1.66   \n",
       "1       Самовывоз из пункта выдачи            4098          3.08   \n",
       "2     Курьер: стандартная доставка            2037          4.17   \n",
       "3    Самовывоз, доставка в магазин             900          2.33   \n",
       "4       Доставка из магазина в ПВЗ             788          2.26   \n",
       "5      Курьер: ускоренная доставка             608          2.24   \n",
       "6              самовывоз PickPoint             484          2.92   \n",
       "\n",
       "   mean_ASP_old  all_sales_old  mean_UPT  mean_ASP  all_sales  diff_sales  \\\n",
       "0       1463.16        9123065      1.66   1488.37   11113248     1990183   \n",
       "1       1143.23       11299595      3.82   1035.89   11618794      319199   \n",
       "2       1100.00        8004407      4.37   1061.91   10630204     2625797   \n",
       "3       1278.74        2248101      2.61   1224.02    2855396      607295   \n",
       "4       1588.62        2179653      2.33   1625.83    2204011       24358   \n",
       "5       1564.65        1734485      2.32   1544.19    2479759      745274   \n",
       "6       1248.66        1354579      3.73   1060.26     941810     -412769   \n",
       "\n",
       "   diff_ASP  diff_UPT  all_orders_new  \n",
       "0     25.21      0.00            4907  \n",
       "1   -107.34      0.74            3476  \n",
       "2    -38.09      0.20            2655  \n",
       "3    -54.72      0.28            1055  \n",
       "4     37.21      0.07             729  \n",
       "5    -20.46      0.08             860  \n",
       "6   -188.40      0.81             293  "
      ]
     },
     "execution_count": 99,
     "metadata": {},
     "output_type": "execute_result"
    }
   ],
   "source": [
    "full_data_delivery"
   ]
  },
  {
   "cell_type": "code",
   "execution_count": 74,
   "id": "9e75a896-5136-475a-a309-1f5f5e3703c4",
   "metadata": {},
   "outputs": [],
   "source": [
    "# колонка с разницей среднего количества товара в чеке\n",
    "full_mean_delivery['diff_UPT'] = full_mean_delivery['mean_UPT'] - full_mean_delivery['mean_UPT_old']"
   ]
  },
  {
   "cell_type": "code",
   "execution_count": 73,
   "id": "ddbea44a-f33b-44ad-a5db-84bfacd23000",
   "metadata": {},
   "outputs": [],
   "source": [
    "# колонка с разницей средней стоимости товара в чеке\n",
    "full_mean_delivery['diff_ASP'] = full_mean_delivery['mean_ASP'] - full_mean_delivery['mean_ASP_old']"
   ]
  },
  {
   "cell_type": "code",
   "execution_count": 72,
   "id": "e39f0ee5-fae7-4b07-b490-f0282e6bf0cd",
   "metadata": {},
   "outputs": [],
   "source": [
    "# разница стоимости товара до поднятия цен и после\n",
    "full_mean_delivery['diff_sales'] = full_mean_delivery['all_sales'] - full_mean_delivery['all_sales_old']"
   ]
  },
  {
   "cell_type": "code",
   "execution_count": 71,
   "id": "a609f7b5-5124-47ea-814e-0df1262127c3",
   "metadata": {},
   "outputs": [
    {
     "data": {
      "text/plain": [
       "(41843222, 35943885, 5899337)"
      ]
     },
     "execution_count": 71,
     "metadata": {},
     "output_type": "execute_result"
    }
   ],
   "source": [
    "# выручка после поднятия цен, до поднятия цен, разница между ними\n",
    "data_delivery_new['sales_rub'].sum(), data_delivery_old['sales_rub'].sum(), data_delivery_new['sales_rub'].sum() - data_delivery_old['sales_rub'].sum()"
   ]
  },
  {
   "cell_type": "code",
   "execution_count": 98,
   "id": "5ddcdef2-e031-4bad-ae4a-2007d70cf565",
   "metadata": {},
   "outputs": [
    {
     "data": {
      "text/html": [
       "<div>\n",
       "<style scoped>\n",
       "    .dataframe tbody tr th:only-of-type {\n",
       "        vertical-align: middle;\n",
       "    }\n",
       "\n",
       "    .dataframe tbody tr th {\n",
       "        vertical-align: top;\n",
       "    }\n",
       "\n",
       "    .dataframe thead th {\n",
       "        text-align: right;\n",
       "    }\n",
       "</style>\n",
       "<table border=\"1\" class=\"dataframe\">\n",
       "  <thead>\n",
       "    <tr style=\"text-align: right;\">\n",
       "      <th></th>\n",
       "      <th>name_delivery</th>\n",
       "      <th>all_orders_old</th>\n",
       "      <th>all_orders_new</th>\n",
       "    </tr>\n",
       "  </thead>\n",
       "  <tbody>\n",
       "    <tr>\n",
       "      <th>0</th>\n",
       "      <td>Самовывоз с примеркой в магазин</td>\n",
       "      <td>4179</td>\n",
       "      <td>4907</td>\n",
       "    </tr>\n",
       "    <tr>\n",
       "      <th>1</th>\n",
       "      <td>Самовывоз из пункта выдачи</td>\n",
       "      <td>4098</td>\n",
       "      <td>3476</td>\n",
       "    </tr>\n",
       "    <tr>\n",
       "      <th>2</th>\n",
       "      <td>Курьер: стандартная доставка</td>\n",
       "      <td>2037</td>\n",
       "      <td>2655</td>\n",
       "    </tr>\n",
       "    <tr>\n",
       "      <th>3</th>\n",
       "      <td>Самовывоз, доставка в магазин</td>\n",
       "      <td>900</td>\n",
       "      <td>1055</td>\n",
       "    </tr>\n",
       "    <tr>\n",
       "      <th>4</th>\n",
       "      <td>Доставка из магазина в ПВЗ</td>\n",
       "      <td>788</td>\n",
       "      <td>729</td>\n",
       "    </tr>\n",
       "    <tr>\n",
       "      <th>5</th>\n",
       "      <td>Курьер: ускоренная доставка</td>\n",
       "      <td>608</td>\n",
       "      <td>860</td>\n",
       "    </tr>\n",
       "    <tr>\n",
       "      <th>6</th>\n",
       "      <td>самовывоз PickPoint</td>\n",
       "      <td>484</td>\n",
       "      <td>293</td>\n",
       "    </tr>\n",
       "  </tbody>\n",
       "</table>\n",
       "</div>"
      ],
      "text/plain": [
       "                     name_delivery  all_orders_old  all_orders_new\n",
       "0  Самовывоз с примеркой в магазин            4179            4907\n",
       "1       Самовывоз из пункта выдачи            4098            3476\n",
       "2     Курьер: стандартная доставка            2037            2655\n",
       "3    Самовывоз, доставка в магазин             900            1055\n",
       "4       Доставка из магазина в ПВЗ             788             729\n",
       "5      Курьер: ускоренная доставка             608             860\n",
       "6              самовывоз PickPoint             484             293"
      ]
     },
     "execution_count": 98,
     "metadata": {},
     "output_type": "execute_result"
    }
   ],
   "source": [
    "# количество заказов до поднятия цен и после\n",
    "full_data_delivery[['name_delivery', 'all_orders_old', 'all_orders_new']]"
   ]
  },
  {
   "cell_type": "markdown",
   "id": "e83b14d9-2553-4739-b872-65792ce6259d",
   "metadata": {},
   "source": [
    "### Промежуточные выводы: \n",
    "Среднее количество товаров в чеке незначительно увеличилось на всех позициях доставок,а в некоторых видах таких как: Самовывоз из пункта выдачи, самовывоз PickPoint среднее количество товаров возрасло на 0.74 и 0.81 соответственно, то есть примерно на 1 товар в чеке стало больше. Учитывая, что в совокупности на каждой позиции доставок увеличилось среднее число товаров в чеке, то средняя стоимость 1 товара в чеке после поднятия цен уменьшилась. Общая выручка в разрезе по способу доставки составляла до повышения цен 35943885 рублей, а после 41843222, прибыль после поднятия цен составила 5899337 рублей. Больше всего выручки принёс способ стандартная доставка, а также самовывоз с примеркой в магазин, меньшую прибыль принёс способ доставка из магазина в ПВЗ, способ самовывоз PickPoint был убыточен по сравнению с периодом до поднятия цен, разница между ними составила 412769 рублей.\n",
    "Количество заказов также после поднятия цен увеличилось, исключения составляют только позиции доставки: Самовывоз из пункта выдачи, Доставка из магазина в ПВЗ, самовывоз PickPoint. Также нужно учитывать, что за меньший срок почти все рассмотренные метрики после повышения порога на бесплатную доставку возросли."
   ]
  },
  {
   "cell_type": "markdown",
   "id": "6307300f-b8b6-4e62-89fd-7f7618560936",
   "metadata": {},
   "source": [
    "### Далее посмотрим на количество заказов с бесплатной доставкой, до поднятия порога и после, посчитаем конверсию из платной доставки в бесплатную в теже периоды, подготовим выводы."
   ]
  },
  {
   "cell_type": "code",
   "execution_count": 115,
   "id": "32a82a0e-41b8-4387-bac7-fce48504ffcf",
   "metadata": {},
   "outputs": [],
   "source": [
    "# таблица с бесплатной доставкой после поднятия порога, так как ускоренная доставка на любую сумму бесплатна, мы её исключим\n",
    "free_delivery_new = data_delivery_new.query(\"name_delivery != 'Курьер: ускоренная доставка' and sales_rub >= 3000\")"
   ]
  },
  {
   "cell_type": "code",
   "execution_count": 142,
   "id": "30df36d6-e4a0-432c-83f9-988aacd12747",
   "metadata": {},
   "outputs": [],
   "source": [
    "# таблица с бесплатной доставкой до поднятия, по тем же причинам исключим ускоренную доставку\n",
    "free_delivery_old = data_delivery_old.query(\"sales_rub >= 1500 and name_delivery != 'Курьер: ускоренная доставка'\")"
   ]
  },
  {
   "cell_type": "markdown",
   "id": "4a264dc6-a1f8-4734-824e-e73a196bbc35",
   "metadata": {},
   "source": [
    "### Преобразуем наши данные, для подсчёта коэффицента конверсии из платной доставки в бесплатную в разрезе по способу доставки\n",
    "\n",
    "**1. период после поднятия порога цены на бесплатную доставку**"
   ]
  },
  {
   "cell_type": "code",
   "execution_count": 131,
   "id": "48ba3d9e-6eb6-49c4-8b45-6f6085baeb3f",
   "metadata": {},
   "outputs": [],
   "source": [
    "grouped_delivery_new = free_delivery_new.groupby('name_delivery', as_index=False).agg(uniq_orders = ('num_order', 'nunique'))"
   ]
  },
  {
   "cell_type": "code",
   "execution_count": 134,
   "id": "3824bd09-4fd8-439d-81f2-9ee9c65b1c29",
   "metadata": {},
   "outputs": [],
   "source": [
    "grouped_delivery_new['koef_in_free'] = (grouped_delivery_new['uniq_orders'] / data_delivery_new['num_order'].nunique()) * 100"
   ]
  },
  {
   "cell_type": "code",
   "execution_count": 146,
   "id": "be694244-ee1d-44c5-846e-616f21641f17",
   "metadata": {},
   "outputs": [
    {
     "data": {
      "text/plain": [
       "60.82761180181851"
      ]
     },
     "execution_count": 146,
     "metadata": {},
     "output_type": "execute_result"
    }
   ],
   "source": [
    "# общий коэффициент конверсии из бесплатной доставки в платную\n",
    "free_delivery_new['num_order'].nunique() / data_delivery_new['num_order'].nunique() * 100"
   ]
  },
  {
   "cell_type": "code",
   "execution_count": 155,
   "id": "11534bed-5c70-426c-b2c2-e5248fa1cf86",
   "metadata": {},
   "outputs": [
    {
     "data": {
      "text/html": [
       "<div>\n",
       "<style scoped>\n",
       "    .dataframe tbody tr th:only-of-type {\n",
       "        vertical-align: middle;\n",
       "    }\n",
       "\n",
       "    .dataframe tbody tr th {\n",
       "        vertical-align: top;\n",
       "    }\n",
       "\n",
       "    .dataframe thead th {\n",
       "        text-align: right;\n",
       "    }\n",
       "</style>\n",
       "<table border=\"1\" class=\"dataframe\">\n",
       "  <thead>\n",
       "    <tr style=\"text-align: right;\">\n",
       "      <th></th>\n",
       "      <th>name_delivery</th>\n",
       "      <th>uniq_orders_free_new</th>\n",
       "      <th>koef_in_free</th>\n",
       "    </tr>\n",
       "  </thead>\n",
       "  <tbody>\n",
       "    <tr>\n",
       "      <th>0</th>\n",
       "      <td>Доставка из магазина в ПВЗ</td>\n",
       "      <td>235</td>\n",
       "      <td>4.360735</td>\n",
       "    </tr>\n",
       "    <tr>\n",
       "      <th>1</th>\n",
       "      <td>Курьер: стандартная доставка</td>\n",
       "      <td>1381</td>\n",
       "      <td>25.626276</td>\n",
       "    </tr>\n",
       "    <tr>\n",
       "      <th>2</th>\n",
       "      <td>Самовывоз из пункта выдачи</td>\n",
       "      <td>1384</td>\n",
       "      <td>25.681945</td>\n",
       "    </tr>\n",
       "    <tr>\n",
       "      <th>3</th>\n",
       "      <td>Самовывоз с примеркой в магазин</td>\n",
       "      <td>902</td>\n",
       "      <td>16.737799</td>\n",
       "    </tr>\n",
       "    <tr>\n",
       "      <th>4</th>\n",
       "      <td>Самовывоз, доставка в магазин</td>\n",
       "      <td>287</td>\n",
       "      <td>5.325663</td>\n",
       "    </tr>\n",
       "    <tr>\n",
       "      <th>5</th>\n",
       "      <td>самовывоз PickPoint</td>\n",
       "      <td>135</td>\n",
       "      <td>2.505103</td>\n",
       "    </tr>\n",
       "  </tbody>\n",
       "</table>\n",
       "</div>"
      ],
      "text/plain": [
       "                     name_delivery  uniq_orders_free_new  koef_in_free\n",
       "0       Доставка из магазина в ПВЗ                   235      4.360735\n",
       "1     Курьер: стандартная доставка                  1381     25.626276\n",
       "2       Самовывоз из пункта выдачи                  1384     25.681945\n",
       "3  Самовывоз с примеркой в магазин                   902     16.737799\n",
       "4    Самовывоз, доставка в магазин                   287      5.325663\n",
       "5              самовывоз PickPoint                   135      2.505103"
      ]
     },
     "execution_count": 155,
     "metadata": {},
     "output_type": "execute_result"
    }
   ],
   "source": [
    "# данные с коэффициентом конверсии в разрезе по способу доставки\n",
    "grouped_delivery_new = grouped_delivery_new.rename(columns={'uniq_orders' : 'uniq_orders_free_new'})\n",
    "grouped_delivery_new"
   ]
  },
  {
   "cell_type": "markdown",
   "id": "93a2d4d6-6368-42cc-b2e1-53ccb475f7cd",
   "metadata": {},
   "source": [
    "**2. период до поднятия порога цены на бесплатную доставку**"
   ]
  },
  {
   "cell_type": "code",
   "execution_count": 143,
   "id": "4f8778aa-a66e-4c43-b10c-2182220ddba0",
   "metadata": {},
   "outputs": [],
   "source": [
    "grouped_delivery_old = free_delivery_old.groupby('name_delivery', as_index=False).agg(uniq_orders = ('num_order', 'nunique'))"
   ]
  },
  {
   "cell_type": "code",
   "execution_count": 144,
   "id": "721915e3-bfc8-427a-a165-26736daefbca",
   "metadata": {},
   "outputs": [],
   "source": [
    "grouped_delivery_old['koef_in_free_old'] = (grouped_delivery_old['uniq_orders'] / data_delivery_old['num_order'].nunique()) * 100"
   ]
  },
  {
   "cell_type": "code",
   "execution_count": 148,
   "id": "bb0a8a2e-5dd1-4154-ac1c-6e3829550a0e",
   "metadata": {},
   "outputs": [
    {
     "data": {
      "text/plain": [
       "87.81143574117225"
      ]
     },
     "execution_count": 148,
     "metadata": {},
     "output_type": "execute_result"
    }
   ],
   "source": [
    "# общий коэффициент конверсии из бесплатной доставки в платную\n",
    "free_delivery_old['num_order'].nunique() / data_delivery_old['num_order'].nunique() * 100"
   ]
  },
  {
   "cell_type": "code",
   "execution_count": 153,
   "id": "e3146601-fb88-4bea-9237-fe806afbef95",
   "metadata": {},
   "outputs": [],
   "source": [
    "grouped_delivery_old = grouped_delivery_old.rename(columns={'uniq_orders' : 'free_uniq_orders'})"
   ]
  },
  {
   "cell_type": "code",
   "execution_count": 159,
   "id": "783e4a42-b74e-489c-9458-a5e6f3b19d08",
   "metadata": {},
   "outputs": [],
   "source": [
    "# соединим наши данные для наглядности сравнения\n",
    "all_free_uniq_orders = grouped_delivery_old.merge(grouped_delivery_new, on = 'name_delivery')"
   ]
  },
  {
   "cell_type": "code",
   "execution_count": 160,
   "id": "de813504-a3d6-4df2-984c-fe0a340c05ea",
   "metadata": {},
   "outputs": [
    {
     "data": {
      "text/html": [
       "<div>\n",
       "<style scoped>\n",
       "    .dataframe tbody tr th:only-of-type {\n",
       "        vertical-align: middle;\n",
       "    }\n",
       "\n",
       "    .dataframe tbody tr th {\n",
       "        vertical-align: top;\n",
       "    }\n",
       "\n",
       "    .dataframe thead th {\n",
       "        text-align: right;\n",
       "    }\n",
       "</style>\n",
       "<table border=\"1\" class=\"dataframe\">\n",
       "  <thead>\n",
       "    <tr style=\"text-align: right;\">\n",
       "      <th></th>\n",
       "      <th>name_delivery</th>\n",
       "      <th>free_uniq_orders</th>\n",
       "      <th>koef_in_free_old</th>\n",
       "      <th>uniq_orders_free_new</th>\n",
       "      <th>koef_in_free</th>\n",
       "    </tr>\n",
       "  </thead>\n",
       "  <tbody>\n",
       "    <tr>\n",
       "      <th>0</th>\n",
       "      <td>Доставка из магазина в ПВЗ</td>\n",
       "      <td>725</td>\n",
       "      <td>12.995160</td>\n",
       "      <td>235</td>\n",
       "      <td>4.360735</td>\n",
       "    </tr>\n",
       "    <tr>\n",
       "      <th>1</th>\n",
       "      <td>Курьер: стандартная доставка</td>\n",
       "      <td>1513</td>\n",
       "      <td>27.119555</td>\n",
       "      <td>1381</td>\n",
       "      <td>25.626276</td>\n",
       "    </tr>\n",
       "    <tr>\n",
       "      <th>2</th>\n",
       "      <td>Самовывоз из пункта выдачи</td>\n",
       "      <td>2559</td>\n",
       "      <td>45.868435</td>\n",
       "      <td>1384</td>\n",
       "      <td>25.681945</td>\n",
       "    </tr>\n",
       "    <tr>\n",
       "      <th>3</th>\n",
       "      <td>Самовывоз с примеркой в магазин</td>\n",
       "      <td>1978</td>\n",
       "      <td>35.454383</td>\n",
       "      <td>902</td>\n",
       "      <td>16.737799</td>\n",
       "    </tr>\n",
       "    <tr>\n",
       "      <th>4</th>\n",
       "      <td>Самовывоз, доставка в магазин</td>\n",
       "      <td>547</td>\n",
       "      <td>9.804624</td>\n",
       "      <td>287</td>\n",
       "      <td>5.325663</td>\n",
       "    </tr>\n",
       "    <tr>\n",
       "      <th>5</th>\n",
       "      <td>самовывоз PickPoint</td>\n",
       "      <td>365</td>\n",
       "      <td>6.542391</td>\n",
       "      <td>135</td>\n",
       "      <td>2.505103</td>\n",
       "    </tr>\n",
       "  </tbody>\n",
       "</table>\n",
       "</div>"
      ],
      "text/plain": [
       "                     name_delivery  free_uniq_orders  koef_in_free_old  \\\n",
       "0       Доставка из магазина в ПВЗ               725         12.995160   \n",
       "1     Курьер: стандартная доставка              1513         27.119555   \n",
       "2       Самовывоз из пункта выдачи              2559         45.868435   \n",
       "3  Самовывоз с примеркой в магазин              1978         35.454383   \n",
       "4    Самовывоз, доставка в магазин               547          9.804624   \n",
       "5              самовывоз PickPoint               365          6.542391   \n",
       "\n",
       "   uniq_orders_free_new  koef_in_free  \n",
       "0                   235      4.360735  \n",
       "1                  1381     25.626276  \n",
       "2                  1384     25.681945  \n",
       "3                   902     16.737799  \n",
       "4                   287      5.325663  \n",
       "5                   135      2.505103  "
      ]
     },
     "execution_count": 160,
     "metadata": {},
     "output_type": "execute_result"
    }
   ],
   "source": [
    "all_free_uniq_orders"
   ]
  },
  {
   "cell_type": "markdown",
   "id": "41678e72-a0ce-4be4-8533-e3f3f4c68392",
   "metadata": {},
   "source": [
    "### Выводы:\n",
    "1. установлено, что общая конверсия из платной доставки в платную до периода поднятия порога на бесплатную доставку составляла 87.81%, а в периоде после 60.83%, что значительно меньше.\n",
    "2. также коэффициенты конверсии в разрезе по способу доставки в период до поднятия порога по всем пунктам выше чем в период после.\n",
    "3. количество уникальных заказов с бесплатной доставкой также значительно больше в период до поднятия порога на доставку.\n",
    "4. учитывая ранее сделанные выводы можно предположить, что в целом покупатели стали чаще покупать больше товаров в магазине, на большую сумму, но чаще общий заказ составляет менее 3000 рублей, выше которого идёт бесплатная доставка, т.е. продолжили пользоваться интернет магазином, даже чаще, но с использованием платной доставки.\n",
    "5. также на основании данных не совсем корректно стоит делать общий выводы, так как количество, стимость, проводимые акции в интрнет магазине зависят от сезонности, праздников, в связи с чем, имея больше данных, можно сделать более правильные и глубокие выводы, для оценки периода и влияние на метрик поднятие порога цены на бесплатную доставку."
   ]
  }
 ],
 "metadata": {
  "kernelspec": {
   "display_name": "Python 3 (ipykernel)",
   "language": "python",
   "name": "python3"
  },
  "language_info": {
   "codemirror_mode": {
    "name": "ipython",
    "version": 3
   },
   "file_extension": ".py",
   "mimetype": "text/x-python",
   "name": "python",
   "nbconvert_exporter": "python",
   "pygments_lexer": "ipython3",
   "version": "3.11.5"
  }
 },
 "nbformat": 4,
 "nbformat_minor": 5
}
